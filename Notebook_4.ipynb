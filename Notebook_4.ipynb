{
  "nbformat": 4,
  "nbformat_minor": 0,
  "metadata": {
    "kernelspec": {
      "display_name": "Python 3",
      "language": "python",
      "name": "python3"
    },
    "language_info": {
      "codemirror_mode": {
        "name": "ipython",
        "version": 3
      },
      "file_extension": ".py",
      "mimetype": "text/x-python",
      "name": "python",
      "nbconvert_exporter": "python",
      "pygments_lexer": "ipython3",
      "version": "3.7.3"
    },
    "colab": {
      "provenance": [],
      "collapsed_sections": [
        "LgagIme5f-qU"
      ]
    }
  },
  "cells": [
    {
      "cell_type": "markdown",
      "metadata": {
        "id": "t8vdSjYo1uV6"
      },
      "source": [
        "# Numpy"
      ]
    },
    {
      "cell_type": "markdown",
      "source": [
        "NumPy é uma biblioteca Python que fornece uma estrutura de dados simples mas poderosa: a matriz n-dimensional. Esta é a base sobre a qual quase todo o poder do kit de ferramentas de ciência de dados Python é construído, e aprender NumPy é o primeiro passo na jornada de qualquer cientista de dados Python."
      ],
      "metadata": {
        "id": "DGDLtszKJi53"
      }
    },
    {
      "cell_type": "markdown",
      "source": [
        "**Numpy** significa **Numerical Python** e é um pacote para cálculos numéricos baseado em objetos chamados de Arrays (matrizes).  Também serve de base para a construção de pacotes como o Pandas, muito utilizado em projetos de Data Science.\n",
        "\n",
        "Como vimos anteriormente, em Python temos as listas que servem ao propósito de arrays, mas são lentas de processar.\n",
        "\n",
        "A biblioteca NumPy fornece um objeto de array que é até 50x mais rápido do que as listas Python tradicionais.\n",
        "\n",
        "O objeto array em NumPy é chamado de **ndarray**, ele fornece muitas funções de suporte que tornam o trabalho com ndarray muito fácil.\n",
        "\n",
        "Arrays são muito freqüentemente usados na ciência dos dados, onde a velocidade e os recursos são muito importantes."
      ],
      "metadata": {
        "id": "8J12JzwvGHAH"
      }
    },
    {
      "cell_type": "code",
      "source": [
        "# instalando o Numpy\n",
        "\n",
        "!pip install numpy"
      ],
      "metadata": {
        "id": "vLO0CfRsHCBV",
        "colab": {
          "base_uri": "https://localhost:8080/"
        },
        "outputId": "81bd24da-815b-415b-abc1-d54577e437ca"
      },
      "execution_count": 2,
      "outputs": [
        {
          "output_type": "stream",
          "name": "stdout",
          "text": [
            "Looking in indexes: https://pypi.org/simple, https://us-python.pkg.dev/colab-wheels/public/simple/\n",
            "Requirement already satisfied: numpy in /usr/local/lib/python3.7/dist-packages (1.21.6)\n"
          ]
        }
      ]
    },
    {
      "cell_type": "markdown",
      "source": [
        "Importando a biblioteca numpy"
      ],
      "metadata": {
        "id": "-TjS-NoF-zxy"
      }
    },
    {
      "cell_type": "code",
      "source": [
        "import numpy as np "
      ],
      "metadata": {
        "id": "ZjHmVwVHElbK"
      },
      "execution_count": 3,
      "outputs": []
    },
    {
      "cell_type": "code",
      "metadata": {
        "id": "D1QJXpuD0Pau",
        "colab": {
          "base_uri": "https://localhost:8080/"
        },
        "outputId": "186e54ef-715b-4cd3-d34f-a82fb21655a5"
      },
      "source": [
        "# Vamos criar um ARRAY\n",
        "\n",
        "arr = np.array([0, 1, 2, 3])\n",
        "print (arr)"
      ],
      "execution_count": 4,
      "outputs": [
        {
          "output_type": "stream",
          "name": "stdout",
          "text": [
            "[0 1 2 3]\n"
          ]
        }
      ]
    },
    {
      "cell_type": "code",
      "source": [
        "type(arr)"
      ],
      "metadata": {
        "colab": {
          "base_uri": "https://localhost:8080/"
        },
        "id": "3YCsBoo2_iNM",
        "outputId": "c71428de-5333-451a-b170-36f6cede97de"
      },
      "execution_count": 5,
      "outputs": [
        {
          "output_type": "execute_result",
          "data": {
            "text/plain": [
              "numpy.ndarray"
            ]
          },
          "metadata": {},
          "execution_count": 5
        }
      ]
    },
    {
      "cell_type": "markdown",
      "source": [
        "Exemplos de usos de um array:\n",
        "\n",
        "matrizes contendo:\n",
        "* valores de um experimento/simulação em tempos discretos;\n",
        "* sinal gravado por um equipamento de medição, por exemplo, ondas sonoras;\n",
        "* pixels de uma imagem, escala de cinza ou coloridos;"
      ],
      "metadata": {
        "id": "6A5FhpxqMK3J"
      }
    },
    {
      "cell_type": "code",
      "source": [
        "# Criando arrays Unidimensionais\n",
        "\n",
        "a = np.array([0, 1, 2, 3])\n",
        "print(f\"array: {a}\")\n",
        "print(f\"Dimensões do array: {a.ndim}\")\n",
        "print(f\"Forma do array: {a.shape}\")"
      ],
      "metadata": {
        "colab": {
          "base_uri": "https://localhost:8080/"
        },
        "id": "qpn9YXVWNWbS",
        "outputId": "12779a54-f0d9-4f50-b7f2-a52aafc454fd"
      },
      "execution_count": 6,
      "outputs": [
        {
          "output_type": "stream",
          "name": "stdout",
          "text": [
            "array: [0 1 2 3]\n",
            "Dimensões do array: 1\n",
            "Forma do array: (4,)\n"
          ]
        }
      ]
    },
    {
      "cell_type": "code",
      "source": [
        "# Criando arrays Bidimensionais\n",
        "\n",
        "b = np.array([[0, 1, 2], [3, 4, 5]])    # 2 x 3 array\n",
        "print(f\"array: {b}\")\n",
        "print(f\"Dimensões do array: {b.ndim}\")\n",
        "print(f\"Forma do array: {b.shape}\")"
      ],
      "metadata": {
        "colab": {
          "base_uri": "https://localhost:8080/"
        },
        "id": "m91MYzL9Nqq5",
        "outputId": "f4f3416f-de3d-4196-ef1a-593c823a1b12"
      },
      "execution_count": 7,
      "outputs": [
        {
          "output_type": "stream",
          "name": "stdout",
          "text": [
            "array: [[0 1 2]\n",
            " [3 4 5]]\n",
            "Dimensões do array: 2\n",
            "Forma do array: (2, 3)\n"
          ]
        }
      ]
    },
    {
      "cell_type": "code",
      "source": [
        "# Criando arrays espaçados igualmente\n",
        "\n",
        "a = np.arange(10) # 0 .. n-1\n",
        "print(a)\n",
        "b = np.arange(1, 9, 2) # início, fim (exclusive), passo\n",
        "print(b)"
      ],
      "metadata": {
        "colab": {
          "base_uri": "https://localhost:8080/"
        },
        "id": "U0fQYpNBQllN",
        "outputId": "83928df0-bfab-40b3-a1d9-d3723aee2c26"
      },
      "execution_count": 8,
      "outputs": [
        {
          "output_type": "stream",
          "name": "stdout",
          "text": [
            "[0 1 2 3 4 5 6 7 8 9]\n",
            "[1 3 5 7]\n"
          ]
        }
      ]
    },
    {
      "cell_type": "code",
      "source": [
        "#Criando arrays por quantidade de pontos\n",
        "\n",
        "c = np.linspace(0, 1, 5)   # início, fim, número de pontos\n",
        "print(c)\n",
        "d = np.linspace(0, 1, 5, endpoint=False)\n",
        "print(d)"
      ],
      "metadata": {
        "colab": {
          "base_uri": "https://localhost:8080/"
        },
        "id": "G9ObuD90x9y5",
        "outputId": "5e2c66de-492b-480e-b103-58451ab41cf1"
      },
      "execution_count": 9,
      "outputs": [
        {
          "output_type": "stream",
          "name": "stdout",
          "text": [
            "[0.   0.25 0.5  0.75 1.  ]\n",
            "[0.  0.2 0.4 0.6 0.8]\n"
          ]
        }
      ]
    },
    {
      "cell_type": "code",
      "source": [
        "#Matriz de \"uns\"\n",
        "a = np.ones((3, 3))  # lembrete: (3, 3) é uma tupla\n",
        "print(a, \"\\n\")\n",
        "\n",
        "#Matriz de zeros\n",
        "b = np.zeros((2, 2))\n",
        "print(b,\"\\n\")\n",
        "\n",
        "#Matriz Identidade\n",
        "c = np.eye(3)\n",
        "print(c, \"\\n\")\n",
        "\n",
        "#Matriz Digonal\n",
        "d = np.diag(np.array([1, 2, 3, 4]))\n",
        "print(d)"
      ],
      "metadata": {
        "colab": {
          "base_uri": "https://localhost:8080/"
        },
        "id": "SePoxM6ByaN1",
        "outputId": "33cfda29-a1ec-46cf-de4f-8c25a016ed31"
      },
      "execution_count": 10,
      "outputs": [
        {
          "output_type": "stream",
          "name": "stdout",
          "text": [
            "[[1. 1. 1.]\n",
            " [1. 1. 1.]\n",
            " [1. 1. 1.]] \n",
            "\n",
            "[[0. 0.]\n",
            " [0. 0.]] \n",
            "\n",
            "[[1. 0. 0.]\n",
            " [0. 1. 0.]\n",
            " [0. 0. 1.]] \n",
            "\n",
            "[[1 0 0 0]\n",
            " [0 2 0 0]\n",
            " [0 0 3 0]\n",
            " [0 0 0 4]]\n"
          ]
        }
      ]
    },
    {
      "cell_type": "markdown",
      "source": [
        "Identificando os Tipos de Dados de um array"
      ],
      "metadata": {
        "id": "vYzqJ01NzzFI"
      }
    },
    {
      "cell_type": "code",
      "source": [
        "a = np.array([1, 2, 3])\n",
        "print(a.dtype)\n",
        "\n",
        "b = np.array([1., 2., 3.])\n",
        "print(b.dtype)"
      ],
      "metadata": {
        "colab": {
          "base_uri": "https://localhost:8080/"
        },
        "id": "7JmhWtR2z8tV",
        "outputId": "3fe4d3bb-e139-466c-83fa-7234b92dbc51"
      },
      "execution_count": 11,
      "outputs": [
        {
          "output_type": "stream",
          "name": "stdout",
          "text": [
            "int64\n",
            "float64\n"
          ]
        }
      ]
    },
    {
      "cell_type": "code",
      "source": [
        "type(a) # identifica o objeto array"
      ],
      "metadata": {
        "colab": {
          "base_uri": "https://localhost:8080/"
        },
        "id": "Rwz1dR7Q_3ZE",
        "outputId": "aab2cb7b-c109-4bfd-d89c-6c1c7b628a05"
      },
      "execution_count": 12,
      "outputs": [
        {
          "output_type": "execute_result",
          "data": {
            "text/plain": [
              "numpy.ndarray"
            ]
          },
          "metadata": {},
          "execution_count": 12
        }
      ]
    },
    {
      "cell_type": "code",
      "metadata": {
        "id": "qQIc7cm01lNF",
        "colab": {
          "base_uri": "https://localhost:8080/"
        },
        "outputId": "45c803a7-cf1d-4ec8-eb58-15f366f1a3b8"
      },
      "source": [
        "#Especificando o tipo de dado desejado\n",
        "\n",
        "lista = [1, 6, 2, 3, 5, 4]\n",
        "a_lista = np.array(lista, dtype=\"float\")\n",
        "print(a_lista.dtype)"
      ],
      "execution_count": 13,
      "outputs": [
        {
          "output_type": "stream",
          "name": "stdout",
          "text": [
            "float64\n"
          ]
        }
      ]
    },
    {
      "cell_type": "code",
      "metadata": {
        "id": "b1hK5kGK171K",
        "colab": {
          "base_uri": "https://localhost:8080/"
        },
        "outputId": "aded74d8-7a08-4f04-b706-88be9d03a952"
      },
      "source": [
        "a_lista"
      ],
      "execution_count": 14,
      "outputs": [
        {
          "output_type": "execute_result",
          "data": {
            "text/plain": [
              "array([1., 6., 2., 3., 5., 4.])"
            ]
          },
          "metadata": {},
          "execution_count": 14
        }
      ]
    },
    {
      "cell_type": "code",
      "metadata": {
        "colab": {
          "base_uri": "https://localhost:8080/"
        },
        "id": "sDeGU0Zg3LBt",
        "outputId": "8fc9b75d-585c-4c8f-e1ef-4caf0a524e7d"
      },
      "source": [
        "a_lista.shape  # retorna uma tupla com as dimensões do array"
      ],
      "execution_count": 15,
      "outputs": [
        {
          "output_type": "execute_result",
          "data": {
            "text/plain": [
              "(6,)"
            ]
          },
          "metadata": {},
          "execution_count": 15
        }
      ]
    },
    {
      "cell_type": "code",
      "metadata": {
        "colab": {
          "base_uri": "https://localhost:8080/"
        },
        "id": "1jSkqwmf3ypo",
        "outputId": "fa31d74d-af51-4853-da6e-0def18859275"
      },
      "source": [
        "a_lista.max(axis=0)  # retorna o valor máximo no eixo designado"
      ],
      "execution_count": 16,
      "outputs": [
        {
          "output_type": "execute_result",
          "data": {
            "text/plain": [
              "6.0"
            ]
          },
          "metadata": {},
          "execution_count": 16
        }
      ]
    },
    {
      "cell_type": "code",
      "source": [
        "#Modificando a estrutura de um array\n",
        "\n",
        "a_lista = a_lista.reshape(2,3)\n",
        "a_lista"
      ],
      "metadata": {
        "colab": {
          "base_uri": "https://localhost:8080/"
        },
        "id": "k7XFDwhK0h84",
        "outputId": "ee9d4a99-9141-48dc-b544-060729b3bde0"
      },
      "execution_count": 17,
      "outputs": [
        {
          "output_type": "execute_result",
          "data": {
            "text/plain": [
              "array([[1., 6., 2.],\n",
              "       [3., 5., 4.]])"
            ]
          },
          "metadata": {},
          "execution_count": 17
        }
      ]
    },
    {
      "cell_type": "code",
      "metadata": {
        "colab": {
          "base_uri": "https://localhost:8080/"
        },
        "id": "_tMLRa9a5z95",
        "outputId": "e3033118-e40d-440f-8fc6-8de8c65929e9"
      },
      "source": [
        "a_lista.max(axis=1)  #eixo 1 ---> colunas"
      ],
      "execution_count": 18,
      "outputs": [
        {
          "output_type": "execute_result",
          "data": {
            "text/plain": [
              "array([6., 5.])"
            ]
          },
          "metadata": {},
          "execution_count": 18
        }
      ]
    },
    {
      "cell_type": "code",
      "source": [
        "a_lista.max(axis=0)  #eixo 0 ---> linhas"
      ],
      "metadata": {
        "colab": {
          "base_uri": "https://localhost:8080/"
        },
        "id": "KF1dVOp210NE",
        "outputId": "c612022a-4887-4ee4-9c16-8281d600e51a"
      },
      "execution_count": 19,
      "outputs": [
        {
          "output_type": "execute_result",
          "data": {
            "text/plain": [
              "array([3., 6., 4.])"
            ]
          },
          "metadata": {},
          "execution_count": 19
        }
      ]
    },
    {
      "cell_type": "code",
      "metadata": {
        "colab": {
          "base_uri": "https://localhost:8080/"
        },
        "id": "WOxRnX8B6Npf",
        "outputId": "4e40fa52-8375-4c20-a413-8371b2b4c65c"
      },
      "source": [
        "a_lista.sum()"
      ],
      "execution_count": 20,
      "outputs": [
        {
          "output_type": "execute_result",
          "data": {
            "text/plain": [
              "21.0"
            ]
          },
          "metadata": {},
          "execution_count": 20
        }
      ]
    },
    {
      "cell_type": "code",
      "metadata": {
        "colab": {
          "base_uri": "https://localhost:8080/"
        },
        "id": "yGBHX1tx6Rx7",
        "outputId": "0c1b5dfb-c05d-4912-fca6-28acb0b355f1"
      },
      "source": [
        "a_lista.sum(axis=0)"
      ],
      "execution_count": 21,
      "outputs": [
        {
          "output_type": "execute_result",
          "data": {
            "text/plain": [
              "array([ 4., 11.,  6.])"
            ]
          },
          "metadata": {},
          "execution_count": 21
        }
      ]
    },
    {
      "cell_type": "code",
      "metadata": {
        "colab": {
          "base_uri": "https://localhost:8080/"
        },
        "id": "TiCN3opC6YB8",
        "outputId": "b690f81d-e44a-4fb7-9c74-8079b6322875"
      },
      "source": [
        "a_lista.sum(axis=1)"
      ],
      "execution_count": 22,
      "outputs": [
        {
          "output_type": "execute_result",
          "data": {
            "text/plain": [
              "array([ 9., 12.])"
            ]
          },
          "metadata": {},
          "execution_count": 22
        }
      ]
    },
    {
      "cell_type": "code",
      "metadata": {
        "id": "C5QdZJcm6Z0X",
        "colab": {
          "base_uri": "https://localhost:8080/"
        },
        "outputId": "db6dad37-ab34-4f56-e71c-612ad139db85"
      },
      "source": [
        "esticado = a_lista.flatten()\n",
        "esticado"
      ],
      "execution_count": 23,
      "outputs": [
        {
          "output_type": "execute_result",
          "data": {
            "text/plain": [
              "array([1., 6., 2., 3., 5., 4.])"
            ]
          },
          "metadata": {},
          "execution_count": 23
        }
      ]
    },
    {
      "cell_type": "code",
      "metadata": {
        "colab": {
          "base_uri": "https://localhost:8080/"
        },
        "id": "NbyPTVrF6lUa",
        "outputId": "798ce065-b8e0-4063-cd83-207b381c1e1d"
      },
      "source": [
        "esticado.reshape(6, 1)"
      ],
      "execution_count": 24,
      "outputs": [
        {
          "output_type": "execute_result",
          "data": {
            "text/plain": [
              "array([[1.],\n",
              "       [6.],\n",
              "       [2.],\n",
              "       [3.],\n",
              "       [5.],\n",
              "       [4.]])"
            ]
          },
          "metadata": {},
          "execution_count": 24
        }
      ]
    },
    {
      "cell_type": "code",
      "metadata": {
        "colab": {
          "base_uri": "https://localhost:8080/"
        },
        "id": "asi6Lxnv68b_",
        "outputId": "aa28bdd3-bbfe-4ffe-b92c-ef35ac0f2b4d"
      },
      "source": [
        "esticado.reshape(2, -1) #colocamos o -1 para que o numpy encontre o melhor arranjo"
      ],
      "execution_count": 25,
      "outputs": [
        {
          "output_type": "execute_result",
          "data": {
            "text/plain": [
              "array([[1., 6., 2.],\n",
              "       [3., 5., 4.]])"
            ]
          },
          "metadata": {},
          "execution_count": 25
        }
      ]
    },
    {
      "cell_type": "code",
      "metadata": {
        "colab": {
          "base_uri": "https://localhost:8080/"
        },
        "id": "n_mFcYDO7vZL",
        "outputId": "9005eec4-ade0-4e72-c68a-60eac886f115"
      },
      "source": [
        "esticado.reshape(-1, 2)"
      ],
      "execution_count": 30,
      "outputs": [
        {
          "output_type": "execute_result",
          "data": {
            "text/plain": [
              "array([[1., 6.],\n",
              "       [2., 3.],\n",
              "       [5., 4.]])"
            ]
          },
          "metadata": {},
          "execution_count": 30
        }
      ]
    },
    {
      "cell_type": "code",
      "source": [
        "# Sorting\n",
        "\n",
        "arr = np.array([3, 2, 0, 1])\n",
        "\n",
        "np.sort(arr)"
      ],
      "metadata": {
        "colab": {
          "base_uri": "https://localhost:8080/"
        },
        "id": "50WvTt_PF8Yx",
        "outputId": "6bc0a1f6-2c97-4860-c9f8-500eeb09656f"
      },
      "execution_count": 32,
      "outputs": [
        {
          "output_type": "execute_result",
          "data": {
            "text/plain": [
              "array([0, 1, 2, 3])"
            ]
          },
          "metadata": {},
          "execution_count": 32
        }
      ]
    },
    {
      "cell_type": "code",
      "source": [
        "#Sorting Strings\n",
        "\n",
        "arr = np.array(['banana', 'cherry', 'apple'])\n",
        "\n",
        "np.sort(arr)"
      ],
      "metadata": {
        "colab": {
          "base_uri": "https://localhost:8080/"
        },
        "id": "YNLZKAtnGCYB",
        "outputId": "d4671a14-e8c6-4e8e-d9c2-783d8e5cbde9"
      },
      "execution_count": 33,
      "outputs": [
        {
          "output_type": "execute_result",
          "data": {
            "text/plain": [
              "array(['apple', 'banana', 'cherry'], dtype='<U6')"
            ]
          },
          "metadata": {},
          "execution_count": 33
        }
      ]
    },
    {
      "cell_type": "code",
      "source": [
        "# CONCATENATE\n",
        "\n",
        "arr1 = np.array([1, 2, 3])\n",
        "\n",
        "arr2 = np.array([4, 5, 6])\n",
        "\n",
        "arr = np.concatenate((arr1, arr2))\n",
        "\n",
        "print(arr)"
      ],
      "metadata": {
        "colab": {
          "base_uri": "https://localhost:8080/"
        },
        "id": "r5W-hFoaGQkp",
        "outputId": "9c3d7bb2-5caa-4f26-872d-61299c5e6a26"
      },
      "execution_count": 34,
      "outputs": [
        {
          "output_type": "stream",
          "name": "stdout",
          "text": [
            "[1 2 3 4 5 6]\n"
          ]
        }
      ]
    },
    {
      "cell_type": "code",
      "source": [
        "# CONCATENATE\n",
        "\n",
        "arr1 = np.array([[1, 2], [3, 4]])\n",
        "\n",
        "arr2 = np.array([[5, 6], [7, 8]])\n",
        "\n",
        "arr = np.concatenate((arr1, arr2), axis=1)\n",
        "\n",
        "print(arr)"
      ],
      "metadata": {
        "colab": {
          "base_uri": "https://localhost:8080/"
        },
        "id": "n6PkUleKGVzs",
        "outputId": "f4cffb00-505a-4e6a-ce90-c3e170c1c953"
      },
      "execution_count": 35,
      "outputs": [
        {
          "output_type": "stream",
          "name": "stdout",
          "text": [
            "[[1 2 5 6]\n",
            " [3 4 7 8]]\n"
          ]
        }
      ]
    },
    {
      "cell_type": "code",
      "metadata": {
        "colab": {
          "base_uri": "https://localhost:8080/"
        },
        "id": "OJFrQ_ym78_p",
        "outputId": "e6357f3b-79ef-4441-87f8-d2034a858040"
      },
      "source": [
        "arr.mean()"
      ],
      "execution_count": 44,
      "outputs": [
        {
          "output_type": "execute_result",
          "data": {
            "text/plain": [
              "4.5"
            ]
          },
          "metadata": {},
          "execution_count": 44
        }
      ]
    },
    {
      "cell_type": "code",
      "metadata": {
        "colab": {
          "base_uri": "https://localhost:8080/"
        },
        "id": "fFRx7s-18Tr4",
        "outputId": "123bab3f-1da6-4571-ab71-0d862f7860f0"
      },
      "source": [
        "np.median(arr)"
      ],
      "execution_count": 45,
      "outputs": [
        {
          "output_type": "execute_result",
          "data": {
            "text/plain": [
              "4.5"
            ]
          },
          "metadata": {},
          "execution_count": 45
        }
      ]
    },
    {
      "cell_type": "markdown",
      "metadata": {
        "id": "mzKLU6XIiSul"
      },
      "source": [
        "* Funções universais"
      ]
    },
    {
      "cell_type": "markdown",
      "source": [
        "**numpy.randn( )**"
      ],
      "metadata": {
        "id": "ozcPwArAX_nK"
      }
    },
    {
      "cell_type": "code",
      "metadata": {
        "id": "7YorGUZSvz2G",
        "colab": {
          "base_uri": "https://localhost:8080/"
        },
        "outputId": "211aba81-359c-4900-95d3-94801945e292"
      },
      "source": [
        "# Retorna um array nas dimensões indicadas com distribuição normal (média=0, variância =1)\n",
        "\n",
        "np.random.randn(3, 4)  "
      ],
      "execution_count": 47,
      "outputs": [
        {
          "output_type": "execute_result",
          "data": {
            "text/plain": [
              "array([[ 1.31161446, -0.08813292, -1.79524034, -0.04069715],\n",
              "       [-0.46815297,  0.51084933,  1.18263333, -1.0003261 ],\n",
              "       [ 0.42385272, -1.10741424, -1.17561094,  0.34874484]])"
            ]
          },
          "metadata": {},
          "execution_count": 47
        }
      ]
    },
    {
      "cell_type": "markdown",
      "source": [
        "**numpy.rand( )**"
      ],
      "metadata": {
        "id": "5p0V8G_JYPyE"
      }
    },
    {
      "cell_type": "code",
      "metadata": {
        "colab": {
          "base_uri": "https://localhost:8080/"
        },
        "id": "ykFGFLHjC2aQ",
        "outputId": "7c96322f-3a76-40e0-e1fc-be6f05342f16"
      },
      "source": [
        "# Cria um array nas dimensões indicadas com uma distribuição uniforme no intervalo [0, 1).\n",
        "\n",
        "np.random.rand(3, 4) "
      ],
      "execution_count": 48,
      "outputs": [
        {
          "output_type": "execute_result",
          "data": {
            "text/plain": [
              "array([[0.9839535 , 0.31428824, 0.6133556 , 0.79414641],\n",
              "       [0.95398136, 0.77907159, 0.38552405, 0.18948407],\n",
              "       [0.97838376, 0.55755775, 0.5678595 , 0.13348199]])"
            ]
          },
          "metadata": {},
          "execution_count": 48
        }
      ]
    },
    {
      "cell_type": "markdown",
      "source": [
        "**randint( )**"
      ],
      "metadata": {
        "id": "w-t9a6wAYH-O"
      }
    },
    {
      "cell_type": "code",
      "metadata": {
        "colab": {
          "base_uri": "https://localhost:8080/"
        },
        "id": "7g6h2xasC795",
        "outputId": "79b2f04a-857d-47a4-8e9e-60fb99f6e119"
      },
      "source": [
        "# Retorna inteiro aletório no intervalo indicado: inferior(inclusivo) até superior (exclusivo)\n",
        "\n",
        "np.random.randint(1,10) "
      ],
      "execution_count": 50,
      "outputs": [
        {
          "output_type": "execute_result",
          "data": {
            "text/plain": [
              "5"
            ]
          },
          "metadata": {},
          "execution_count": 50
        }
      ]
    },
    {
      "cell_type": "code",
      "source": [
        "# Aqui, definimos o tamanho do array que queremos retornar com números aleatórios. Os dois primeiros números\n",
        "#indicam o intervalo desejado\n",
        "\n",
        "np.random.randint(5,15, size=(2, 4)) "
      ],
      "metadata": {
        "colab": {
          "base_uri": "https://localhost:8080/"
        },
        "id": "frSBlkRuXsPO",
        "outputId": "62f88c19-feb7-474b-fcc9-cddc9b18ae41"
      },
      "execution_count": 55,
      "outputs": [
        {
          "output_type": "execute_result",
          "data": {
            "text/plain": [
              "array([[10, 11, 14,  6],\n",
              "       [ 9,  5, 11,  5]])"
            ]
          },
          "metadata": {},
          "execution_count": 55
        }
      ]
    },
    {
      "cell_type": "code",
      "source": [
        "# O primeiro argumento define o valor máximo (exclusivo) de cada elemento para a criação do array\n",
        "\n",
        "np.random.randint(5, size=10)"
      ],
      "metadata": {
        "colab": {
          "base_uri": "https://localhost:8080/"
        },
        "id": "htxOxJUtXyLc",
        "outputId": "79e519be-e593-403e-e280-72d35519c0ae"
      },
      "execution_count": 57,
      "outputs": [
        {
          "output_type": "execute_result",
          "data": {
            "text/plain": [
              "array([0, 1, 1, 0, 4, 2, 3, 4, 1, 2])"
            ]
          },
          "metadata": {},
          "execution_count": 57
        }
      ]
    },
    {
      "cell_type": "markdown",
      "source": [
        "## Indexing & Slicing"
      ],
      "metadata": {
        "id": "JNWrWx645od5"
      }
    },
    {
      "cell_type": "code",
      "source": [
        "a = np.arange(10)  # arange() no Numpy!!!\n",
        "print(a, \"\\n\")\n",
        "print(a[0])\n",
        "print(a[2])\n",
        "print(a[-1])"
      ],
      "metadata": {
        "colab": {
          "base_uri": "https://localhost:8080/"
        },
        "id": "HIgnJCf45xi4",
        "outputId": "9f741fa9-66f5-4a81-8059-b23f13a28622"
      },
      "execution_count": 58,
      "outputs": [
        {
          "output_type": "stream",
          "name": "stdout",
          "text": [
            "[0 1 2 3 4 5 6 7 8 9] \n",
            "\n",
            "0\n",
            "2\n",
            "9\n"
          ]
        }
      ]
    },
    {
      "cell_type": "markdown",
      "source": [
        "Note que:\n",
        "\n",
        "* Em 2D, a primeira dimensão corresponde às linhas e a segunda às colunas;\n",
        "* Para o array multidimensional a, a[0] é interpretado pegando-se todos os elementos da dimensão não especificada."
      ],
      "metadata": {
        "id": "EkTjtFCe66OL"
      }
    },
    {
      "cell_type": "markdown",
      "source": [
        "### Slicing\n",
        "\n",
        "Como acontece com qualquer sequência do Python, arrays também podem ser cortadas (slicing)\n",
        "\n",
        "* **Lembrem-se que  indexação em Python começa em 0**"
      ],
      "metadata": {
        "id": "7Sgc3_bfOdul"
      }
    },
    {
      "cell_type": "markdown",
      "source": [
        "Slicing em python significa retirar elementos de uma estrutura de dados (lista, array, dataframe, tupla, set)\n",
        "\n",
        "* Passamos a fatia (slice), ao invés do índice desta forma: [start:end]\n",
        "\n",
        "* Também podemos definir o step desta forma: [start:end:step].\n",
        "\n",
        "* Se não passarmos o início, o default é 0\n",
        "\n",
        "* Se não passarmos o final, o tamanho do array é o default\n",
        "\n",
        "* Se não passarmos o step, o valor 1 é o default"
      ],
      "metadata": {
        "id": "-ID8UkuOc9VG"
      }
    },
    {
      "cell_type": "markdown",
      "source": [
        "**Atenção: O resultado INCLUI o start index, mas EXCLUI o end index**"
      ],
      "metadata": {
        "id": "gFfXw9P5eWsC"
      }
    },
    {
      "cell_type": "code",
      "source": [
        "a = np.arange(10)*2  # criamos o array\n",
        "print(a, \"\\n\")"
      ],
      "metadata": {
        "colab": {
          "base_uri": "https://localhost:8080/"
        },
        "id": "B5IzNL-JObzA",
        "outputId": "bb358484-0d6b-4e30-a5ed-b253e2a968a5"
      },
      "execution_count": 59,
      "outputs": [
        {
          "output_type": "stream",
          "name": "stdout",
          "text": [
            "[ 0  2  4  6  8 10 12 14 16 18] \n",
            "\n"
          ]
        }
      ]
    },
    {
      "cell_type": "code",
      "source": [
        "# Extraindo elementos pelo índice (index)\n",
        "\n",
        "print(a[0])\n",
        "print(a[1])\n",
        "print(a[2])\n",
        "print(a[8])\n",
        "print(a[9])"
      ],
      "metadata": {
        "colab": {
          "base_uri": "https://localhost:8080/"
        },
        "id": "hJWwEEaKUdOP",
        "outputId": "13a84c61-246f-4e53-d530-e86f610c8a3c"
      },
      "execution_count": 60,
      "outputs": [
        {
          "output_type": "stream",
          "name": "stdout",
          "text": [
            "0\n",
            "2\n",
            "4\n",
            "16\n",
            "18\n"
          ]
        }
      ]
    },
    {
      "cell_type": "code",
      "source": [
        "# Slicing\n",
        "\n",
        "a[0:9] "
      ],
      "metadata": {
        "colab": {
          "base_uri": "https://localhost:8080/"
        },
        "id": "_toA8d6DTyAP",
        "outputId": "287f28d2-f20a-4c44-f523-39bab595a6b5"
      },
      "execution_count": 61,
      "outputs": [
        {
          "output_type": "execute_result",
          "data": {
            "text/plain": [
              "array([ 0,  2,  4,  6,  8, 10, 12, 14, 16])"
            ]
          },
          "metadata": {},
          "execution_count": 61
        }
      ]
    },
    {
      "cell_type": "code",
      "source": [
        "a[2:]"
      ],
      "metadata": {
        "colab": {
          "base_uri": "https://localhost:8080/"
        },
        "id": "L_rvnVEZUGqn",
        "outputId": "52bb3710-4c4d-4113-b380-718a1080a4f8"
      },
      "execution_count": 62,
      "outputs": [
        {
          "output_type": "execute_result",
          "data": {
            "text/plain": [
              "array([ 4,  6,  8, 10, 12, 14, 16, 18])"
            ]
          },
          "metadata": {},
          "execution_count": 62
        }
      ]
    },
    {
      "cell_type": "code",
      "source": [
        "a[2:9:2]    # [início:fim:incremento]"
      ],
      "metadata": {
        "colab": {
          "base_uri": "https://localhost:8080/"
        },
        "id": "pI2REWa-Tb4m",
        "outputId": "f42c531c-088c-4e23-e0ea-779f8e088e2b"
      },
      "execution_count": 63,
      "outputs": [
        {
          "output_type": "execute_result",
          "data": {
            "text/plain": [
              "array([ 4,  8, 12, 16])"
            ]
          },
          "metadata": {},
          "execution_count": 63
        }
      ]
    },
    {
      "cell_type": "code",
      "source": [
        "a[:4] # do início (:) até o elemento anterior ao index 4"
      ],
      "metadata": {
        "colab": {
          "base_uri": "https://localhost:8080/"
        },
        "id": "LPNuWC1uO3mY",
        "outputId": "afa38581-e275-4d77-8a2d-a84ae730de3d"
      },
      "execution_count": 64,
      "outputs": [
        {
          "output_type": "execute_result",
          "data": {
            "text/plain": [
              "array([0, 2, 4, 6])"
            ]
          },
          "metadata": {},
          "execution_count": 64
        }
      ]
    },
    {
      "cell_type": "code",
      "source": [
        "a[1:3]"
      ],
      "metadata": {
        "colab": {
          "base_uri": "https://localhost:8080/"
        },
        "id": "o7KiaPOTPEbp",
        "outputId": "fc1c176d-e359-4dd4-998a-df9633324674"
      },
      "execution_count": 65,
      "outputs": [
        {
          "output_type": "execute_result",
          "data": {
            "text/plain": [
              "array([2, 4])"
            ]
          },
          "metadata": {},
          "execution_count": 65
        }
      ]
    },
    {
      "cell_type": "code",
      "source": [
        "a[:] # do início ao fim do array"
      ],
      "metadata": {
        "colab": {
          "base_uri": "https://localhost:8080/"
        },
        "id": "8dInU38sPGKg",
        "outputId": "07b81a75-ae1e-4e8f-efbb-6440143f37dd"
      },
      "execution_count": 67,
      "outputs": [
        {
          "output_type": "execute_result",
          "data": {
            "text/plain": [
              "array([ 0,  2,  4,  6,  8, 10, 12, 14, 16, 18])"
            ]
          },
          "metadata": {},
          "execution_count": 67
        }
      ]
    },
    {
      "cell_type": "code",
      "source": [
        "a[::2] # do início ao fim do array com passo de 2"
      ],
      "metadata": {
        "colab": {
          "base_uri": "https://localhost:8080/"
        },
        "id": "sjuN42V0RvmR",
        "outputId": "5b43b15d-1a89-46b3-dc6e-e5ef6d0e7403"
      },
      "execution_count": 70,
      "outputs": [
        {
          "output_type": "execute_result",
          "data": {
            "text/plain": [
              "array([ 0,  4,  8, 12, 16])"
            ]
          },
          "metadata": {},
          "execution_count": 70
        }
      ]
    },
    {
      "cell_type": "code",
      "source": [
        "novo_arr = a[3:]  "
      ],
      "metadata": {
        "id": "ycc5krAgPGB2"
      },
      "execution_count": 71,
      "outputs": []
    },
    {
      "cell_type": "code",
      "source": [
        "novo_arr\n"
      ],
      "metadata": {
        "colab": {
          "base_uri": "https://localhost:8080/"
        },
        "id": "gHXHD7xZ7nMq",
        "outputId": "bba7a62d-1e63-41a6-da3b-410e797de49f"
      },
      "execution_count": 72,
      "outputs": [
        {
          "output_type": "execute_result",
          "data": {
            "text/plain": [
              "array([ 6,  8, 10, 12, 14, 16, 18])"
            ]
          },
          "metadata": {},
          "execution_count": 72
        }
      ]
    },
    {
      "cell_type": "markdown",
      "source": [
        "Atenção!!! Uma operação de corte cria uma visualização do array original, a qual é apenas uma forma de se acessar dos dados da array. Assim, a matriz original não é copiada na memória."
      ],
      "metadata": {
        "id": "DdJhrsbaQL7d"
      }
    },
    {
      "cell_type": "markdown",
      "metadata": {
        "id": "0cR4lnd4rUJp"
      },
      "source": [
        "### Mais um pouquinho de Slicing: 2-D Arrays"
      ]
    },
    {
      "cell_type": "markdown",
      "source": [
        "### Exemplo: \n",
        "\n",
        "Do segundo elemento, fatie os elementos do índice 1 ao índice 4 (não incluído):\n",
        "\n"
      ],
      "metadata": {
        "id": "LgagIme5f-qU"
      }
    },
    {
      "cell_type": "code",
      "source": [
        "arr = np.array([[1, 2, 3, 4, 5], [6, 7, 8, 9, 10]])\n",
        "print(arr, \"\\n\")\n",
        "\n",
        "print(arr[1, 1:4])  #lembre que o segundo elemento possui índice 1"
      ],
      "metadata": {
        "colab": {
          "base_uri": "https://localhost:8080/"
        },
        "id": "brEZD6iHf7lN",
        "outputId": "65dd4d00-e0e8-4a76-ceb0-3885e7dfce3a"
      },
      "execution_count": 73,
      "outputs": [
        {
          "output_type": "stream",
          "name": "stdout",
          "text": [
            "[[ 1  2  3  4  5]\n",
            " [ 6  7  8  9 10]] \n",
            "\n",
            "[7 8 9]\n"
          ]
        }
      ]
    },
    {
      "cell_type": "code",
      "source": [
        "matriz = np.array([[1,2,3],[6,5,4],[8,7,9]])\n",
        "matriz"
      ],
      "metadata": {
        "colab": {
          "base_uri": "https://localhost:8080/"
        },
        "id": "Y8FmN5eCPa_B",
        "outputId": "c33e329b-61d2-4540-e131-ff72a97733bb"
      },
      "execution_count": 74,
      "outputs": [
        {
          "output_type": "execute_result",
          "data": {
            "text/plain": [
              "array([[1, 2, 3],\n",
              "       [6, 5, 4],\n",
              "       [8, 7, 9]])"
            ]
          },
          "metadata": {},
          "execution_count": 74
        }
      ]
    },
    {
      "cell_type": "code",
      "source": [
        "matriz[:]"
      ],
      "metadata": {
        "colab": {
          "base_uri": "https://localhost:8080/"
        },
        "id": "L1c8343xRqbQ",
        "outputId": "342eed42-effd-4918-b351-985eae89ed06"
      },
      "execution_count": 76,
      "outputs": [
        {
          "output_type": "execute_result",
          "data": {
            "text/plain": [
              "array([[1, 2, 3],\n",
              "       [6, 5, 4],\n",
              "       [8, 7, 9]])"
            ]
          },
          "metadata": {},
          "execution_count": 76
        }
      ]
    },
    {
      "cell_type": "code",
      "source": [
        "matriz[0, 1]  # da linha de índice 0, pegue o elemento de índice 1, ou seja, da coluna 1"
      ],
      "metadata": {
        "colab": {
          "base_uri": "https://localhost:8080/"
        },
        "id": "HjZsNaqeQy3S",
        "outputId": "a10ba645-fd63-4da8-a2d9-ad0eb1f543da"
      },
      "execution_count": 77,
      "outputs": [
        {
          "output_type": "execute_result",
          "data": {
            "text/plain": [
              "2"
            ]
          },
          "metadata": {},
          "execution_count": 77
        }
      ]
    },
    {
      "cell_type": "code",
      "metadata": {
        "id": "kJTCrCeFiqRM",
        "colab": {
          "base_uri": "https://localhost:8080/"
        },
        "outputId": "78b784b0-d5d0-4f6e-b44b-cedd3c5ae5a6"
      },
      "source": [
        "matriz[[0, 1], 1] # das linhas 0 e 1, pegue os elementos da coluna 1"
      ],
      "execution_count": 78,
      "outputs": [
        {
          "output_type": "execute_result",
          "data": {
            "text/plain": [
              "array([2, 5])"
            ]
          },
          "metadata": {},
          "execution_count": 78
        }
      ]
    },
    {
      "cell_type": "code",
      "metadata": {
        "colab": {
          "base_uri": "https://localhost:8080/"
        },
        "id": "dNrWVhS3-BwE",
        "outputId": "45637f05-6713-42eb-8bf2-79e5048f891f"
      },
      "source": [
        "matriz[0:2, 1]  # da linha de indice 0 até a linha de indice 2, pegue os elementos da coluna 1"
      ],
      "execution_count": 79,
      "outputs": [
        {
          "output_type": "execute_result",
          "data": {
            "text/plain": [
              "array([2, 5])"
            ]
          },
          "metadata": {},
          "execution_count": 79
        }
      ]
    },
    {
      "cell_type": "code",
      "source": [
        "matriz[0:2, 0:2] # da linha de indice 0 até a linha de indice 2, pegue os elementos da coluna de indice 0 até a coluna de indice 2"
      ],
      "metadata": {
        "id": "rPCVG3lmlWKH",
        "colab": {
          "base_uri": "https://localhost:8080/"
        },
        "outputId": "cdead305-8a08-4b2d-85a2-120ba0d04d0e"
      },
      "execution_count": 80,
      "outputs": [
        {
          "output_type": "execute_result",
          "data": {
            "text/plain": [
              "array([[1, 2],\n",
              "       [6, 5]])"
            ]
          },
          "metadata": {},
          "execution_count": 80
        }
      ]
    },
    {
      "cell_type": "code",
      "metadata": {
        "id": "iIIh4jgy-hSk",
        "colab": {
          "base_uri": "https://localhost:8080/"
        },
        "outputId": "3a88c369-a4a7-4655-8e3b-9a20d7bbd2e8"
      },
      "source": [
        "matriz[:, 2:]"
      ],
      "execution_count": 81,
      "outputs": [
        {
          "output_type": "execute_result",
          "data": {
            "text/plain": [
              "array([[3],\n",
              "       [4],\n",
              "       [9]])"
            ]
          },
          "metadata": {},
          "execution_count": 81
        }
      ]
    },
    {
      "cell_type": "markdown",
      "metadata": {
        "id": "-d8hVyC9iMul"
      },
      "source": [
        "* Operações com Ndarray"
      ]
    },
    {
      "cell_type": "code",
      "metadata": {
        "id": "UQwiS1_l72qU",
        "colab": {
          "base_uri": "https://localhost:8080/"
        },
        "outputId": "b502c6a2-f530-421e-98b7-1116a0a57188"
      },
      "source": [
        "[1,2,3,4] * 5   # lista"
      ],
      "execution_count": 84,
      "outputs": [
        {
          "output_type": "execute_result",
          "data": {
            "text/plain": [
              "[1, 2, 3, 4, 1, 2, 3, 4, 1, 2, 3, 4, 1, 2, 3, 4, 1, 2, 3, 4]"
            ]
          },
          "metadata": {},
          "execution_count": 84
        }
      ]
    },
    {
      "cell_type": "code",
      "metadata": {
        "colab": {
          "base_uri": "https://localhost:8080/"
        },
        "id": "pgI4rh_MB15A",
        "outputId": "679c84b5-bbdd-4763-801f-130b89ef4925"
      },
      "source": [
        "np.array([1,2,3,4]) * 5    # ARRAY"
      ],
      "execution_count": 85,
      "outputs": [
        {
          "output_type": "execute_result",
          "data": {
            "text/plain": [
              "array([ 5, 10, 15, 20])"
            ]
          },
          "metadata": {},
          "execution_count": 85
        }
      ]
    },
    {
      "cell_type": "code",
      "metadata": {
        "id": "Q-bZSUBCj5yz",
        "colab": {
          "base_uri": "https://localhost:8080/"
        },
        "outputId": "ed1a776c-cd8a-4958-8da2-92c69b178a0e"
      },
      "source": [
        "np.array([1,2,3,4]) + 5"
      ],
      "execution_count": 86,
      "outputs": [
        {
          "output_type": "execute_result",
          "data": {
            "text/plain": [
              "array([6, 7, 8, 9])"
            ]
          },
          "metadata": {},
          "execution_count": 86
        }
      ]
    },
    {
      "cell_type": "code",
      "metadata": {
        "colab": {
          "base_uri": "https://localhost:8080/"
        },
        "id": "-_3VKdrkCHYS",
        "outputId": "518c0579-1efd-431f-8b1c-42efef2250ab"
      },
      "source": [
        "a = np.arange(8).reshape(4,-1)\n",
        "b = np.arange(8).reshape(4,-1)\n",
        "a + b"
      ],
      "execution_count": 95,
      "outputs": [
        {
          "output_type": "execute_result",
          "data": {
            "text/plain": [
              "array([[ 0,  2],\n",
              "       [ 4,  6],\n",
              "       [ 8, 10],\n",
              "       [12, 14]])"
            ]
          },
          "metadata": {},
          "execution_count": 95
        }
      ]
    }
  ]
}