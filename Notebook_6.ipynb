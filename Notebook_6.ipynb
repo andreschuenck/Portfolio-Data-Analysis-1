{
  "cells": [
    {
      "cell_type": "markdown",
      "source": [
        "Dêem uma olhada em: https://towardsdatascience.com/in-depth-pandas-tutorial-5d896483ba8a"
      ],
      "metadata": {
        "id": "AZy5INZd1fU2"
      }
    },
    {
      "cell_type": "markdown",
      "metadata": {
        "id": "oJDMpMKcrUIv"
      },
      "source": [
        "#PANDAS"
      ]
    },
    {
      "cell_type": "markdown",
      "source": [
        "* Pandas é uma biblioteca para manipular data sets e dataframes\n",
        "* Possui funções para analisar, limpar, explorar e manipular dados\n",
        "* O nome Pandas é uma referência a \"Panel Data\" e \"Python Data Analysis\" e foi criada por Wes McKinney em 2008"
      ],
      "metadata": {
        "id": "o2KuJerjHSGF"
      }
    },
    {
      "cell_type": "markdown",
      "source": [
        "Um jeito fácil de entender: Séries são colunas, Dataframes são tabelas ✨\n",
        "\n",
        "Na verdade, um Dataframe é formado por um conjunto de séries, cada uma delas sendo uma coluna da ‘tabela’."
      ],
      "metadata": {
        "id": "Y6tB08nekHu-"
      }
    },
    {
      "cell_type": "markdown",
      "metadata": {
        "id": "C5T1eZIyrUIw"
      },
      "source": [
        "## Instalação e importação da biblioteca Pandas"
      ]
    },
    {
      "cell_type": "code",
      "execution_count": null,
      "metadata": {
        "id": "0wY1TGkxgV1P"
      },
      "outputs": [],
      "source": [
        "!pip install pandas"
      ]
    },
    {
      "cell_type": "code",
      "execution_count": null,
      "metadata": {
        "id": "d5l2IiCXInxV"
      },
      "outputs": [],
      "source": [
        "import pandas as pd"
      ]
    },
    {
      "cell_type": "markdown",
      "source": [
        "##Lendo arquivos CSV  e TXT no Colab"
      ],
      "metadata": {
        "id": "0yLEh2ZUKouN"
      }
    },
    {
      "cell_type": "code",
      "execution_count": null,
      "metadata": {
        "id": "h0p67-LCnrA-"
      },
      "outputs": [],
      "source": [
        "# pd.read_csv()"
      ]
    },
    {
      "cell_type": "markdown",
      "source": [
        "### .txt"
      ],
      "metadata": {
        "id": "f1LOE_FzKxh-"
      }
    },
    {
      "cell_type": "code",
      "execution_count": null,
      "metadata": {
        "id": "43hK9EYwrUIy"
      },
      "outputs": [],
      "source": [
        "df = pd.read_csv(\"http://leg.ufpr.br/~walmes/data/euro_football_players.txt\" ,sep=\"\\t\", comment=\"#\")"
      ]
    },
    {
      "cell_type": "code",
      "source": [
        "df.sample(10) # retorna as 5 primeiras linhas do df"
      ],
      "metadata": {
        "id": "dA9gB2rdKiOH"
      },
      "execution_count": null,
      "outputs": []
    },
    {
      "cell_type": "markdown",
      "source": [
        "### .csv"
      ],
      "metadata": {
        "id": "2BQRIeOoK5LW"
      }
    },
    {
      "cell_type": "code",
      "execution_count": null,
      "metadata": {
        "id": "AQiCTpt2nsHX"
      },
      "outputs": [],
      "source": [
        "df_titanic = pd.read_csv(\"https://raw.githubusercontent.com/agconti/kaggle-titanic/master/data/train.csv\",)\n",
        "                         #names= ['Id','Sobreviveu','Pclass','Nome','Sexo','Idade', 'SibSp','Parch','Ticket','Fare','Cabin','Embarked'],\n",
        "                         #skiprows=1)\n",
        "df_titanic"
      ]
    },
    {
      "cell_type": "markdown",
      "source": [
        "Lugares onde este data set está:"
      ],
      "metadata": {
        "id": "tWY9K2Y3WCqd"
      }
    },
    {
      "cell_type": "markdown",
      "source": [
        "https://www.kaggle.com/c/titanic/data?select=train.csv"
      ],
      "metadata": {
        "id": "SmAK1LivVBDf"
      }
    },
    {
      "cell_type": "markdown",
      "source": [
        "https://github.com/agconti/kaggle-titanic/blob/master/data/train.csv"
      ],
      "metadata": {
        "id": "-X1hdA-vWAZF"
      }
    },
    {
      "cell_type": "markdown",
      "metadata": {
        "id": "r8bv1G3yrUIx"
      },
      "source": [
        "### Criar um DataFrame"
      ]
    },
    {
      "cell_type": "code",
      "execution_count": null,
      "metadata": {
        "id": "KjpbGqtVjQUN"
      },
      "outputs": [],
      "source": [
        "df_vazio = pd.DataFrame()\n",
        "df_vazio"
      ]
    },
    {
      "cell_type": "code",
      "execution_count": null,
      "metadata": {
        "id": "pv2pog-dg_cX"
      },
      "outputs": [],
      "source": [
        "df = pd.DataFrame([1, 10, 3], columns=[\"numero\"])\n",
        "df"
      ]
    },
    {
      "cell_type": "code",
      "execution_count": null,
      "metadata": {
        "id": "apNi05V5hYxv"
      },
      "outputs": [],
      "source": [
        "df = pd.DataFrame([[1,2], [3,4]], columns = (\"rendimento\", \"US$\"))\n",
        "df"
      ]
    },
    {
      "cell_type": "code",
      "execution_count": null,
      "metadata": {
        "id": "opu6lu_Ohccn"
      },
      "outputs": [],
      "source": [
        "df = pd.DataFrame([[1,2], [3,4]], columns=['a', 'b'])\n",
        "df"
      ]
    },
    {
      "cell_type": "code",
      "execution_count": null,
      "metadata": {
        "id": "akUrgnsThzqO"
      },
      "outputs": [],
      "source": [
        "#lista de listas\n",
        "\n",
        "df = pd.DataFrame([[\"Arthur\",30], [\"Gabriel\",22]], columns=['Nome', 'Idade'])\n",
        "df"
      ]
    },
    {
      "cell_type": "code",
      "execution_count": null,
      "metadata": {
        "id": "1i-z1ulFh8cO"
      },
      "outputs": [],
      "source": [
        "#Dicionário\n",
        "\n",
        "df_alunos = pd.DataFrame({\"Nome\": [\"Gabriel\", \"Ana\", \"Igor\"], \"Idade\": [22, 35, 24], \"Altura\": [1.90, 1.68, 1.75]})\n",
        "df_alunos"
      ]
    },
    {
      "cell_type": "markdown",
      "source": [
        "### Exemplo 1 - com DataFrame **\"data\"**"
      ],
      "metadata": {
        "id": "G4xpIPoDZZbs"
      }
    },
    {
      "cell_type": "code",
      "source": [
        "import numpy as np"
      ],
      "metadata": {
        "id": "2Xy6Oju4NuRK"
      },
      "execution_count": null,
      "outputs": []
    },
    {
      "cell_type": "code",
      "source": [
        "data = pd.DataFrame({'customer_id': [1,2,3,4,5,6,7,8,9,10,11,12,13,14,15], \n",
        "                     'age': [29,np.NaN,22,82,41,pd.NaT,63,57,45,18,np.NaN,29,74, np.NaN,60], \n",
        "                     'email_linked': [True,True,False,True,False,False,True,True, True,False, False, np.NaN, False, True, True],\n",
        "                     'occupation': ['teacher','highschool teacher','student','retired','tutor','unemployed','entrepreneur','professor', 'unemployed','unemployed','entrepreneur','professor','teacher','highschool teacher','student']})"
      ],
      "metadata": {
        "id": "5kSE_EyYZNv4"
      },
      "execution_count": null,
      "outputs": []
    },
    {
      "cell_type": "code",
      "source": [
        "data.head(6)  # mostra os 5 primeiros registros. Pode colocar o número de registros como argumento para outras quantidades"
      ],
      "metadata": {
        "id": "-2E190WSZQXY"
      },
      "execution_count": null,
      "outputs": []
    },
    {
      "cell_type": "code",
      "source": [
        "data.isnull()  # Detecta valores faltantes. Retorna booleana (True or False)"
      ],
      "metadata": {
        "id": "t_3nHuMLQ6LY"
      },
      "execution_count": null,
      "outputs": []
    },
    {
      "cell_type": "code",
      "source": [
        "# Retorna a soma dos valores nulos/ausentes encontrados\n",
        "\n",
        "data.isnull().sum()"
      ],
      "metadata": {
        "id": "_yRIPSVWrN8p"
      },
      "execution_count": null,
      "outputs": []
    },
    {
      "cell_type": "code",
      "source": [
        "# Excluindo todos os missing values do DataFrame\n",
        "\n",
        "data.dropna(inplace=True)"
      ],
      "metadata": {
        "id": "X0Sm_DORtbtq"
      },
      "execution_count": null,
      "outputs": []
    },
    {
      "cell_type": "code",
      "source": [
        "data.isnull().sum()  # testando se os valores faltantes foram excluídos"
      ],
      "metadata": {
        "id": "NgIeiB3KRWOO"
      },
      "execution_count": null,
      "outputs": []
    },
    {
      "cell_type": "code",
      "source": [
        "# Vamos criar um novo DataFrame chamado \"email_data\", a partir do DataFrame \"data\"\n",
        "\n",
        "#### Use colchetes duplos para indexar múltiplas colunas e colchetes simples para indexar uma única coluna ####\n",
        "\n",
        "email_data = data[['customer_id', 'email_linked']]  "
      ],
      "metadata": {
        "id": "mlM-I8H9Zu3C"
      },
      "execution_count": null,
      "outputs": []
    },
    {
      "cell_type": "code",
      "source": [
        "email_data.head(3)"
      ],
      "metadata": {
        "id": "qSQSZz9CPOUC"
      },
      "execution_count": null,
      "outputs": []
    },
    {
      "cell_type": "markdown",
      "source": [
        "Vamos escrever uma função para descobrirmos se o cliente é um educador: teacher, tutor ou professor"
      ],
      "metadata": {
        "id": "mHrew0ahat0Y"
      }
    },
    {
      "cell_type": "code",
      "source": [
        "data['occupation'].unique()\n"
      ],
      "metadata": {
        "id": "cSeMtBTwYsMm"
      },
      "execution_count": null,
      "outputs": []
    },
    {
      "cell_type": "code",
      "source": [
        "def is_educator(occupation):\n",
        "    return 'teacher' in (occupation.lower()) or (occupation.lower() in ['tutor', 'professor'])\n",
        "    "
      ],
      "metadata": {
        "id": "b1EwSd_Ea1tI"
      },
      "execution_count": null,
      "outputs": []
    },
    {
      "cell_type": "code",
      "source": [
        "'tutor' in ['tutor', 'professor']"
      ],
      "metadata": {
        "id": "3maRAJW2XpC6"
      },
      "execution_count": null,
      "outputs": []
    },
    {
      "cell_type": "code",
      "source": [
        "#occupation\n",
        "#teacher           V                             F                         V\n",
        "\n",
        "#tutor, \n",
        "#professor         F                             V                         V"
      ],
      "metadata": {
        "id": "-_qwGMI9ZJeY"
      },
      "execution_count": null,
      "outputs": []
    },
    {
      "cell_type": "code",
      "source": [
        "is_educator('TEAcher')"
      ],
      "metadata": {
        "id": "oBht-rUTWZ4w"
      },
      "execution_count": null,
      "outputs": []
    },
    {
      "cell_type": "markdown",
      "source": [
        "Agora que já sabemos que é educador, vamos criar uma nova coluna com estes dados"
      ],
      "metadata": {
        "id": "2XPFTIQmkONF"
      }
    },
    {
      "cell_type": "markdown",
      "source": [
        "* Uma alternativa ao uso dos loops é o método **.apply()**, do pandas\n",
        "* **.apply()** toma uma **função** como input e aplica esta função em todo o DataFrame ou a uma determinada coluna"
      ],
      "metadata": {
        "id": "8_6ezLuYZsaV"
      }
    },
    {
      "cell_type": "code",
      "source": [
        "# Exemplo\n",
        "\n",
        "df = pd.DataFrame([[4, 9]] * 3, columns=['A', 'B'])\n",
        "df"
      ],
      "metadata": {
        "id": "3k536xpmUfZX"
      },
      "execution_count": null,
      "outputs": []
    },
    {
      "cell_type": "code",
      "source": [
        "df.apply(np.sqrt)"
      ],
      "metadata": {
        "id": "bjR59WBzUnYr"
      },
      "execution_count": null,
      "outputs": []
    },
    {
      "cell_type": "code",
      "source": [
        "df.apply(np.sum, axis=0)"
      ],
      "metadata": {
        "id": "6hHOUTD2Uxdz"
      },
      "execution_count": null,
      "outputs": []
    },
    {
      "cell_type": "code",
      "source": [
        "df.apply(np.sum, axis=1)"
      ],
      "metadata": {
        "id": "q7_s1xavUzlD"
      },
      "execution_count": null,
      "outputs": []
    },
    {
      "cell_type": "code",
      "source": [
        "#Voltando ao dataset \"data\"\n",
        "\n",
        "data.head()"
      ],
      "metadata": {
        "id": "bM8jCO7kTWkF"
      },
      "execution_count": null,
      "outputs": []
    },
    {
      "cell_type": "code",
      "source": [
        "# df[\"nome_da_coluna\"]\n",
        "\n",
        "# df.nome_da_coluna "
      ],
      "metadata": {
        "id": "gJu1EmgoKn4b"
      },
      "execution_count": null,
      "outputs": []
    },
    {
      "cell_type": "code",
      "source": [
        "# Vamos criar a coluna 'is_educator'\n",
        "\n",
        "# e usar .apply() para aplicar a função is_educator a toda a coluna 'occupation'\n",
        "\n",
        "data['is_educator'] = data['occupation'].apply(is_educator)\n",
        "data.head()"
      ],
      "metadata": {
        "id": "nMq0Rzafb2n4"
      },
      "execution_count": null,
      "outputs": []
    },
    {
      "cell_type": "code",
      "source": [
        "data[\"is_educator\"]"
      ],
      "metadata": {
        "id": "9bVja_DQLlQR"
      },
      "execution_count": null,
      "outputs": []
    },
    {
      "cell_type": "code",
      "source": [
        "data[\"is_educator\"].sum()"
      ],
      "metadata": {
        "id": "RoNx_qutLTHC"
      },
      "execution_count": null,
      "outputs": []
    },
    {
      "cell_type": "code",
      "source": [
        "data['age'].dtype  # método para descobrirmos o tipo da variável de uma coluna"
      ],
      "metadata": {
        "id": "GF0wvNGHsbiI"
      },
      "execution_count": null,
      "outputs": []
    },
    {
      "cell_type": "markdown",
      "source": [
        "## GROUPBY"
      ],
      "metadata": {
        "id": "Ux1CWBLTy-w9"
      }
    },
    {
      "cell_type": "markdown",
      "source": [
        "Chama-se .groupby() e passa-se o nome da coluna que se pretende agrupar, que é \"occupation\". Depois, usa [\"age\"] para especificar a(s) coluna(s) nas quais pretende efetuar a agregação efetiva.\n",
        "\n",
        "Podemos passar muito mais do que apenas um nome de coluna para .groupby() como o primeiro argumento:\n",
        "\n",
        "* Uma lista com os nomes de múltiplas colunas\n",
        "* Um dicionário ou série\n",
        "* Um NumPy array "
      ],
      "metadata": {
        "id": "4Wk3uzkskeTb"
      }
    },
    {
      "cell_type": "markdown",
      "source": [
        "Podemos utilizar **groupby** para calcular a idade média para cada ocupação.\n",
        "* Dividir o DataFrame por ocupação\n",
        "* Aplicar uma função média em cada ocupação\n",
        "* Combinar as idades médias em seu próprio objeto"
      ],
      "metadata": {
        "id": "ZRRs4N5IzDQl"
      }
    },
    {
      "cell_type": "code",
      "source": [
        "data.groupby(by=['occupation'])['age'].mean()"
      ],
      "metadata": {
        "id": "svMsowfmrrbt"
      },
      "execution_count": null,
      "outputs": []
    },
    {
      "cell_type": "markdown",
      "source": [
        "* O parâmetro **by** indica como os grupos são determinados, \n",
        "* a média - mean() - é a estatística de interesse e a \n",
        "* indexação por idade - 'age' - capta a estatística do grupo por idade. \n",
        "* A saída é um pd.Series com os labels da ocupação."
      ],
      "metadata": {
        "id": "mabA_DWL0aOl"
      }
    },
    {
      "cell_type": "markdown",
      "source": [
        "Podemos dividir os grupos usando múltiplos parâmetros, por exemplo, uma combinação de ocupação e se seu e-mail está ou não vinculado ao cliente"
      ],
      "metadata": {
        "id": "k9uPAf6X0u8g"
      }
    },
    {
      "cell_type": "code",
      "source": [
        "data.groupby(by=['email_linked', 'occupation'])['age'].sum()"
      ],
      "metadata": {
        "id": "lyCRTJv205yu"
      },
      "execution_count": null,
      "outputs": []
    },
    {
      "cell_type": "markdown",
      "source": [
        "Além disso, existem outras funções embutidas que podemos aplicar a cada grupo: min, max, count, sum, apenas para citar algumas. "
      ],
      "metadata": {
        "id": "0yKpCfSV1IOk"
      }
    },
    {
      "cell_type": "markdown",
      "source": [
        "Também podemos usar **agg()** para aplicar quaisquer funções personalizadas. O método de agregação também é útil para retornar múltiplas estatísticas resumidas."
      ],
      "metadata": {
        "id": "Xa9MwtMt1MXM"
      }
    },
    {
      "cell_type": "code",
      "source": [
        "data.groupby(by=['occupation'])['age'].agg(['mean','max'])"
      ],
      "metadata": {
        "id": "isFVE3qAs9ua"
      },
      "execution_count": null,
      "outputs": []
    },
    {
      "cell_type": "code",
      "source": [
        "data.groupby(by=['occupation']).agg(['mean'])['age']"
      ],
      "metadata": {
        "id": "kO-XhB-v1SzG"
      },
      "execution_count": null,
      "outputs": []
    },
    {
      "cell_type": "markdown",
      "metadata": {
        "id": "AY1REDSx9yeM"
      },
      "source": [
        "### Explorando um DataFrame"
      ]
    },
    {
      "cell_type": "code",
      "execution_count": null,
      "metadata": {
        "id": "XLtyBn7A9yeM"
      },
      "outputs": [],
      "source": [
        "data.dtypes  # retorna os tipos dos dados"
      ]
    },
    {
      "cell_type": "code",
      "execution_count": null,
      "metadata": {
        "id": "_SIH8-OJjM4X"
      },
      "outputs": [],
      "source": [
        "data.shape # retorna as dimensões do DataFrame na forma (linhas, colunas)"
      ]
    },
    {
      "cell_type": "code",
      "execution_count": null,
      "metadata": {
        "id": "T68rQ4_hkc4R"
      },
      "outputs": [],
      "source": [
        "data.columns  # retorna uma lista com todas as colunas"
      ]
    },
    {
      "cell_type": "code",
      "source": [
        "data.index # retorna o índice (labels das linhas) do DataFrame."
      ],
      "metadata": {
        "id": "85sYckcJ11gs"
      },
      "execution_count": null,
      "outputs": []
    },
    {
      "cell_type": "code",
      "execution_count": null,
      "metadata": {
        "id": "To-qOQOPlsZF"
      },
      "outputs": [],
      "source": [
        "df_titanic.info() # imprime informações sobre um DataFrame incluindo o tipo de índice e colunas, valores não-nulos e uso de memória."
      ]
    },
    {
      "cell_type": "code",
      "execution_count": null,
      "metadata": {
        "id": "3cIkaapCphu3"
      },
      "outputs": [],
      "source": [
        "df_titanic.describe() # gera estatística descritiva"
      ]
    },
    {
      "cell_type": "markdown",
      "source": [
        "## Exemplo 2 - Titanic"
      ],
      "metadata": {
        "id": "fmWHlHKuK42r"
      }
    },
    {
      "cell_type": "markdown",
      "metadata": {
        "id": "6VyXqqvQ9ytU"
      },
      "source": [
        "* Manipulação de dados"
      ]
    },
    {
      "cell_type": "code",
      "execution_count": null,
      "metadata": {
        "id": "6Biu_15StVUU"
      },
      "outputs": [],
      "source": [
        "df_titanic.shape[0]  # retorna a quantidade de linhas do df"
      ]
    },
    {
      "cell_type": "code",
      "source": [
        "df_titanic.shape[1]  # retorna a quantidade de colunas do df"
      ],
      "metadata": {
        "id": "zTp7NPc7XaX5"
      },
      "execution_count": null,
      "outputs": []
    },
    {
      "cell_type": "code",
      "source": [
        "df_titanic.shape"
      ],
      "metadata": {
        "id": "PphgKZHpYY_u"
      },
      "execution_count": null,
      "outputs": []
    },
    {
      "cell_type": "code",
      "source": [
        "# PandasIndex.value_counts() \n",
        "\n",
        "df_titanic[\"Survived\"].value_counts()  # retorna a quantidade de items na coluna especificada"
      ],
      "metadata": {
        "id": "T9iKtoMqXgF6"
      },
      "execution_count": null,
      "outputs": []
    },
    {
      "cell_type": "code",
      "execution_count": null,
      "metadata": {
        "id": "COusjFLhr__i"
      },
      "outputs": [],
      "source": [
        "df_titanic[\"Survived\"].value_counts()/df_titanic.shape[0]  # normalizando, ou seja, dividindo o total de sobreviventes e de não-sobreviventes pelo total de registros (passageiros)"
      ]
    },
    {
      "cell_type": "code",
      "execution_count": null,
      "metadata": {
        "id": "4hw5LkYjtmR7"
      },
      "outputs": [],
      "source": [
        "df_titanic[\"Survived\"].value_counts(normalize=True) # outra forma de normalizar"
      ]
    },
    {
      "cell_type": "code",
      "source": [
        "type(df_titanic)"
      ],
      "metadata": {
        "id": "jnnYSUoeLoos"
      },
      "execution_count": null,
      "outputs": []
    },
    {
      "cell_type": "code",
      "source": [
        "df_titanic['Survived'].dtype"
      ],
      "metadata": {
        "id": "N5U9hcFZXi6B"
      },
      "execution_count": null,
      "outputs": []
    },
    {
      "cell_type": "markdown",
      "source": [
        "## Exemplo 3"
      ],
      "metadata": {
        "id": "a6-1HemvQ8IJ"
      }
    },
    {
      "cell_type": "code",
      "source": [
        "df_titanic.head()"
      ],
      "metadata": {
        "id": "idBXOn7cT3oY"
      },
      "execution_count": null,
      "outputs": []
    },
    {
      "cell_type": "markdown",
      "metadata": {
        "id": "8_vWnZDm9y3A"
      },
      "source": [
        "* Ordenação"
      ]
    },
    {
      "cell_type": "code",
      "execution_count": null,
      "metadata": {
        "id": "MTIrbkC8ymGt"
      },
      "outputs": [],
      "source": [
        "df_titanic.head()"
      ]
    },
    {
      "cell_type": "code",
      "execution_count": null,
      "metadata": {
        "id": "t6SvTi8Ut4Ht"
      },
      "outputs": [],
      "source": [
        "df_titanic = df_titanic.sort_values([\"Age\", \"PassengerId\"])\n",
        "df_titanic"
      ]
    },
    {
      "cell_type": "code",
      "execution_count": null,
      "metadata": {
        "id": "ZVIZ03F6ukCi"
      },
      "outputs": [],
      "source": [
        "df_titanic.sort_values(\"Fare\", ascending=True, inplace=True ) # inplace = True altera o DataFrame "
      ]
    },
    {
      "cell_type": "code",
      "execution_count": null,
      "metadata": {
        "id": "kIyoDXoruImo"
      },
      "outputs": [],
      "source": [
        "df_titanic"
      ]
    },
    {
      "cell_type": "markdown",
      "metadata": {
        "id": "mffNPtZDD2vs"
      },
      "source": [
        "\n",
        "### Seleção com  loc[ ] e iloc[ ]"
      ]
    },
    {
      "cell_type": "markdown",
      "source": [
        "* **loc[ ]** é uma abordagem de indexação baseada em rótulos, que requer o nome da(s) linha(s) e da(s) coluna(s)\n",
        "* **iloc[ ]** é uma abordagem posicional de indexação, que requer as posições do(s) valor(es)\n",
        "\n",
        "* loc[ ] --> Rótulos (labels)\n",
        "* iloc[ ] --> índices (index)"
      ],
      "metadata": {
        "id": "GNFk22CuSJcZ"
      }
    },
    {
      "cell_type": "markdown",
      "source": [
        "#### **df.loc[linhas, colunas]**"
      ],
      "metadata": {
        "id": "4ikq3jvjalMt"
      }
    },
    {
      "cell_type": "code",
      "source": [
        "df = pd.DataFrame([[130, 1.3], [90, 1.5], [80, 2.2]],\n",
        "     index=['guepardo', 'onça-pintada', 'puma'],\n",
        "     columns=['velocidade_máxima', 'tamanho_médio'])\n",
        "df"
      ],
      "metadata": {
        "id": "QBRnnAzwTMko"
      },
      "execution_count": null,
      "outputs": []
    },
    {
      "cell_type": "code",
      "source": [
        "df.loc['guepardo']  # retorna uma linha"
      ],
      "metadata": {
        "id": "1c6uv2tQTRPi"
      },
      "execution_count": null,
      "outputs": []
    },
    {
      "cell_type": "code",
      "source": [
        "df.loc[['guepardo', 'puma']]  # retorna um DataFrame - colocar colchete duplo"
      ],
      "metadata": {
        "id": "puOXQ_0uTUAs"
      },
      "execution_count": null,
      "outputs": []
    },
    {
      "cell_type": "code",
      "source": [
        "df.loc['puma', 'velocidade_máxima']  # retorna o valor no df da linha \"puma\" e da coluna \"velocidade_máxima\""
      ],
      "metadata": {
        "id": "pBWSTVa3UHGR"
      },
      "execution_count": null,
      "outputs": []
    },
    {
      "cell_type": "code",
      "source": [
        "df.loc['guepardo':'puma', 'velocidade_máxima']  # lembrando que df.loc[linha, coluna]"
      ],
      "metadata": {
        "id": "O0MuYYgLUTwJ"
      },
      "execution_count": null,
      "outputs": []
    },
    {
      "cell_type": "code",
      "source": [
        "df.loc[df['tamanho_médio'] > 1.3]"
      ],
      "metadata": {
        "id": "rsSUYDBjYVMp"
      },
      "execution_count": null,
      "outputs": []
    },
    {
      "cell_type": "code",
      "source": [
        "# atribuindo valores\n",
        "\n",
        "df.loc[['guepardo', 'onça-pintada'], ['tamanho_médio']] = 1.4\n",
        "df"
      ],
      "metadata": {
        "id": "I5FEveHtYeZG"
      },
      "execution_count": null,
      "outputs": []
    },
    {
      "cell_type": "code",
      "source": [
        "df.loc[df['velocidade_máxima'] > 1, ['tamanho_médio']]  # das linhas nas quais os valores da coluna \"velocidade_máxima\" \n",
        "                                                        # são maiores do que 1, retornar os valores da coluna \"tamanho_médio\""
      ],
      "metadata": {
        "id": "KaRAk7zqYNU3"
      },
      "execution_count": null,
      "outputs": []
    },
    {
      "cell_type": "code",
      "source": [
        "# Atribuindo valor para a linha inteira\n",
        "\n",
        "df.loc['cobra'] = 10\n",
        "df"
      ],
      "metadata": {
        "id": "ZezlmdQdYwRH"
      },
      "execution_count": null,
      "outputs": []
    },
    {
      "cell_type": "code",
      "source": [
        "# Atribuindo valor para uma coluna inteira\n",
        "\n",
        "df.loc[:, 'max_speed'] = 30\n",
        "df"
      ],
      "metadata": {
        "id": "_DvFgjssZAVd"
      },
      "execution_count": null,
      "outputs": []
    },
    {
      "cell_type": "markdown",
      "source": [
        "#### **iloc[ ]**"
      ],
      "metadata": {
        "id": "upd1NbPSarEU"
      }
    },
    {
      "cell_type": "code",
      "source": [
        "mydict = [{'a': 1, 'b': 2, 'c': 3, 'd': 4},\n",
        "          {'a': 100, 'b': 200, 'c': 300, 'd': 400},\n",
        "          {'a': 1000, 'b': 2000, 'c': 3000, 'd': 4000 }]\n",
        "df = pd.DataFrame(mydict)\n",
        "df"
      ],
      "metadata": {
        "id": "0TLMgu9ga07U"
      },
      "execution_count": null,
      "outputs": []
    },
    {
      "cell_type": "markdown",
      "source": [
        "#### Indexando apenas as linhas"
      ],
      "metadata": {
        "id": "2nG79e9Uczip"
      }
    },
    {
      "cell_type": "code",
      "source": [
        "#indexando com um escalar\n",
        "\n",
        "df.iloc[0]  # retorna os valores da primeira linha em formato de uma pd.Series"
      ],
      "metadata": {
        "id": "zbXtKLN1cvCO"
      },
      "execution_count": null,
      "outputs": []
    },
    {
      "cell_type": "markdown",
      "source": [
        "Com uma lista de inteiros"
      ],
      "metadata": {
        "id": "7BlQPtYtdtxq"
      }
    },
    {
      "cell_type": "code",
      "source": [
        "df.iloc[[0]]  # retorna os valores da primeira linha em formato de um pd.DataFrame"
      ],
      "metadata": {
        "id": "mhpR47l_dOtG"
      },
      "execution_count": null,
      "outputs": []
    },
    {
      "cell_type": "code",
      "source": [
        "df.iloc[[0,1]]"
      ],
      "metadata": {
        "id": "t0-fdb42dlv0"
      },
      "execution_count": null,
      "outputs": []
    },
    {
      "cell_type": "markdown",
      "source": [
        "Com slice"
      ],
      "metadata": {
        "id": "htDWsaKFdwY8"
      }
    },
    {
      "cell_type": "code",
      "source": [
        "df.iloc[:3] # da primeira linha até a terceira"
      ],
      "metadata": {
        "id": "5VZLoEXod0hN"
      },
      "execution_count": null,
      "outputs": []
    },
    {
      "cell_type": "markdown",
      "source": [
        "#### Indexando com linhas e colunas"
      ],
      "metadata": {
        "id": "N4FXNI_Xd9u9"
      }
    },
    {
      "cell_type": "code",
      "source": [
        "df.iloc[0,1] # linha 0, coluna 1"
      ],
      "metadata": {
        "id": "3Z_hewWTeDeD"
      },
      "execution_count": null,
      "outputs": []
    },
    {
      "cell_type": "code",
      "source": [
        "df.iloc[[0,2],[1,3]]"
      ],
      "metadata": {
        "id": "inLj2FKIeLYK"
      },
      "execution_count": null,
      "outputs": []
    },
    {
      "cell_type": "code",
      "source": [
        "df.iloc[0:2,0:3]"
      ],
      "metadata": {
        "id": "yDivo9fYeggF"
      },
      "execution_count": null,
      "outputs": []
    },
    {
      "cell_type": "markdown",
      "source": [
        "### Voltando ao Exemplo 2 - Titanic"
      ],
      "metadata": {
        "id": "4on73itTab_E"
      }
    },
    {
      "cell_type": "code",
      "execution_count": null,
      "metadata": {
        "id": "n3iLumRTD2vs"
      },
      "outputs": [],
      "source": [
        "df_titanic.loc[:, [\"Name\", \"Survived\"]]"
      ]
    },
    {
      "cell_type": "code",
      "execution_count": null,
      "metadata": {
        "id": "Zt--745Dw5tz"
      },
      "outputs": [],
      "source": [
        "df_titanic.loc[[74,255], \"Name\":\"Age\"]"
      ]
    },
    {
      "cell_type": "code",
      "source": [
        "df_titanic.head(2)"
      ],
      "metadata": {
        "id": "BkYRZolbj28f"
      },
      "execution_count": null,
      "outputs": []
    },
    {
      "cell_type": "code",
      "source": [
        "df_titanic.iloc[[0,1], -3:]"
      ],
      "metadata": {
        "id": "Qr8JrBAKgSc8"
      },
      "execution_count": null,
      "outputs": []
    },
    {
      "cell_type": "code",
      "execution_count": null,
      "metadata": {
        "id": "UoYhYR2n31l4"
      },
      "outputs": [],
      "source": [
        "df_titanic.iloc[2]"
      ]
    },
    {
      "cell_type": "code",
      "execution_count": null,
      "metadata": {
        "id": "MdS3wzyTzTAz"
      },
      "outputs": [],
      "source": [
        "df_titanic.loc[179:481, :]"
      ]
    },
    {
      "cell_type": "code",
      "execution_count": null,
      "metadata": {
        "id": "7_jU7p1pzv8Q"
      },
      "outputs": [],
      "source": [
        "df_titanic.set_index(\"Name\", inplace=True) # altera os indices para o label desejado\n",
        "df_titanic"
      ]
    },
    {
      "cell_type": "code",
      "execution_count": null,
      "metadata": {
        "id": "EfzxOe51z8ns"
      },
      "outputs": [],
      "source": [
        "df_titanic.loc['Parkes, Mr. Francis \"Frank\"':\"Parr, Mr. William Henry Marsh\", :]"
      ]
    },
    {
      "cell_type": "code",
      "execution_count": null,
      "metadata": {
        "id": "iM_i8IK_0tJf"
      },
      "outputs": [],
      "source": [
        "df_titanic.reset_index(inplace=True)"
      ]
    },
    {
      "cell_type": "code",
      "execution_count": null,
      "metadata": {
        "id": "SvHregib0_bg"
      },
      "outputs": [],
      "source": [
        "df_titanic.head(3)"
      ]
    },
    {
      "cell_type": "markdown",
      "metadata": {
        "id": "zsk6FyKnD2vs"
      },
      "source": [
        "* Filtros"
      ]
    },
    {
      "cell_type": "code",
      "execution_count": null,
      "metadata": {
        "id": "dZoURKIN-hQt"
      },
      "outputs": [],
      "source": [
        "df_titanic[df_titanic[\"Age\"] > 50]"
      ]
    },
    {
      "cell_type": "code",
      "execution_count": null,
      "metadata": {
        "id": "A52s-6KI18d-"
      },
      "outputs": [],
      "source": [
        "df_titanic[df_titanic[\"Survived\"] == 1].describe()"
      ]
    },
    {
      "cell_type": "code",
      "execution_count": null,
      "metadata": {
        "id": "kht564op2ME0"
      },
      "outputs": [],
      "source": [
        "df_titanic[df_titanic.Survived == 0].describe()"
      ]
    },
    {
      "cell_type": "code",
      "source": [
        "df_titanic.head()"
      ],
      "metadata": {
        "id": "2_m6WT_omJCK"
      },
      "execution_count": null,
      "outputs": []
    },
    {
      "cell_type": "code",
      "execution_count": null,
      "metadata": {
        "id": "Qgesuz6O2pgs"
      },
      "outputs": [],
      "source": [
        "df_titanic[df_titanic.Fare > df_titanic.Fare.mean()]"
      ]
    },
    {
      "cell_type": "code",
      "execution_count": null,
      "metadata": {
        "id": "H_dhN7Fh31FT"
      },
      "outputs": [],
      "source": [
        "df_titanic.Fare.mean()"
      ]
    },
    {
      "cell_type": "code",
      "execution_count": null,
      "metadata": {
        "id": "oqRqIWCh3ZB0"
      },
      "outputs": [],
      "source": [
        "filtro = (df_titanic.Sex == \"male\") & (df_titanic.Fare > df_titanic[\"Fare\"].mean())\n",
        "df_homens_acima_media = df_titanic[filtro]\n",
        "df_homens_acima_media"
      ]
    },
    {
      "cell_type": "code",
      "execution_count": null,
      "metadata": {
        "id": "KeJwnUvO3-o_"
      },
      "outputs": [],
      "source": [
        "df_titanic[(df_titanic.PassengerId == 849)|(df_titanic.PassengerId == 439)|(df_titanic.PassengerId == 28)]"
      ]
    },
    {
      "cell_type": "code",
      "execution_count": null,
      "metadata": {
        "id": "9NpkEM4Q6R1p"
      },
      "outputs": [],
      "source": [
        "# Manipulando dados com strings\n",
        "\n",
        "def familia_fortune(nome):\n",
        "  return nome.startswith(\"Fortune\")"
      ]
    },
    {
      "cell_type": "code",
      "source": [
        "familia_fortune(\"Fortune\")"
      ],
      "metadata": {
        "id": "nqysrJvOnRj5"
      },
      "execution_count": null,
      "outputs": []
    },
    {
      "cell_type": "code",
      "execution_count": null,
      "metadata": {
        "id": "pXfbmZfK5Sk4"
      },
      "outputs": [],
      "source": [
        "sobrenome = input(\"Informe um sobrenome: \")\n",
        "\n",
        "df_titanic[df_titanic.Name.apply(lambda nome: nome.startswith(sobrenome))]"
      ]
    },
    {
      "cell_type": "code",
      "execution_count": null,
      "metadata": {
        "id": "Hi2W2qbJ8dzi"
      },
      "outputs": [],
      "source": [
        "df_titanic[df_titanic.Name.apply(lambda nome: nome.startswith(\"Harper\")) & (df_titanic.Sex == \"male\")]"
      ]
    },
    {
      "cell_type": "code",
      "execution_count": null,
      "metadata": {
        "id": "Cu5InKtM9CeW"
      },
      "outputs": [],
      "source": [
        "df_titanic[df_titanic.Fare == 0].Survived.value_counts(normalize=True)"
      ]
    },
    {
      "cell_type": "code",
      "execution_count": null,
      "metadata": {
        "id": "jjl2Xkim9dZQ"
      },
      "outputs": [],
      "source": [
        "df_titanic[(df_titanic.Fare == 0) & (df_titanic.Survived == 1)]"
      ]
    },
    {
      "cell_type": "code",
      "execution_count": null,
      "metadata": {
        "id": "4oXBsQVJ9rTq"
      },
      "outputs": [],
      "source": [
        "df_titanic.query(\"Fare == 0 and Survived == 1\")"
      ]
    },
    {
      "cell_type": "code",
      "source": [
        "df_titanic.Age.mean()"
      ],
      "metadata": {
        "id": "GPiERJjkogz-"
      },
      "execution_count": null,
      "outputs": []
    },
    {
      "cell_type": "code",
      "execution_count": null,
      "metadata": {
        "id": "jKSVVV4c93H_"
      },
      "outputs": [],
      "source": [
        "df_titanic.query(\"Sex == 'female' and Survived == 1 and Age > Age.mean()\", engine=\"python\")"
      ]
    },
    {
      "cell_type": "markdown",
      "metadata": {
        "id": "zhuSRwR2EA4T"
      },
      "source": [
        "* Renomeação"
      ]
    },
    {
      "cell_type": "code",
      "execution_count": null,
      "metadata": {
        "id": "B4RIL1DDEA4U"
      },
      "outputs": [],
      "source": [
        "df_titanic.rename(columns={\"Sex\": \"Sexo\", \"Name\": \"Nome\"}) #precisa colocar inplace"
      ]
    },
    {
      "cell_type": "code",
      "execution_count": null,
      "metadata": {
        "id": "IvtjV8DzAVE9"
      },
      "outputs": [],
      "source": [
        "df_titanic.rename(index={0: \"Lionel\"})"
      ]
    },
    {
      "cell_type": "markdown",
      "metadata": {
        "id": "qXm5ZQM_EA4V"
      },
      "source": [
        "* Transformações"
      ]
    },
    {
      "cell_type": "code",
      "execution_count": null,
      "metadata": {
        "id": "HP_0ge0JEA4V"
      },
      "outputs": [],
      "source": [
        "df_titanic[\"qtde_letras\"] = 0\n",
        "df_titanic"
      ]
    },
    {
      "cell_type": "code",
      "execution_count": null,
      "metadata": {
        "id": "Thlt32f8AsiX"
      },
      "outputs": [],
      "source": [
        "df_titanic[\"qtde_letras\"] = df_titanic.Name.apply(len) * df_titanic.Survived\n",
        "df_titanic"
      ]
    },
    {
      "cell_type": "code",
      "execution_count": null,
      "metadata": {
        "id": "S1b6uCl2CKTA"
      },
      "outputs": [],
      "source": [
        "df_titanic[df_titanic.Survived == 1].Fare.mean()"
      ]
    },
    {
      "cell_type": "code",
      "execution_count": null,
      "metadata": {
        "id": "0ETexCZmBXRQ"
      },
      "outputs": [],
      "source": [
        "grupos = df_titanic.groupby([\"Survived\", \"Sex\"])\n",
        "grupos.Fare.count()"
      ]
    },
    {
      "cell_type": "code",
      "execution_count": null,
      "metadata": {
        "id": "DqKpZ2YnHyyk"
      },
      "outputs": [],
      "source": [
        "df_titanic[\"Sobreviveu\"] = df_titanic.Survived.apply(lambda s: \"Sobreviveu\" if s == 1 else \"Morreu\") #retorno_verdade if condicao else retorno_false"
      ]
    },
    {
      "cell_type": "code",
      "source": [
        "df_titanic"
      ],
      "metadata": {
        "id": "Jrq6PkjdewXj"
      },
      "execution_count": null,
      "outputs": []
    }
  ],
  "metadata": {
    "colab": {
      "collapsed_sections": [],
      "provenance": []
    },
    "kernelspec": {
      "display_name": "Python 3",
      "language": "python",
      "name": "python3"
    },
    "language_info": {
      "codemirror_mode": {
        "name": "ipython",
        "version": 3
      },
      "file_extension": ".py",
      "mimetype": "text/x-python",
      "name": "python",
      "nbconvert_exporter": "python",
      "pygments_lexer": "ipython3",
      "version": "3.7.3"
    },
    "accelerator": "GPU"
  },
  "nbformat": 4,
  "nbformat_minor": 0
}