{
  "nbformat": 4,
  "nbformat_minor": 0,
  "metadata": {
    "kernelspec": {
      "display_name": "Python 3",
      "language": "python",
      "name": "python3"
    },
    "language_info": {
      "codemirror_mode": {
        "name": "ipython",
        "version": 3
      },
      "file_extension": ".py",
      "mimetype": "text/x-python",
      "name": "python",
      "nbconvert_exporter": "python",
      "pygments_lexer": "ipython3",
      "version": "3.7.3"
    },
    "colab": {
      "name": "Atividade 2 - Python - MB3B - 2.ipynb",
      "provenance": [],
      "collapsed_sections": []
    }
  },
  "cells": [
    {
      "cell_type": "markdown",
      "metadata": {
        "id": "9cKOL6tBFd_R"
      },
      "source": [
        "**# Atividade 2 Python**\n",
        "\n",
        "#### Valor: 50 pontos"
      ]
    },
    {
      "cell_type": "code",
      "metadata": {
        "id": "UYEFxAdIKKEJ"
      },
      "source": [
        "import pandas as pd\n",
        "import numpy as np"
      ],
      "execution_count": null,
      "outputs": []
    },
    {
      "cell_type": "markdown",
      "metadata": {
        "id": "hX2F78TbFd_T"
      },
      "source": [
        "Fazer a importação do arquivo disponível em https://raw.githubusercontent.com/ironhack-datalabs/datalis0819/master/module-2/lab-tableau-data-visualization/data/countries-of-the-world.csv. A base de dados traz informações variadas de diversos países."
      ]
    },
    {
      "cell_type": "code",
      "metadata": {
        "id": "3vEmTl3DFyXI"
      },
      "source": [
        "df = pd.read_csv(\"https://raw.githubusercontent.com/ironhack-datalabs/datalis0819/master/module-2/lab-tableau-data-visualization/data/countries-of-the-world.csv\", decimal=',' )"
      ],
      "execution_count": null,
      "outputs": []
    },
    {
      "cell_type": "code",
      "metadata": {
        "id": "SFRag_TjKX8h"
      },
      "source": [
        "df.head()"
      ],
      "execution_count": null,
      "outputs": []
    },
    {
      "cell_type": "markdown",
      "metadata": {
        "id": "8PRj7bRfcaXu"
      },
      "source": [
        "1)Determinar a quantidade de países por região (Region).\n"
      ]
    },
    {
      "cell_type": "markdown",
      "metadata": {
        "id": "KeAs6hMwcb8c"
      },
      "source": [
        "2) Apresentar a mediana da mortalidade infantil."
      ]
    },
    {
      "cell_type": "markdown",
      "metadata": {
        "id": "rWQdxezccmNm"
      },
      "source": [
        "3) Apresentar a mediana do percentual de área costeira."
      ]
    },
    {
      "cell_type": "markdown",
      "metadata": {
        "id": "iI0hqVG7abR7"
      },
      "source": [
        "4) Apresentar os percentis de 10 e 90% da taxa de mortalidade (Deathrate).\n",
        "\n",
        "Dica: Percentis podem ser obtidos com o método df.[\"coluna\"].quantile(q= valor desejado em decimal)\n",
        "\n",
        "**Percentis**\n",
        "\n",
        "Um percentil é uma medida na qual a porcentagem dos valores totais é a mesma ou abaixo desta média. Por exemplo, 90% dos valores de dados estão abaixo do 90o.percentil, onde 10% dos valores de dados estão abaixo do 10o. percentil.\n",
        "\n",
        "**Quartis**\n",
        "\n",
        "Quartis são valores que dividem uma (parte de uma) tabela de dados em quatro grupos contendo aproximadamente um igual número de observações. O total de 100% é dividido em quatro partes iguais: 25%, 50%, 75% 100%."
      ]
    },
    {
      "cell_type": "markdown",
      "source": [
        "5) Apresentar os 5 países com maior Gross domestic product per capta (GDP per capta) (Lembrando que o GDP per capta é o nosso PIB - Produto Interno Bruto)"
      ],
      "metadata": {
        "id": "DWFu0nyW8CQi"
      }
    },
    {
      "cell_type": "markdown",
      "metadata": {
        "id": "lRvL1_chabR7"
      },
      "source": [
        "6) Retornar a linha (row) do país com a maior \"Área\" (retorne o registro inteiro da linha do País com a maior extensão territorial)\n"
      ]
    },
    {
      "cell_type": "markdown",
      "metadata": {
        "id": "rc34Yh3dabR7"
      },
      "source": [
        "7) Retornar a linha (row) do país que possui mais telefones instalados (\"Phones (per 1000)\")\n"
      ]
    },
    {
      "cell_type": "markdown",
      "metadata": {
        "id": "oL2B4cnNabR7"
      },
      "source": [
        "8) Retornar os 5 países mais alfabetizados (\"Literacy\")\n",
        "\n",
        "dica: pesquise o método df.largest()"
      ]
    },
    {
      "cell_type": "markdown",
      "metadata": {
        "id": "VirLYQ1ibMFo"
      },
      "source": [
        "9) Retornar os 10 países menos industrializados.\n",
        "\n",
        "dica: pesquise o método df.**nsmallest**\n"
      ]
    },
    {
      "cell_type": "markdown",
      "metadata": {
        "id": "HH1sGemrbUeH"
      },
      "source": [
        "10) Imputar o valor 0 nos campos faltantes (missings) para as colunas: Agriculture, Industry e Service"
      ]
    }
  ]
}