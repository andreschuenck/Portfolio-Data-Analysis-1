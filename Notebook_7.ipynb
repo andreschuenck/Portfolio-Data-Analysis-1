{
  "nbformat": 4,
  "nbformat_minor": 0,
  "metadata": {
    "colab": {
      "provenance": [],
      "collapsed_sections": []
    },
    "kernelspec": {
      "name": "python3",
      "display_name": "Python 3"
    }
  },
  "cells": [
    {
      "cell_type": "markdown",
      "source": [
        "\n",
        "\n",
        "SciKit Learn\n"
      ],
      "metadata": {
        "id": "KPnhQapL9pPi"
      }
    },
    {
      "cell_type": "markdown",
      "source": [
        "#Regressão Linear - uma aplicação bem simples\n",
        "\n"
      ],
      "metadata": {
        "id": "s_gpQbRbPyv_"
      }
    },
    {
      "cell_type": "code",
      "source": [
        "import matplotlib.pyplot as plt"
      ],
      "metadata": {
        "id": "xt7MIKdxIwSe"
      },
      "execution_count": null,
      "outputs": []
    },
    {
      "cell_type": "code",
      "source": [
        "import numpy as np\n",
        "from sklearn.linear_model import LinearRegression\n",
        "\n",
        "X = np.array([[1,1], [1,2], [2,2], [2,3], [3,4], [5,6], [7,9], [3,6], [8,4], [7,8]])\n",
        "# y = 1 * x_0 + 2 * x_1 + 3\n",
        "X    # Estes são os nossos dados de entrada"
      ],
      "metadata": {
        "id": "CexH_8PJrC8j"
      },
      "execution_count": null,
      "outputs": []
    },
    {
      "cell_type": "code",
      "source": [
        "y = np.dot(X, np.array([1, 2])) + 3\n",
        "y  # estes são os dados de saída, ou dados reais"
      ],
      "metadata": {
        "id": "6Xly2YS6rS2z"
      },
      "execution_count": null,
      "outputs": []
    },
    {
      "cell_type": "code",
      "source": [
        "import pandas as pd\n",
        "df = pd.DataFrame({'x0':X[:,0], 'x1':X[:,1], 'y':y})"
      ],
      "metadata": {
        "id": "_S6YJSr5LMiV"
      },
      "execution_count": null,
      "outputs": []
    },
    {
      "cell_type": "code",
      "source": [
        "df"
      ],
      "metadata": {
        "id": "r7a1GcNGLL_0"
      },
      "execution_count": null,
      "outputs": []
    },
    {
      "cell_type": "code",
      "source": [
        "reg = LinearRegression().fit(X, y)"
      ],
      "metadata": {
        "id": "b1JjaINlrUch"
      },
      "execution_count": null,
      "outputs": []
    },
    {
      "cell_type": "markdown",
      "source": [
        "A nossa equação com os parâmetros já calculados é\n",
        "\n",
        "y = 1 * x0 + 2 * x1 + 3"
      ],
      "metadata": {
        "id": "6ePBi0Q7Nm5x"
      }
    },
    {
      "cell_type": "code",
      "source": [
        "reg.coef_  # coeficientes de x0 e x1"
      ],
      "metadata": {
        "id": "5Ne-3Af6rXwR"
      },
      "execution_count": null,
      "outputs": []
    },
    {
      "cell_type": "code",
      "source": [
        "reg.intercept_   # intercepto, inclinação ou slope"
      ],
      "metadata": {
        "id": "yxtLhqubrZWp"
      },
      "execution_count": null,
      "outputs": []
    },
    {
      "cell_type": "code",
      "source": [
        "reg.predict(np.array([[3, 5]]))"
      ],
      "metadata": {
        "id": "-nZkVrQJrbIp"
      },
      "execution_count": null,
      "outputs": []
    },
    {
      "cell_type": "code",
      "source": [
        "reg.score(X, y)  # é o R2"
      ],
      "metadata": {
        "id": "e41eYtd7rWY5"
      },
      "execution_count": null,
      "outputs": []
    },
    {
      "cell_type": "markdown",
      "metadata": {
        "id": "KuFfWJBtUmqv"
      },
      "source": [
        "# **Regressão Linear**\n",
        "\n",
        "Agora, vamos usar uma base pública do Kaggle feita para estudar um pouco mais de Regressão Linear com a biblioteca Scikit-Learn\n",
        "\n",
        "A base está no link: https://www.kaggle.com/andonians/random-linear-regression\n",
        "\n",
        "\n",
        "\n",
        "https://scikit-learn.org/stable/modules/generated/sklearn.linear_model.LinearRegression.html"
      ]
    },
    {
      "cell_type": "markdown",
      "source": [
        "Vamos começar importando as bibliotecas e chamando a base de dados para um DataFrame."
      ],
      "metadata": {
        "id": "BnF_tBsg3Tp1"
      }
    },
    {
      "cell_type": "code",
      "metadata": {
        "id": "7AYEzhDxVGc7"
      },
      "source": [
        "import pandas as pd\n",
        "import numpy as np\n",
        "import matplotlib.pyplot as plt\n",
        "import seaborn as sns"
      ],
      "execution_count": null,
      "outputs": []
    },
    {
      "cell_type": "code",
      "metadata": {
        "id": "w5tVBmxkVL3g"
      },
      "source": [
        "df = pd.read_csv(\"/content/train.csv\")\n",
        "df.head(10)"
      ],
      "execution_count": null,
      "outputs": []
    },
    {
      "cell_type": "code",
      "source": [
        "df.shape"
      ],
      "metadata": {
        "id": "Bl_bzIJ2tOuK"
      },
      "execution_count": null,
      "outputs": []
    },
    {
      "cell_type": "code",
      "source": [
        "df = df.dropna()\n",
        "print(df.shape)"
      ],
      "metadata": {
        "id": "NdEVdp-4uJKy"
      },
      "execution_count": null,
      "outputs": []
    },
    {
      "cell_type": "markdown",
      "metadata": {
        "id": "UiJucDmCYyhj"
      },
      "source": [
        "**Dados de entrada e saída**\n",
        "\n",
        "O modelo de regressão linear vai usar os dados da coluna x para prever os dados da coluna y.\n",
        "\n",
        "A primeira etapa é separar os dados de entrada (X) e de saída (y)."
      ]
    },
    {
      "cell_type": "code",
      "metadata": {
        "id": "0f1-SXCVZLfD"
      },
      "source": [
        "X = df[[\"x\"]]  #passando um novo dataframe [[]]\n",
        "y = df[\"y\"]    # passando uma Série"
      ],
      "execution_count": null,
      "outputs": []
    },
    {
      "cell_type": "code",
      "source": [
        "type(X)"
      ],
      "metadata": {
        "id": "JKwDgA4X3dUM"
      },
      "execution_count": null,
      "outputs": []
    },
    {
      "cell_type": "code",
      "source": [
        "type(y)"
      ],
      "metadata": {
        "id": "2PoWRe5h3z0U"
      },
      "execution_count": null,
      "outputs": []
    },
    {
      "cell_type": "markdown",
      "metadata": {
        "id": "t8UWMYKjZhsz"
      },
      "source": [
        "**A) Vamos dividir os dados de X e y em dados de treino e dados de teste**\n",
        "\n",
        "Para dividir o conjunto de treino e de teste, usaremos uma função pronta do Scikit-Learn (sklearn.model_selection.train_test_split)\n",
        "\n",
        "O tamanho da base de treino será de 70% do total."
      ]
    },
    {
      "cell_type": "code",
      "metadata": {
        "id": "uL4TnFH8ZUZS"
      },
      "source": [
        "from sklearn.model_selection import train_test_split  # divide arrays ou matrizes em subconjuntos aleatórios de treino e teste\n",
        "\n",
        "X_train, X_test, y_train, y_test = train_test_split(X, y, test_size=0.3, random_state=101)"
      ],
      "execution_count": null,
      "outputs": []
    },
    {
      "cell_type": "markdown",
      "metadata": {
        "id": "8dhkCD85aUcs"
      },
      "source": [
        "**B) Vamos criar e treinar o modelo**\n",
        "\n",
        "Será usada uma função de regressão linear pronta do Scikit-Learn."
      ]
    },
    {
      "cell_type": "code",
      "metadata": {
        "id": "3BjOru2-Z_Gc"
      },
      "source": [
        "# Importar a função.\n",
        "from sklearn.linear_model import LinearRegression\n",
        "\n",
        "# Chamar a função de regressão linear.\n",
        "lm = LinearRegression()\n",
        "\n",
        "# Treinar o modelo com os dados de treino.\n",
        "lm.fit(X_train,y_train)  # o fit nada mais é do que o modelo sendo treinado"
      ],
      "execution_count": null,
      "outputs": []
    },
    {
      "cell_type": "markdown",
      "metadata": {
        "id": "BHbUMr4kfER1"
      },
      "source": [
        "**C) Vamos analisar o resultado do modelo**\n",
        "\n",
        "Em um gráfico da resposta correta vs valor predito, quanto mais próximo da reta Y = X for, melhor é o resultado."
      ]
    },
    {
      "cell_type": "code",
      "source": [
        "# Encontrar as predições para os dados de teste.\n",
        "\n",
        "predictions = lm.predict(X_test) # O predict serve para predizer a resposta do modelo treinado"
      ],
      "metadata": {
        "id": "OT1x6VkgmVoK"
      },
      "execution_count": null,
      "outputs": []
    },
    {
      "cell_type": "code",
      "metadata": {
        "id": "bLJvMlO_beZI"
      },
      "source": [
        "# Comparar os dados preditos com os dados corretos em um gráfico.\n",
        "\n",
        "plt.scatter(y_test, predictions)   # real x predito\n",
        "plt.xlabel('y_test')\n",
        "plt.ylabel('predictions')\n",
        "plt.show;\n"
      ],
      "execution_count": null,
      "outputs": []
    },
    {
      "cell_type": "code",
      "source": [
        "df = pd.DataFrame({\"X\": X_test.x , \"Real\": y_test, \"Predictions\": predictions})\n",
        "df.sort_values(by = 'X', ascending=True, inplace=True)"
      ],
      "metadata": {
        "id": "jF_AAg9h4e69"
      },
      "execution_count": null,
      "outputs": []
    },
    {
      "cell_type": "code",
      "source": [
        "# Plot the linear fit\n",
        "df.plot(x='X', y='Predictions', kind='scatter', xticks=(0,100))\n",
        "df.plot(x='X', y='Predictions', c=\"r\")\n",
        "# Set the title\n",
        "plt.title(\"X vs. predito\")\n",
        "# Set the y-axis label\n",
        "plt.ylabel('Predictions')\n",
        "# Set the x-axis label\n",
        "plt.xlabel('X')\n",
        "plt.plot;"
      ],
      "metadata": {
        "id": "2xOBKt8FruSP"
      },
      "execution_count": null,
      "outputs": []
    },
    {
      "cell_type": "code",
      "source": [
        "df"
      ],
      "metadata": {
        "id": "P5jHvjfd1H5u"
      },
      "execution_count": null,
      "outputs": []
    },
    {
      "cell_type": "markdown",
      "metadata": {
        "id": "EedRRaJtfvM9"
      },
      "source": [
        "Na função y = w.x + b, nós temos que a e b são:"
      ]
    },
    {
      "cell_type": "code",
      "metadata": {
        "id": "AGamcHlrdJG5"
      },
      "source": [
        "print(\"w =\" ,lm.coef_)\n",
        "print(\"b =\", lm.intercept_)"
      ],
      "execution_count": null,
      "outputs": []
    },
    {
      "cell_type": "markdown",
      "metadata": {
        "id": "KDohTcQEf8oW"
      },
      "source": [
        "Ou seja, para esse caso a reta predita, ou seja, calculada a partir dos exemplos dados no consjunto de treinamento, é: \n",
        "\n",
        "y = 1.000 x - 0.198"
      ]
    },
    {
      "cell_type": "markdown",
      "metadata": {
        "id": "Kmr4tPiNgio0"
      },
      "source": [
        "**Como avaliar numéricamente o resultado?**\n",
        "\n",
        "As métricas mais comuns para problemas de regressão:\n",
        "\n",
        "**Mean absolute error ** (erro absoluto médio) (MAE) é a média do valor absoluto dos erros: (média)\n",
        "\n",
        "$$\\frac 1n\\sum_{i=1}^n|y_i-\\hat{y}_i|$$\n",
        "\n",
        "** Mean Squared Error ** (erro médio quadrático) (MSE) é a média dos erros quadrados: (variância)\n",
        "\n",
        "$$\\frac 1n\\sum_{i=1}^n(y_i-\\hat{y}_i)^2$$\n",
        "\n",
        "** Root Mean Square Error ** (raiz do erro quadrático médio) (RMSE) é a raiz quadrada da média dos erros quadrados: (desvio padrão)\n",
        "\n",
        "$$\\sqrt{\\frac 1n\\sum_{i=1}^n(y_i-\\hat{y}_i)^2}$$\n",
        "\n",
        "Comparando estas métricas:\n",
        "\n",
        "- **MAE** é o mais fácil de entender, porque é o erro médio.\n",
        "- **MSE** é mais popular que o MAE, porque a MSE \"puniria\" erros maiores, o que tende a ser útil no mundo real.\n",
        "- **RMSE** é ainda mais popular do que MSE, porque o RMSE é interpretável nas unidades \"y\"."
      ]
    },
    {
      "cell_type": "markdown",
      "source": [
        "Um valor mais baixo de MAE, MSE e RMSE implica maior precisão de um modelo de regressão. Entretanto, um valor mais alto de R quadrado é considerado desejável. R2 = 1 é o melhora valor de ajuste possível."
      ],
      "metadata": {
        "id": "MaPmq8BtQAy_"
      }
    },
    {
      "cell_type": "code",
      "metadata": {
        "id": "1J8eKn93f7Lt"
      },
      "source": [
        "# Importar função do Scikit-Learn para métricas de erro.\n",
        "from sklearn import metrics\n",
        "\n",
        "print('MAE:', metrics.mean_absolute_error(y_test, predictions))\n",
        "print('MSE:', metrics.mean_squared_error(y_test, predictions))\n",
        "print('RMSE:', np.sqrt(metrics.mean_squared_error(y_test, predictions)))"
      ],
      "execution_count": null,
      "outputs": []
    },
    {
      "cell_type": "code",
      "metadata": {
        "id": "-Rpr099pe3cR"
      },
      "source": [
        "print(\"Regressão Linear (original)\")\n",
        "print(\"Coeficiente R^2 na base de treinamento: {:.2f}\".format(lm.score(X_train, y_train)))\n",
        "print(\"Coeficiente R^2 na base de teste: {:.2f}\".format(lm.score(X_test, y_test)))\n",
        "\n",
        "print(\"Descrição do modelo: \")\n",
        "s = [\"{0:0.2f}\".format(v) for v in lm.coef_]\n",
        "print(\"w: {}  b: {:.2f}\".format(s, lm.intercept_))"
      ],
      "execution_count": null,
      "outputs": []
    },
    {
      "cell_type": "markdown",
      "source": [
        "E se eu quiser saber o valor predito de uma valor qualquer?"
      ],
      "metadata": {
        "id": "RoMg_Oshmi1l"
      }
    },
    {
      "cell_type": "code",
      "source": [
        "x= 3"
      ],
      "metadata": {
        "id": "4hHerytT7UgK"
      },
      "execution_count": null,
      "outputs": []
    },
    {
      "cell_type": "code",
      "source": [
        "y = 1.000 * x - 0.198\n",
        "y"
      ],
      "metadata": {
        "id": "_qvhEGu56pqU"
      },
      "execution_count": null,
      "outputs": []
    },
    {
      "cell_type": "code",
      "source": [
        "lm.predict(np.array([[3]]))"
      ],
      "metadata": {
        "id": "ZUwfZvFHlGHd"
      },
      "execution_count": null,
      "outputs": []
    }
  ]
}