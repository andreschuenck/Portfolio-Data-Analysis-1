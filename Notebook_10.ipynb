{
  "nbformat": 4,
  "nbformat_minor": 0,
  "metadata": {
    "colab": {
      "provenance": [],
      "collapsed_sections": []
    },
    "kernelspec": {
      "name": "python3",
      "display_name": "Python 3"
    },
    "language_info": {
      "name": "python"
    }
  },
  "cells": [
    {
      "cell_type": "markdown",
      "source": [
        "##ECLAT \n",
        "Equivalence Class Clustering and Bottom-Up Lattice Traversal"
      ],
      "metadata": {
        "id": "yyw9uqh6a_5B"
      }
    },
    {
      "cell_type": "markdown",
      "source": [
        "Passo 1 — Listar o Transaction ID (TID) set"
      ],
      "metadata": {
        "id": "GK6Zte55d0uO"
      }
    },
    {
      "cell_type": "code",
      "execution_count": 7,
      "metadata": {
        "id": "wbRk0YRZYtwF"
      },
      "outputs": [],
      "source": [
        "transacoes = [\n",
        "    ['cerveja', 'vinho', 'queijo'],\n",
        "    ['cerveja', 'batata-frita'],\n",
        "    ['ovos', 'flores', 'manteiga', 'queijo'],\n",
        "    ['ovos', 'flores', 'manteiga', 'cerveja', 'batata-frita'],\n",
        "    ['vinho', 'queijo'],\n",
        "    ['batata-frita'],\n",
        "    ['ovos', 'flores', 'manteiga', 'vinho', 'queijo'],\n",
        "    ['ovos', 'flores', 'manteiga', 'cerveja', 'batata-frita'],\n",
        "    ['vinho', 'cerveja'],\n",
        "    ['cerveja', 'batata-frita'],\n",
        "    ['manteiga', 'ovos'],\n",
        "    ['cerveja', 'batata-frita'],\n",
        "    ['flores', 'ovos'],\n",
        "    ['cerveja', 'batata-frita'],\n",
        "    ['ovos', 'flores', 'manteiga', 'vinho', 'queijo'],\n",
        "    ['cerveja', 'vinho', 'batata-frita', 'queijo'],\n",
        "    ['vinho', 'queijo'],\n",
        "    ['cerveja', 'batata-frita'],\n",
        "    ['vinho', 'queijo'],\n",
        "    ['cerveja', 'batata-frita']\n",
        "]"
      ]
    },
    {
      "cell_type": "code",
      "source": [
        "import pandas as pd\n",
        "\n",
        "# Convertemos a lista em um DataFrame\n",
        "data = pd.DataFrame(transacoes)\n",
        "data"
      ],
      "metadata": {
        "colab": {
          "base_uri": "https://localhost:8080/",
          "height": 677
        },
        "id": "yn-_rlyBYxGa",
        "outputId": "66c5ff97-47de-4a23-9751-b2c2b32f616b"
      },
      "execution_count": 8,
      "outputs": [
        {
          "output_type": "execute_result",
          "data": {
            "text/plain": [
              "               0             1             2        3             4\n",
              "0        cerveja         vinho        queijo     None          None\n",
              "1        cerveja  batata-frita          None     None          None\n",
              "2           ovos        flores      manteiga   queijo          None\n",
              "3           ovos        flores      manteiga  cerveja  batata-frita\n",
              "4          vinho        queijo          None     None          None\n",
              "5   batata-frita          None          None     None          None\n",
              "6           ovos        flores      manteiga    vinho        queijo\n",
              "7           ovos        flores      manteiga  cerveja  batata-frita\n",
              "8          vinho       cerveja          None     None          None\n",
              "9        cerveja  batata-frita          None     None          None\n",
              "10      manteiga          ovos          None     None          None\n",
              "11       cerveja  batata-frita          None     None          None\n",
              "12        flores          ovos          None     None          None\n",
              "13       cerveja  batata-frita          None     None          None\n",
              "14          ovos        flores      manteiga    vinho        queijo\n",
              "15       cerveja         vinho  batata-frita   queijo          None\n",
              "16         vinho        queijo          None     None          None\n",
              "17       cerveja  batata-frita          None     None          None\n",
              "18         vinho        queijo          None     None          None\n",
              "19       cerveja  batata-frita          None     None          None"
            ],
            "text/html": [
              "\n",
              "  <div id=\"df-442c72b0-6a6c-45e0-a981-dbf6ee85110c\">\n",
              "    <div class=\"colab-df-container\">\n",
              "      <div>\n",
              "<style scoped>\n",
              "    .dataframe tbody tr th:only-of-type {\n",
              "        vertical-align: middle;\n",
              "    }\n",
              "\n",
              "    .dataframe tbody tr th {\n",
              "        vertical-align: top;\n",
              "    }\n",
              "\n",
              "    .dataframe thead th {\n",
              "        text-align: right;\n",
              "    }\n",
              "</style>\n",
              "<table border=\"1\" class=\"dataframe\">\n",
              "  <thead>\n",
              "    <tr style=\"text-align: right;\">\n",
              "      <th></th>\n",
              "      <th>0</th>\n",
              "      <th>1</th>\n",
              "      <th>2</th>\n",
              "      <th>3</th>\n",
              "      <th>4</th>\n",
              "    </tr>\n",
              "  </thead>\n",
              "  <tbody>\n",
              "    <tr>\n",
              "      <th>0</th>\n",
              "      <td>cerveja</td>\n",
              "      <td>vinho</td>\n",
              "      <td>queijo</td>\n",
              "      <td>None</td>\n",
              "      <td>None</td>\n",
              "    </tr>\n",
              "    <tr>\n",
              "      <th>1</th>\n",
              "      <td>cerveja</td>\n",
              "      <td>batata-frita</td>\n",
              "      <td>None</td>\n",
              "      <td>None</td>\n",
              "      <td>None</td>\n",
              "    </tr>\n",
              "    <tr>\n",
              "      <th>2</th>\n",
              "      <td>ovos</td>\n",
              "      <td>flores</td>\n",
              "      <td>manteiga</td>\n",
              "      <td>queijo</td>\n",
              "      <td>None</td>\n",
              "    </tr>\n",
              "    <tr>\n",
              "      <th>3</th>\n",
              "      <td>ovos</td>\n",
              "      <td>flores</td>\n",
              "      <td>manteiga</td>\n",
              "      <td>cerveja</td>\n",
              "      <td>batata-frita</td>\n",
              "    </tr>\n",
              "    <tr>\n",
              "      <th>4</th>\n",
              "      <td>vinho</td>\n",
              "      <td>queijo</td>\n",
              "      <td>None</td>\n",
              "      <td>None</td>\n",
              "      <td>None</td>\n",
              "    </tr>\n",
              "    <tr>\n",
              "      <th>5</th>\n",
              "      <td>batata-frita</td>\n",
              "      <td>None</td>\n",
              "      <td>None</td>\n",
              "      <td>None</td>\n",
              "      <td>None</td>\n",
              "    </tr>\n",
              "    <tr>\n",
              "      <th>6</th>\n",
              "      <td>ovos</td>\n",
              "      <td>flores</td>\n",
              "      <td>manteiga</td>\n",
              "      <td>vinho</td>\n",
              "      <td>queijo</td>\n",
              "    </tr>\n",
              "    <tr>\n",
              "      <th>7</th>\n",
              "      <td>ovos</td>\n",
              "      <td>flores</td>\n",
              "      <td>manteiga</td>\n",
              "      <td>cerveja</td>\n",
              "      <td>batata-frita</td>\n",
              "    </tr>\n",
              "    <tr>\n",
              "      <th>8</th>\n",
              "      <td>vinho</td>\n",
              "      <td>cerveja</td>\n",
              "      <td>None</td>\n",
              "      <td>None</td>\n",
              "      <td>None</td>\n",
              "    </tr>\n",
              "    <tr>\n",
              "      <th>9</th>\n",
              "      <td>cerveja</td>\n",
              "      <td>batata-frita</td>\n",
              "      <td>None</td>\n",
              "      <td>None</td>\n",
              "      <td>None</td>\n",
              "    </tr>\n",
              "    <tr>\n",
              "      <th>10</th>\n",
              "      <td>manteiga</td>\n",
              "      <td>ovos</td>\n",
              "      <td>None</td>\n",
              "      <td>None</td>\n",
              "      <td>None</td>\n",
              "    </tr>\n",
              "    <tr>\n",
              "      <th>11</th>\n",
              "      <td>cerveja</td>\n",
              "      <td>batata-frita</td>\n",
              "      <td>None</td>\n",
              "      <td>None</td>\n",
              "      <td>None</td>\n",
              "    </tr>\n",
              "    <tr>\n",
              "      <th>12</th>\n",
              "      <td>flores</td>\n",
              "      <td>ovos</td>\n",
              "      <td>None</td>\n",
              "      <td>None</td>\n",
              "      <td>None</td>\n",
              "    </tr>\n",
              "    <tr>\n",
              "      <th>13</th>\n",
              "      <td>cerveja</td>\n",
              "      <td>batata-frita</td>\n",
              "      <td>None</td>\n",
              "      <td>None</td>\n",
              "      <td>None</td>\n",
              "    </tr>\n",
              "    <tr>\n",
              "      <th>14</th>\n",
              "      <td>ovos</td>\n",
              "      <td>flores</td>\n",
              "      <td>manteiga</td>\n",
              "      <td>vinho</td>\n",
              "      <td>queijo</td>\n",
              "    </tr>\n",
              "    <tr>\n",
              "      <th>15</th>\n",
              "      <td>cerveja</td>\n",
              "      <td>vinho</td>\n",
              "      <td>batata-frita</td>\n",
              "      <td>queijo</td>\n",
              "      <td>None</td>\n",
              "    </tr>\n",
              "    <tr>\n",
              "      <th>16</th>\n",
              "      <td>vinho</td>\n",
              "      <td>queijo</td>\n",
              "      <td>None</td>\n",
              "      <td>None</td>\n",
              "      <td>None</td>\n",
              "    </tr>\n",
              "    <tr>\n",
              "      <th>17</th>\n",
              "      <td>cerveja</td>\n",
              "      <td>batata-frita</td>\n",
              "      <td>None</td>\n",
              "      <td>None</td>\n",
              "      <td>None</td>\n",
              "    </tr>\n",
              "    <tr>\n",
              "      <th>18</th>\n",
              "      <td>vinho</td>\n",
              "      <td>queijo</td>\n",
              "      <td>None</td>\n",
              "      <td>None</td>\n",
              "      <td>None</td>\n",
              "    </tr>\n",
              "    <tr>\n",
              "      <th>19</th>\n",
              "      <td>cerveja</td>\n",
              "      <td>batata-frita</td>\n",
              "      <td>None</td>\n",
              "      <td>None</td>\n",
              "      <td>None</td>\n",
              "    </tr>\n",
              "  </tbody>\n",
              "</table>\n",
              "</div>\n",
              "      <button class=\"colab-df-convert\" onclick=\"convertToInteractive('df-442c72b0-6a6c-45e0-a981-dbf6ee85110c')\"\n",
              "              title=\"Convert this dataframe to an interactive table.\"\n",
              "              style=\"display:none;\">\n",
              "        \n",
              "  <svg xmlns=\"http://www.w3.org/2000/svg\" height=\"24px\"viewBox=\"0 0 24 24\"\n",
              "       width=\"24px\">\n",
              "    <path d=\"M0 0h24v24H0V0z\" fill=\"none\"/>\n",
              "    <path d=\"M18.56 5.44l.94 2.06.94-2.06 2.06-.94-2.06-.94-.94-2.06-.94 2.06-2.06.94zm-11 1L8.5 8.5l.94-2.06 2.06-.94-2.06-.94L8.5 2.5l-.94 2.06-2.06.94zm10 10l.94 2.06.94-2.06 2.06-.94-2.06-.94-.94-2.06-.94 2.06-2.06.94z\"/><path d=\"M17.41 7.96l-1.37-1.37c-.4-.4-.92-.59-1.43-.59-.52 0-1.04.2-1.43.59L10.3 9.45l-7.72 7.72c-.78.78-.78 2.05 0 2.83L4 21.41c.39.39.9.59 1.41.59.51 0 1.02-.2 1.41-.59l7.78-7.78 2.81-2.81c.8-.78.8-2.07 0-2.86zM5.41 20L4 18.59l7.72-7.72 1.47 1.35L5.41 20z\"/>\n",
              "  </svg>\n",
              "      </button>\n",
              "      \n",
              "  <style>\n",
              "    .colab-df-container {\n",
              "      display:flex;\n",
              "      flex-wrap:wrap;\n",
              "      gap: 12px;\n",
              "    }\n",
              "\n",
              "    .colab-df-convert {\n",
              "      background-color: #E8F0FE;\n",
              "      border: none;\n",
              "      border-radius: 50%;\n",
              "      cursor: pointer;\n",
              "      display: none;\n",
              "      fill: #1967D2;\n",
              "      height: 32px;\n",
              "      padding: 0 0 0 0;\n",
              "      width: 32px;\n",
              "    }\n",
              "\n",
              "    .colab-df-convert:hover {\n",
              "      background-color: #E2EBFA;\n",
              "      box-shadow: 0px 1px 2px rgba(60, 64, 67, 0.3), 0px 1px 3px 1px rgba(60, 64, 67, 0.15);\n",
              "      fill: #174EA6;\n",
              "    }\n",
              "\n",
              "    [theme=dark] .colab-df-convert {\n",
              "      background-color: #3B4455;\n",
              "      fill: #D2E3FC;\n",
              "    }\n",
              "\n",
              "    [theme=dark] .colab-df-convert:hover {\n",
              "      background-color: #434B5C;\n",
              "      box-shadow: 0px 1px 3px 1px rgba(0, 0, 0, 0.15);\n",
              "      filter: drop-shadow(0px 1px 2px rgba(0, 0, 0, 0.3));\n",
              "      fill: #FFFFFF;\n",
              "    }\n",
              "  </style>\n",
              "\n",
              "      <script>\n",
              "        const buttonEl =\n",
              "          document.querySelector('#df-442c72b0-6a6c-45e0-a981-dbf6ee85110c button.colab-df-convert');\n",
              "        buttonEl.style.display =\n",
              "          google.colab.kernel.accessAllowed ? 'block' : 'none';\n",
              "\n",
              "        async function convertToInteractive(key) {\n",
              "          const element = document.querySelector('#df-442c72b0-6a6c-45e0-a981-dbf6ee85110c');\n",
              "          const dataTable =\n",
              "            await google.colab.kernel.invokeFunction('convertToInteractive',\n",
              "                                                     [key], {});\n",
              "          if (!dataTable) return;\n",
              "\n",
              "          const docLinkHtml = 'Like what you see? Visit the ' +\n",
              "            '<a target=\"_blank\" href=https://colab.research.google.com/notebooks/data_table.ipynb>data table notebook</a>'\n",
              "            + ' to learn more about interactive tables.';\n",
              "          element.innerHTML = '';\n",
              "          dataTable['output_type'] = 'display_data';\n",
              "          await google.colab.output.renderOutput(dataTable, element);\n",
              "          const docLink = document.createElement('div');\n",
              "          docLink.innerHTML = docLinkHtml;\n",
              "          element.appendChild(docLink);\n",
              "        }\n",
              "      </script>\n",
              "    </div>\n",
              "  </div>\n",
              "  "
            ]
          },
          "metadata": {},
          "execution_count": 8
        }
      ]
    },
    {
      "cell_type": "markdown",
      "source": [
        "Passo 2 - Filtro com apoio mínimo\n",
        "\n",
        "O passo seguinte é decidir sobre o valor do Suporte Mínimo, que servirá para filtrar produtos que não ocorrem com uma frequência suficiente para que sejam considerados."
      ],
      "metadata": {
        "id": "6WNADSJGh2qT"
      }
    },
    {
      "cell_type": "code",
      "source": [
        "# itemSETS\n",
        "# Não queremos produtos únicos\n",
        "min_n_products = 2\n",
        "\n",
        "# Vamos estabelecer o suporte mínimo, expresso em porcentagem\n",
        "\n",
        "min_support = 7/len(transacoes)  # percentual mínimo de ocorrência das combinações\n",
        "\n",
        "#não temos limites para a quantidade de regras de associação\n",
        "# por isso, vamos considerar a transação mais longa\n",
        "\n",
        "max_length = max([len(x) for x in transacoes])"
      ],
      "metadata": {
        "id": "Orl0SiJbY0t6"
      },
      "execution_count": 41,
      "outputs": []
    },
    {
      "cell_type": "code",
      "source": [
        "7/len(transacoes)  "
      ],
      "metadata": {
        "colab": {
          "base_uri": "https://localhost:8080/"
        },
        "id": "aLh5RsN1k2MR",
        "outputId": "58ed98f2-dfde-480d-ae32-48d6a3715355"
      },
      "execution_count": 37,
      "outputs": [
        {
          "output_type": "execute_result",
          "data": {
            "text/plain": [
              "0.35"
            ]
          },
          "metadata": {},
          "execution_count": 37
        }
      ]
    },
    {
      "cell_type": "code",
      "source": [
        "!pip install pyECLAT\n",
        "from pyECLAT import ECLAT"
      ],
      "metadata": {
        "colab": {
          "base_uri": "https://localhost:8080/"
        },
        "id": "NZ_y-4AbY6xq",
        "outputId": "4970dffa-3b2d-4629-bcd2-fc26b7f739d1"
      },
      "execution_count": 19,
      "outputs": [
        {
          "output_type": "stream",
          "name": "stdout",
          "text": [
            "Looking in indexes: https://pypi.org/simple, https://us-python.pkg.dev/colab-wheels/public/simple/\n",
            "Requirement already satisfied: pyECLAT in /usr/local/lib/python3.7/dist-packages (1.0.2)\n",
            "Requirement already satisfied: numpy>=1.17.4 in /usr/local/lib/python3.7/dist-packages (from pyECLAT) (1.21.6)\n",
            "Requirement already satisfied: pandas>=0.25.3 in /usr/local/lib/python3.7/dist-packages (from pyECLAT) (1.3.5)\n",
            "Requirement already satisfied: tqdm>=4.41.1 in /usr/local/lib/python3.7/dist-packages (from pyECLAT) (4.64.1)\n",
            "Requirement already satisfied: python-dateutil>=2.7.3 in /usr/local/lib/python3.7/dist-packages (from pandas>=0.25.3->pyECLAT) (2.8.2)\n",
            "Requirement already satisfied: pytz>=2017.3 in /usr/local/lib/python3.7/dist-packages (from pandas>=0.25.3->pyECLAT) (2022.2.1)\n",
            "Requirement already satisfied: six>=1.5 in /usr/local/lib/python3.7/dist-packages (from python-dateutil>=2.7.3->pandas>=0.25.3->pyECLAT) (1.15.0)\n"
          ]
        }
      ]
    },
    {
      "cell_type": "markdown",
      "source": [
        "Passo 3 - Treinar o modelo"
      ],
      "metadata": {
        "id": "AaqrUzAIkZlR"
      }
    },
    {
      "cell_type": "code",
      "source": [
        "# criamos uma instância para eclat\n",
        "my_eclat = ECLAT(data=data, verbose=True)\n",
        "\n",
        "# treinamos o algoritmo\n",
        "rule_indices, rule_supports = my_eclat.fit(min_support=min_support,\n",
        "                                           min_combination=min_n_products,\n",
        "                                           max_combination=max_length)"
      ],
      "metadata": {
        "colab": {
          "base_uri": "https://localhost:8080/"
        },
        "id": "9TakHzUNjkt5",
        "outputId": "afc36c19-c38b-4020-b8c6-80b137a27d56"
      },
      "execution_count": 42,
      "outputs": [
        {
          "output_type": "stream",
          "name": "stderr",
          "text": [
            "100%|██████████| 8/8 [00:00<00:00, 805.82it/s]\n",
            "100%|██████████| 8/8 [00:00<00:00, 71240.83it/s]\n",
            "100%|██████████| 8/8 [00:00<00:00, 2764.87it/s]\n"
          ]
        },
        {
          "output_type": "stream",
          "name": "stdout",
          "text": [
            "Combination 2 by 2\n"
          ]
        },
        {
          "output_type": "stream",
          "name": "stderr",
          "text": [
            "10it [00:00, 358.19it/s]\n"
          ]
        },
        {
          "output_type": "stream",
          "name": "stdout",
          "text": [
            "Combination 3 by 3\n"
          ]
        },
        {
          "output_type": "stream",
          "name": "stderr",
          "text": [
            "10it [00:00, 410.23it/s]\n"
          ]
        },
        {
          "output_type": "stream",
          "name": "stdout",
          "text": [
            "Combination 4 by 4\n"
          ]
        },
        {
          "output_type": "stream",
          "name": "stderr",
          "text": [
            "5it [00:00, 365.14it/s]\n"
          ]
        },
        {
          "output_type": "stream",
          "name": "stdout",
          "text": [
            "Combination 5 by 5\n"
          ]
        },
        {
          "output_type": "stream",
          "name": "stderr",
          "text": [
            "1it [00:00, 117.39it/s]\n"
          ]
        }
      ]
    },
    {
      "cell_type": "code",
      "source": [
        "print(rule_supports)"
      ],
      "metadata": {
        "colab": {
          "base_uri": "https://localhost:8080/"
        },
        "id": "wfKazgPhZLgD",
        "outputId": "722ab40d-ab48-4769-d741-dd09a5da2b27"
      },
      "execution_count": 43,
      "outputs": [
        {
          "output_type": "stream",
          "name": "stdout",
          "text": [
            "{'cerveja & batata-frita': 0.45, 'queijo & vinho': 0.35}\n"
          ]
        }
      ]
    },
    {
      "cell_type": "markdown",
      "source": [
        "Compreendendo o resultado: dentro das transações realizadas, existem duas combinações de produtos que são relativamente fortes. É comum comprarem queijo e vinho juntos e cerveja e batata-frita. "
      ],
      "metadata": {
        "id": "eU3I9QMQZZXK"
      }
    }
  ]
}