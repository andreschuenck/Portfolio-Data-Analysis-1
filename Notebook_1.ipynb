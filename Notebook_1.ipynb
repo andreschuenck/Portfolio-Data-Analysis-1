{
  "cells": [
    {
      "cell_type": "markdown",
      "metadata": {
        "id": "2TsFLltpXWh6"
      },
      "source": [
        "**Meu primeiro texto**"
      ]
    },
    {
      "cell_type": "markdown",
      "metadata": {
        "id": "JdswrB95Qvr1"
      },
      "source": [
        "# NOTEBOOK 1"
      ]
    },
    {
      "cell_type": "markdown",
      "metadata": {
        "id": "XOE9jDpiQvr7"
      },
      "source": [
        "## 1) Conceitos básicos"
      ]
    },
    {
      "cell_type": "markdown",
      "source": [
        "https://pypi.org/\n",
        "\n",
        "O Python Package Index (PyPI) é um repositório de software (incluindo bibliotecas) para a linguagem de programação Python.\n",
        "\n",
        "PyPI ajuda você a encontrar e instalar software desenvolvido e compartilhado pela comunidade Python"
      ],
      "metadata": {
        "id": "lHNd0exmTlSR"
      }
    },
    {
      "cell_type": "markdown",
      "metadata": {
        "id": "RCtlZqTrQvr8"
      },
      "source": [
        "### 1.1) Instalando bibliotecas"
      ]
    },
    {
      "cell_type": "code",
      "execution_count": null,
      "metadata": {
        "id": "rN9JWxDhuXF9"
      },
      "outputs": [],
      "source": [
        "!pip install numpy  #instala a biblioteca Numpy\n",
        "!pip install pandas #instala a biblioteca pandas"
      ]
    },
    {
      "cell_type": "markdown",
      "source": [
        "Numpy - http://www.numpy.org\n",
        "\n",
        "Numerical Python (NumPy) é a base do processamento numérico em Python. Possui recursos para o processamento rápido de arrays.\n",
        "\n",
        "pandas - http://pandas.pydata.org\n",
        "\n",
        "pandas pretende ser o bloco fundamental de construção de alto nível para fazer análises de dados práticos e do mundo real em Python"
      ],
      "metadata": {
        "id": "DOpVSWStS9AX"
      }
    },
    {
      "cell_type": "markdown",
      "metadata": {
        "id": "0qHx4IKSQvr9"
      },
      "source": [
        "### 1.2) \"Olá Mundo!\" no Python"
      ]
    },
    {
      "cell_type": "code",
      "execution_count": null,
      "metadata": {
        "id": "Dd2CKC6AQvr9",
        "scrolled": true
      },
      "outputs": [],
      "source": [
        "print(\"Olá mundo\")"
      ]
    },
    {
      "cell_type": "markdown",
      "metadata": {
        "id": "voSosVEfQvr-"
      },
      "source": [
        "### 1.3) Input() e print()"
      ]
    },
    {
      "cell_type": "code",
      "execution_count": null,
      "metadata": {
        "id": "OzWo8dv2Qvr-"
      },
      "outputs": [],
      "source": [
        "nome = input(\"Informe um nome:\")  # input - após rodar o comando, aperte o Enter para que a variável receba o valor digitado"
      ]
    },
    {
      "cell_type": "code",
      "execution_count": null,
      "metadata": {
        "id": "7VM7cE19YA4w"
      },
      "outputs": [],
      "source": [
        "print(\"Olá,\", nome)"
      ]
    },
    {
      "cell_type": "code",
      "execution_count": null,
      "metadata": {
        "id": "yYgkLv8Tx4Fy"
      },
      "outputs": [],
      "source": [
        "print(f\"Olá, {nome}\")  # f é um comando para formatação"
      ]
    },
    {
      "cell_type": "code",
      "execution_count": null,
      "metadata": {
        "id": "6ZJhLilBx-cc"
      },
      "outputs": [],
      "source": [
        "x = input('Enter your name:')\n",
        "print('Olá, ' + x)"
      ]
    },
    {
      "cell_type": "markdown",
      "metadata": {
        "id": "SACZXw0dQvr_"
      },
      "source": [
        "### 1.4) Operadores aritméticos"
      ]
    },
    {
      "cell_type": "code",
      "execution_count": null,
      "metadata": {
        "id": "cYN2tw6_u759"
      },
      "outputs": [],
      "source": [
        "resultado = 11%3  # resto da divisão de 11 por 3\n",
        "print(resultado)"
      ]
    },
    {
      "cell_type": "code",
      "source": [
        "2+35\n"
      ],
      "metadata": {
        "id": "V0b1NsBq5KuR"
      },
      "execution_count": null,
      "outputs": []
    },
    {
      "cell_type": "code",
      "execution_count": null,
      "metadata": {
        "id": "v9A8nfaiyNb0"
      },
      "outputs": [],
      "source": [
        "(20+80)/5*2**2"
      ]
    },
    {
      "cell_type": "code",
      "source": [
        "2**3 # potenciação ou exponenciação: base ** expoente"
      ],
      "metadata": {
        "id": "Tf5He72s5RUt"
      },
      "execution_count": null,
      "outputs": []
    },
    {
      "cell_type": "markdown",
      "metadata": {
        "id": "2_NbG5l-Qvr_"
      },
      "source": [
        "### 1.5) Função print() com f e str.format()"
      ]
    },
    {
      "cell_type": "code",
      "execution_count": null,
      "metadata": {
        "id": "nO8iwcXtQvsA"
      },
      "outputs": [],
      "source": [
        "print(\"Meu nome é\", nome, \"e a variável resultado vale:\", resultado)"
      ]
    },
    {
      "cell_type": "code",
      "execution_count": null,
      "metadata": {
        "id": "M-09B3_cy3EZ"
      },
      "outputs": [],
      "source": [
        "print(f\"Meu nome é {nome} e a variável resultado vale: {resultado}\")"
      ]
    },
    {
      "cell_type": "code",
      "execution_count": null,
      "metadata": {
        "id": "GpdhQR-_xd9J"
      },
      "outputs": [],
      "source": [
        "print(\"Meu nome é {} e a variável resultado vale: {}\".format(nome, resultado))"
      ]
    },
    {
      "cell_type": "code",
      "execution_count": null,
      "metadata": {
        "id": "lcrnvAlUyvEk"
      },
      "outputs": [],
      "source": [
        "print(\"O Aprendizado de Máquina fornece aos {} a habilidade de aprender {}\".format(\"sistemas\", \"automaticamente\"))"
      ]
    },
    {
      "cell_type": "code",
      "execution_count": null,
      "metadata": {
        "id": "pWPWTL0ny2Kr"
      },
      "outputs": [],
      "source": [
        "print(\"{2} tem uma amiga chamada {0} e uma irmã chamada {1}\". format(\"Ana\", \"Milena\", \"Tulipa\"))"
      ]
    },
    {
      "cell_type": "markdown",
      "metadata": {
        "id": "vA4YR8QJW7o0"
      },
      "source": [
        "###1.6 Atribuindo valores a variáveis"
      ]
    },
    {
      "cell_type": "code",
      "execution_count": null,
      "metadata": {
        "id": "FTsmXPfCtEiq"
      },
      "outputs": [],
      "source": [
        "nota_mia = 8\n",
        "nota_fred = 9.5\n",
        "primeiro_nome = \"Maria\""
      ]
    },
    {
      "cell_type": "code",
      "source": [
        "print(nota_fred)"
      ],
      "metadata": {
        "id": "9S9juv6h5ynk"
      },
      "execution_count": null,
      "outputs": []
    },
    {
      "cell_type": "markdown",
      "metadata": {
        "id": "FmfGlTsPQvsB"
      },
      "source": [
        "## 2) Listas\n",
        "\n",
        "Tipo de dado com uma sequência ordenada de valores ou vazia. Podem ser de tipos diferentes"
      ]
    },
    {
      "cell_type": "markdown",
      "metadata": {
        "id": "H2mSygXkXnJM"
      },
      "source": [
        "### Lista Vazia"
      ]
    },
    {
      "cell_type": "code",
      "execution_count": null,
      "metadata": {
        "id": "eLyAgOPcQvsB"
      },
      "outputs": [],
      "source": [
        "# comandos para criar listas vazias\n",
        "\n",
        "lista_vazia = []  \n",
        "lista_vazia = list()"
      ]
    },
    {
      "cell_type": "code",
      "execution_count": null,
      "metadata": {
        "id": "fVjCcGUqtp2M"
      },
      "outputs": [],
      "source": [
        "type(lista_vazia)  # type() retorna o tipo da variável"
      ]
    },
    {
      "cell_type": "markdown",
      "metadata": {
        "id": "fX97kiXVQvsC"
      },
      "source": [
        "### Listas de números"
      ]
    },
    {
      "cell_type": "code",
      "execution_count": null,
      "metadata": {
        "id": "kmXanIzEv7v_"
      },
      "outputs": [],
      "source": [
        "numeros = [5, 8.3, 9, 4, 5000, 2]"
      ]
    },
    {
      "cell_type": "code",
      "execution_count": null,
      "metadata": {
        "id": "oGuQqltmuZDR"
      },
      "outputs": [],
      "source": [
        "type(numeros)"
      ]
    },
    {
      "cell_type": "markdown",
      "metadata": {
        "id": "xybDKoRmQvsC"
      },
      "source": [
        "### Listas de strings"
      ]
    },
    {
      "cell_type": "code",
      "execution_count": null,
      "metadata": {
        "id": "ywLTAopCQvsD"
      },
      "outputs": [],
      "source": [
        "nomes = [\"Mia\", \"Fred\", \"Jorge\", \"Zelda\", \"Phoebe\"]"
      ]
    },
    {
      "cell_type": "code",
      "execution_count": null,
      "metadata": {
        "id": "IOGEL66Nuzo9"
      },
      "outputs": [],
      "source": [
        "type(nomes)"
      ]
    },
    {
      "cell_type": "code",
      "execution_count": null,
      "metadata": {
        "id": "F1u7gwkPvC5-"
      },
      "outputs": [],
      "source": [
        "alunos = [\"Mia\", \"Fred\", \"Zelda\", \"Mia\", \"Jorge\", \"Jorge\", \"Davi\", \"Mia\"]"
      ]
    },
    {
      "cell_type": "code",
      "execution_count": null,
      "metadata": {
        "id": "sDqabm8KvGDt"
      },
      "outputs": [],
      "source": [
        "notas = [10, 7, 150, 6, 9, 8.5, 8]"
      ]
    },
    {
      "cell_type": "code",
      "execution_count": null,
      "metadata": {
        "id": "1FSncoAsGkH9"
      },
      "outputs": [],
      "source": [
        "notas[2] = 6  #atribuindo um novo valor a um item da lista\n",
        "notas"
      ]
    },
    {
      "cell_type": "markdown",
      "metadata": {
        "id": "lW4w48ZrQvsD"
      },
      "source": [
        "### Operação com Sequências\n"
      ]
    },
    {
      "cell_type": "markdown",
      "metadata": {
        "id": "fVjkLZeUJqPF"
      },
      "source": [
        "####  Verificar se um item está na lista - comando **in**"
      ]
    },
    {
      "cell_type": "code",
      "execution_count": null,
      "metadata": {
        "id": "cdRXbZoEwqSK"
      },
      "outputs": [],
      "source": [
        "\"Zelda\" in alunos"
      ]
    },
    {
      "cell_type": "code",
      "execution_count": null,
      "metadata": {
        "id": "YsUbNZDIwi12"
      },
      "outputs": [],
      "source": [
        "\"Rony\" in alunos"
      ]
    },
    {
      "cell_type": "code",
      "source": [
        "alunos"
      ],
      "metadata": {
        "id": "wwKocD1_69Hd"
      },
      "execution_count": null,
      "outputs": []
    },
    {
      "cell_type": "code",
      "execution_count": null,
      "metadata": {
        "id": "sPWBSyujwnp9"
      },
      "outputs": [],
      "source": [
        "\"mia\" in alunos  # por quê?"
      ]
    },
    {
      "cell_type": "code",
      "execution_count": null,
      "metadata": {
        "id": "gK0oNPoAxBZj"
      },
      "outputs": [],
      "source": [
        "10 in notas"
      ]
    },
    {
      "cell_type": "markdown",
      "metadata": {
        "id": "QEc2hx2K2s2-"
      },
      "source": [
        "Uma observação: booleanas são consideradas um tipo numérico em Python. Isto significa que são números para todos os fins e propósitos. Em outras palavras, você pode aplicar operações aritméticas às *Booleans*, e também pode compará-las a números:"
      ]
    },
    {
      "cell_type": "code",
      "source": [
        "True == 1"
      ],
      "metadata": {
        "id": "dCbUjFUV86hZ"
      },
      "execution_count": null,
      "outputs": []
    },
    {
      "cell_type": "code",
      "source": [
        "False == 0"
      ],
      "metadata": {
        "id": "rj80zUX-8-e0"
      },
      "execution_count": null,
      "outputs": []
    },
    {
      "cell_type": "code",
      "execution_count": null,
      "metadata": {
        "id": "PF-NnGSe3EPq"
      },
      "outputs": [],
      "source": [
        "print(True * (False/True))\n",
        "\n",
        "print(True * (True + True))"
      ]
    },
    {
      "cell_type": "code",
      "source": [
        "True + False + 2 * True"
      ],
      "metadata": {
        "id": "NO2qFRp17Z5R"
      },
      "execution_count": null,
      "outputs": []
    },
    {
      "cell_type": "markdown",
      "metadata": {
        "id": "oHxvbC0uQvsE"
      },
      "source": [
        "#### Verificar se um item não está na lista **not in**"
      ]
    },
    {
      "cell_type": "code",
      "execution_count": null,
      "metadata": {
        "id": "h2jvY2cYQvsE"
      },
      "outputs": [],
      "source": [
        "\"Rony\" not in alunos"
      ]
    },
    {
      "cell_type": "markdown",
      "metadata": {
        "id": "eYISWGXBGAEH"
      },
      "source": [
        "#### Acessar uma posição na lista\n"
      ]
    },
    {
      "cell_type": "code",
      "execution_count": null,
      "metadata": {
        "id": "4Z8jl1mDJcEO"
      },
      "outputs": [],
      "source": [
        "alunos"
      ]
    },
    {
      "cell_type": "code",
      "execution_count": null,
      "metadata": {
        "id": "mnWfBq_VF8s3"
      },
      "outputs": [],
      "source": [
        "alunos[0]  # Python é indexado do 0"
      ]
    },
    {
      "cell_type": "code",
      "execution_count": null,
      "metadata": {
        "id": "eOcgvAiX7UT3"
      },
      "outputs": [],
      "source": [
        "alunos[7]"
      ]
    },
    {
      "cell_type": "code",
      "execution_count": null,
      "metadata": {
        "id": "GUxr1Qn1GK0-"
      },
      "outputs": [],
      "source": [
        "alunos[-1]  # último elemento"
      ]
    },
    {
      "cell_type": "markdown",
      "metadata": {
        "id": "WcbHJ-ZkGat8"
      },
      "source": [
        "#### Recuperar um fatia da lista (começando a entender o SLICING)"
      ]
    },
    {
      "cell_type": "code",
      "execution_count": null,
      "metadata": {
        "id": "GFLlwLUTyOdY"
      },
      "outputs": [],
      "source": [
        "alunos"
      ]
    },
    {
      "cell_type": "code",
      "execution_count": null,
      "metadata": {
        "id": "0xa0qi2pGzxB"
      },
      "outputs": [],
      "source": [
        "alunos[1:] # da posição 1 ao final"
      ]
    },
    {
      "cell_type": "code",
      "execution_count": null,
      "metadata": {
        "id": "jnecxm-1HGSX"
      },
      "outputs": [],
      "source": [
        "alunos[:5] # do início (posição 0) à posição 4 (5-1)"
      ]
    },
    {
      "cell_type": "markdown",
      "metadata": {
        "id": "WJSx2mP8G083"
      },
      "source": [
        "#### Replicar a lista dando um passo k"
      ]
    },
    {
      "cell_type": "code",
      "execution_count": null,
      "metadata": {
        "id": "uw6BT7SoHZh2"
      },
      "outputs": [],
      "source": [
        "print(alunos)"
      ]
    },
    {
      "cell_type": "code",
      "execution_count": null,
      "metadata": {
        "id": "EY48BbtKCFsG"
      },
      "outputs": [],
      "source": [
        "alunos[1:8:2] # passo = 2"
      ]
    },
    {
      "cell_type": "markdown",
      "metadata": {
        "id": "Er-YcymiKWbn"
      },
      "source": [
        "#### Tamanho da Lista\n",
        "len()"
      ]
    },
    {
      "cell_type": "code",
      "execution_count": null,
      "metadata": {
        "id": "wk8yzVuaHkGH"
      },
      "outputs": [],
      "source": [
        "len(alunos) #retorna a quantidade de elementos na lista"
      ]
    },
    {
      "cell_type": "code",
      "execution_count": null,
      "metadata": {
        "id": "8qiBomOpG6JQ"
      },
      "outputs": [],
      "source": [
        "len(\"O almoço estava bom\")"
      ]
    },
    {
      "cell_type": "markdown",
      "metadata": {
        "id": "DPxfU9SxQvsE"
      },
      "source": [
        "#### Concatenando uma lista"
      ]
    },
    {
      "cell_type": "code",
      "execution_count": null,
      "metadata": {
        "id": "YY72ULxIyeRX"
      },
      "outputs": [],
      "source": [
        "alunos"
      ]
    },
    {
      "cell_type": "code",
      "execution_count": null,
      "metadata": {
        "id": "olqwSsv3FfjI"
      },
      "outputs": [],
      "source": [
        "novos_alunos = alunos + [\"Andrea\", \"Marcela\"]  # Criamos uma nova lista a partir da concatenação de duas listas\n",
        "print(novos_alunos)"
      ]
    },
    {
      "cell_type": "code",
      "execution_count": null,
      "metadata": {
        "id": "j3voziIWQvsE"
      },
      "outputs": [],
      "source": [
        "frutas = ['banana', 'maça']\n",
        "legumes = ['jiló', 'chuchu']"
      ]
    },
    {
      "cell_type": "code",
      "execution_count": null,
      "metadata": {
        "id": "JQN_4cotzezn"
      },
      "outputs": [],
      "source": [
        "lista_compras = frutas + legumes  # Criamos uma nova lista a partir da concatenação de duas listas\n",
        "print(lista_compras)"
      ]
    },
    {
      "cell_type": "markdown",
      "metadata": {
        "id": "Ft3RJnLo0FVd"
      },
      "source": [
        "#### Modificando Listas"
      ]
    },
    {
      "cell_type": "markdown",
      "metadata": {
        "id": "Qnm9mGM9JHNw"
      },
      "source": [
        "##### APPEND() \n",
        "\n",
        "Adiciona qualquer valor completo, por exemplo, se enviarmos uma string, ele adiciona a string, se enviarmos uma lista, ele adiciona a lista inteira ao invés de seus itens um a um."
      ]
    },
    {
      "cell_type": "code",
      "execution_count": null,
      "metadata": {
        "id": "e5b_b50fz_4y"
      },
      "outputs": [],
      "source": [
        "# Cria uma lista vazia.\n",
        "lista = []\n",
        "\n",
        "# Adiciona elementos no final da lista.\n",
        "lista.append(\"P\")\n",
        "lista.append(\"Y\")\n",
        "lista.append(\"T\")\n",
        "lista.append(\"H\")\n",
        "lista.append(\"O\")\n",
        "lista.append(\"N\")\n",
        "\n",
        "print(lista)"
      ]
    },
    {
      "cell_type": "code",
      "execution_count": null,
      "metadata": {
        "id": "sMueY6PI6Nnq"
      },
      "outputs": [],
      "source": [
        "frutas.append(\"melancia\")\n",
        "print(frutas)"
      ]
    },
    {
      "cell_type": "code",
      "execution_count": null,
      "metadata": {
        "id": "O5oFdRUq6USJ"
      },
      "outputs": [],
      "source": [
        "frutas.append(['uva', 'laranja'])\n"
      ]
    },
    {
      "cell_type": "code",
      "execution_count": null,
      "metadata": {
        "id": "eNYVvRkJPayh"
      },
      "outputs": [],
      "source": [
        "print(frutas)"
      ]
    },
    {
      "cell_type": "code",
      "execution_count": null,
      "metadata": {
        "id": "c24URVBjQvsH"
      },
      "outputs": [],
      "source": [
        "len(frutas)"
      ]
    },
    {
      "cell_type": "code",
      "execution_count": null,
      "metadata": {
        "id": "vZKOeLw20oIp"
      },
      "outputs": [],
      "source": [
        "bolo = ['farinha de trigo', 'ovo', 'leite', 'manteiga']\n",
        "bolo.append(['açucar', 'fermento'])\n",
        "print(bolo)"
      ]
    },
    {
      "cell_type": "markdown",
      "metadata": {
        "id": "BpJsAORg0sJC"
      },
      "source": [
        "Perceba que o append adicionou a lista ['açucar', 'fermento'] à lista bolo. Mas talvez desejássemos adicionar 'açucar' e 'fermento' como elementos da lista bolo, e não como uma lista dentro de uma lista. O extend nos permite fazer isso."
      ]
    },
    {
      "cell_type": "code",
      "execution_count": null,
      "metadata": {
        "id": "znbhAv6c0w_G"
      },
      "outputs": [],
      "source": [
        "bolo = ['farinha de trigo', 'ovo', 'leite', 'manteiga']\n",
        "bolo.extend(['açucar', 'fermento'])\n",
        "print(bolo)"
      ]
    },
    {
      "cell_type": "markdown",
      "metadata": {
        "id": "smNjrZ5fIx-5"
      },
      "source": [
        "##### EXTEND() \n",
        "\n",
        "Adiciona itens de uma estrutura iterável, por exemplo, se enviarmos um objeto puro, ele não sabe como adicionar, porém, se enviarmos esse mesmo objeto dentro de uma lista, ele varrerá a lista e adicionará os objetos dentro da lista, um a um."
      ]
    },
    {
      "cell_type": "code",
      "source": [
        "linguagens = [\"C\", \"Java\", \"Julia\"]"
      ],
      "metadata": {
        "id": "mNM5Us9r9uPN"
      },
      "execution_count": null,
      "outputs": []
    },
    {
      "cell_type": "code",
      "execution_count": null,
      "metadata": {
        "id": "j_Mw0QqK44hD"
      },
      "outputs": [],
      "source": [
        "linguagens.extend([\"Python\", 'Scala'])"
      ]
    },
    {
      "cell_type": "markdown",
      "metadata": {
        "id": "7QPd0ZglDYuF"
      },
      "source": [
        "##### INSERT()"
      ]
    },
    {
      "cell_type": "markdown",
      "metadata": {
        "id": "--LUtNjN05gz"
      },
      "source": [
        "A função append() sempre insere elementos no final da lista. Isso é bom por questões de desempenho. É mais rápido inserir elementos no final de uma lista porque não precisamos percorrer a lista procurando a posição onde o elemento deve ser inserido. Mas também é possível inserir elementos em posições específicas da lista, usando a função insert()."
      ]
    },
    {
      "cell_type": "code",
      "execution_count": null,
      "metadata": {
        "id": "c2bucair1BQT"
      },
      "outputs": [],
      "source": [
        "lista = ['P', 'T', 'H', 'N']\n",
        "lista.insert(1, \"Y\")\n",
        "lista.insert(4, \"O\")\n",
        "\n",
        "print(lista)"
      ]
    },
    {
      "cell_type": "markdown",
      "metadata": {
        "id": "9h6blTZXQvsF"
      },
      "source": [
        "##### Replicar a lista n vezes"
      ]
    },
    {
      "cell_type": "code",
      "execution_count": null,
      "metadata": {
        "id": "g-KutYez2W12"
      },
      "outputs": [],
      "source": [
        "linguagens * 2"
      ]
    },
    {
      "cell_type": "markdown",
      "metadata": {
        "id": "mNbg0izsQvsI"
      },
      "source": [
        "##### Menor elemento da lista\n",
        "MIN()"
      ]
    },
    {
      "cell_type": "code",
      "execution_count": null,
      "metadata": {
        "id": "WjdEHy0W0grZ"
      },
      "outputs": [],
      "source": [
        "notas"
      ]
    },
    {
      "cell_type": "code",
      "execution_count": null,
      "metadata": {
        "id": "UUN1_P9q_q35"
      },
      "outputs": [],
      "source": [
        "min(notas)"
      ]
    },
    {
      "cell_type": "code",
      "execution_count": null,
      "metadata": {
        "id": "Epap-DR__38B"
      },
      "outputs": [],
      "source": [
        "print(linguagens)"
      ]
    },
    {
      "cell_type": "code",
      "execution_count": null,
      "metadata": {
        "id": "tZSJl-4jAsZB"
      },
      "outputs": [],
      "source": [
        "min(linguagens)"
      ]
    },
    {
      "cell_type": "markdown",
      "metadata": {
        "id": "KpNGENQmEky0"
      },
      "source": [
        "##### Maior elemento da lista\n",
        "MAX()"
      ]
    },
    {
      "cell_type": "code",
      "execution_count": null,
      "metadata": {
        "id": "Q8oNg5-T53cX"
      },
      "outputs": [],
      "source": [
        "max(linguagens)"
      ]
    },
    {
      "cell_type": "markdown",
      "metadata": {
        "id": "pFF-D3OvQvsK"
      },
      "source": [
        "##### Número de ocorrências de um elemento na lista\n",
        " COUNT()"
      ]
    },
    {
      "cell_type": "code",
      "execution_count": null,
      "metadata": {
        "id": "1EMC_5iDQvsK",
        "scrolled": true
      },
      "outputs": [],
      "source": [
        "alunos"
      ]
    },
    {
      "cell_type": "code",
      "execution_count": null,
      "metadata": {
        "id": "-FIZ86n5BIv0"
      },
      "outputs": [],
      "source": [
        "alunos.count(\"Mia\")"
      ]
    },
    {
      "cell_type": "markdown",
      "metadata": {
        "id": "Jc8OSnHOQvsN"
      },
      "source": [
        "##### Remover um item da lista\n",
        "DEL, REMOVE(), POP()\n",
        "\n"
      ]
    },
    {
      "cell_type": "markdown",
      "metadata": {
        "id": "83myj0N2TfWN"
      },
      "source": [
        "**del list_name[index]**      # para excluir um valor único de acordo com o índice apresentado\n",
        "\n",
        "**del list_name**      # para excluir a lista inteira"
      ]
    },
    {
      "cell_type": "markdown",
      "source": [
        "A palavra-chave del é usada para apagar objetos. Em Python tudo é um objeto, portanto a palavra-chave del também pode ser usada para excluir variáveis, listas ou partes de uma lista, etc."
      ],
      "metadata": {
        "id": "MKGxAPQgBo08"
      }
    },
    {
      "cell_type": "code",
      "execution_count": null,
      "metadata": {
        "id": "T0jzBQ9TS80U"
      },
      "outputs": [],
      "source": [
        "numbers = [1, 2, 3, 2, 3, 4, 5] "
      ]
    },
    {
      "cell_type": "code",
      "execution_count": null,
      "metadata": {
        "id": "ze9ZE7jFTBR-"
      },
      "outputs": [],
      "source": [
        "del numbers[2]  # Excluíra o item na posição 2 da lista\n",
        "print(numbers) "
      ]
    },
    {
      "cell_type": "markdown",
      "metadata": {
        "id": "A6va_E1EsqKa"
      },
      "source": [
        "As palavras-chave são algumas palavras predefinidas e reservadas em python "
      ]
    },
    {
      "cell_type": "code",
      "execution_count": null,
      "metadata": {
        "id": "rtgbufEHTDP0"
      },
      "outputs": [],
      "source": [
        "del numbers[-1] \n",
        "print(numbers) "
      ]
    },
    {
      "cell_type": "code",
      "execution_count": null,
      "metadata": {
        "id": "s0HeawdTTFOE"
      },
      "outputs": [],
      "source": [
        "del numbers"
      ]
    },
    {
      "cell_type": "code",
      "source": [
        "#print(numbers)"
      ],
      "metadata": {
        "id": "8A6kuwchCLP8"
      },
      "execution_count": null,
      "outputs": []
    },
    {
      "cell_type": "markdown",
      "metadata": {
        "id": "nfEC8NdFTuEM"
      },
      "source": [
        "**list_name.remove(valor)** UTILIZA O VALOR DO ELEMENTO PARA REMOVÊ-LO DA LISTA"
      ]
    },
    {
      "cell_type": "code",
      "execution_count": null,
      "metadata": {
        "id": "o2xR_Vw-Ta7U"
      },
      "outputs": [],
      "source": [
        "numbers = [1, 2, 3, 2, 3, 4, 5] "
      ]
    },
    {
      "cell_type": "code",
      "execution_count": null,
      "metadata": {
        "id": "gdVtmSaTT1Nd"
      },
      "outputs": [],
      "source": [
        "numbers.remove(3) # remove a 1a ocorrência do valor 3\n",
        "print(numbers) "
      ]
    },
    {
      "cell_type": "code",
      "execution_count": null,
      "metadata": {
        "id": "mQqtFZQeT2wA"
      },
      "outputs": [],
      "source": [
        "numbers.remove(2) \n",
        "print(numbers) "
      ]
    },
    {
      "cell_type": "code",
      "execution_count": null,
      "metadata": {
        "id": "TgPHFRQFT4_c"
      },
      "outputs": [],
      "source": [
        "numbers.remove(5) \n",
        "print(numbers) "
      ]
    },
    {
      "cell_type": "markdown",
      "metadata": {
        "id": "cbbMx_FKUAvs"
      },
      "source": [
        "**list_name.pop(índice)**  UTILIZA O ÍNDICE PARA REMOVER O ELEMENTO DA LISTA"
      ]
    },
    {
      "cell_type": "markdown",
      "source": [
        "O método pop(), assim como del, elimina o valor em um determinado índice. Mas o método pop() retorna o valor deletado da lista."
      ],
      "metadata": {
        "id": "GzwIive2DCJM"
      }
    },
    {
      "cell_type": "code",
      "execution_count": null,
      "metadata": {
        "id": "wpIpyn3pUFoE"
      },
      "outputs": [],
      "source": [
        "numbers = [1, 2, 3, 2, 3, 4, 5] "
      ]
    },
    {
      "cell_type": "code",
      "execution_count": null,
      "metadata": {
        "id": "eSlp1uGeUK8M"
      },
      "outputs": [],
      "source": [
        "numbers.pop(3) # remove o objeto na posição indicada\n",
        "print(numbers) "
      ]
    },
    {
      "cell_type": "code",
      "source": [
        "valor_removido = numbers.pop(-1)"
      ],
      "metadata": {
        "id": "3YlZARsNDMi7"
      },
      "execution_count": null,
      "outputs": []
    },
    {
      "cell_type": "code",
      "source": [
        "print(numbers)\n",
        "print(valor_removido)"
      ],
      "metadata": {
        "id": "ALJjZ2NEDUH9"
      },
      "execution_count": null,
      "outputs": []
    },
    {
      "cell_type": "code",
      "execution_count": null,
      "metadata": {
        "id": "XAfWKHEoz-zm"
      },
      "outputs": [],
      "source": [
        "print(frutas)"
      ]
    },
    {
      "cell_type": "code",
      "execution_count": null,
      "metadata": {
        "id": "byqit7QLQvsO"
      },
      "outputs": [],
      "source": [
        "removido = frutas.pop(3)\n",
        "removido"
      ]
    },
    {
      "cell_type": "code",
      "execution_count": null,
      "metadata": {
        "id": "wur1LAx8DyYV"
      },
      "outputs": [],
      "source": [
        "print(frutas)"
      ]
    },
    {
      "cell_type": "markdown",
      "metadata": {
        "id": "nY4U8NoJQvsO"
      },
      "source": [
        "#### Alterar um valor da lista"
      ]
    },
    {
      "cell_type": "code",
      "execution_count": null,
      "metadata": {
        "id": "jB5Fpl6LdQ7B"
      },
      "outputs": [],
      "source": [
        "frutas[0] = \"goiaba\"\n",
        "frutas"
      ]
    },
    {
      "cell_type": "code",
      "execution_count": null,
      "metadata": {
        "id": "ckM0borBWO5D"
      },
      "outputs": [],
      "source": [
        "frutas[2] = \"pitaya\"\n",
        "frutas"
      ]
    },
    {
      "cell_type": "markdown",
      "metadata": {
        "id": "uaxCkFWsaA9a"
      },
      "source": [
        "#### Ordenar \n",
        "**sorted()**"
      ]
    },
    {
      "cell_type": "code",
      "execution_count": null,
      "metadata": {
        "id": "63leXuVwXDD0"
      },
      "outputs": [],
      "source": [
        "numbers = [6, 9, 3, 1]"
      ]
    },
    {
      "cell_type": "code",
      "execution_count": null,
      "metadata": {
        "id": "iSxdROwwXErb"
      },
      "outputs": [],
      "source": [
        "numbers_sorted = sorted(numbers)  # cria uma nova lista ordenada\n",
        "numbers_sorted"
      ]
    },
    {
      "cell_type": "code",
      "execution_count": null,
      "metadata": {
        "id": "KnhuQbKXXMDz"
      },
      "outputs": [],
      "source": [
        "numbers  # lista original permanece a mesma"
      ]
    },
    {
      "cell_type": "code",
      "execution_count": null,
      "metadata": {
        "id": "O3if-yvgXElr"
      },
      "outputs": [],
      "source": [
        "names = ['Harry', 'Simone', 'Allan', 'Marcos']"
      ]
    },
    {
      "cell_type": "code",
      "execution_count": null,
      "metadata": {
        "id": "r4aFJepeX-XD"
      },
      "outputs": [],
      "source": [
        "sorted(names)"
      ]
    },
    {
      "cell_type": "code",
      "execution_count": null,
      "metadata": {
        "id": "PMyM5A0FYBfd"
      },
      "outputs": [],
      "source": [
        "sorted(names, reverse=True)"
      ]
    },
    {
      "cell_type": "code",
      "execution_count": null,
      "metadata": {
        "id": "xhQDL9gaFDKe"
      },
      "outputs": [],
      "source": [
        "sorted(frutas)"
      ]
    },
    {
      "cell_type": "code",
      "source": [
        "frutas.index('pitaya')"
      ],
      "metadata": {
        "id": "O5WJYQZoF2I4"
      },
      "execution_count": null,
      "outputs": []
    },
    {
      "cell_type": "markdown",
      "metadata": {
        "id": "ulQxFWlIPPGM"
      },
      "source": [
        "### Tabela"
      ]
    },
    {
      "cell_type": "code",
      "execution_count": null,
      "metadata": {
        "id": "lAumev4SPSHB"
      },
      "outputs": [],
      "source": [
        "\"\"\"\"\n",
        "cpf nome idade\n",
        "000 Alfredo 53\n",
        "111 Ícaro   35\n",
        "222 Davi    40\n",
        "333 Joria   53\n",
        "444 Cristine 30\n",
        "\"\"\""
      ]
    },
    {
      "cell_type": "code",
      "execution_count": null,
      "metadata": {
        "id": "Wkg2ppivPN6G"
      },
      "outputs": [],
      "source": [
        "tabela_alunos = [['000', 'Alfredo', 53], \n",
        "                 ['111', 'Ícaro',34], \n",
        "                 ['222', 'Davi', 40]]"
      ]
    },
    {
      "cell_type": "code",
      "source": [
        "tabela_alunos"
      ],
      "metadata": {
        "id": "rF_ZssA4CCR2"
      },
      "execution_count": null,
      "outputs": []
    },
    {
      "cell_type": "code",
      "execution_count": null,
      "metadata": {
        "id": "2Mv6HNxXPyZZ"
      },
      "outputs": [],
      "source": [
        "tabela_alunos[1][2] = 35   # Alterando o valor de um elemento da tabela (posição: linha 1 e coluna )\n",
        "tabela_alunos"
      ]
    },
    {
      "cell_type": "code",
      "execution_count": null,
      "metadata": {
        "id": "uXa9BxuxP-UU"
      },
      "outputs": [],
      "source": [
        "tabela_alunos.append([\"333\", \"Joria\", 53])  # Acrescentando uma linha à tabela\n",
        "tabela_alunos"
      ]
    },
    {
      "cell_type": "code",
      "execution_count": null,
      "metadata": {
        "id": "2tqOLYKnRALw"
      },
      "outputs": [],
      "source": [
        "tabela_alunos.extend([[\"444\", \"Cristine\", 30]]) # percebam que para usar extend() usamos [[]]\n",
        "tabela_alunos"
      ]
    },
    {
      "cell_type": "code",
      "execution_count": null,
      "metadata": {
        "id": "FoYaWW_VRoy1"
      },
      "outputs": [],
      "source": [
        "tabela_alunos + [[\"555\", \"Lucas\", 31]]"
      ]
    },
    {
      "cell_type": "code",
      "execution_count": null,
      "metadata": {
        "id": "DHcm9UbURYFF"
      },
      "outputs": [],
      "source": [
        "print(tabela_alunos)\n",
        "print(len(tabela_alunos))"
      ]
    },
    {
      "cell_type": "markdown",
      "metadata": {
        "id": "b_VcolVQQvsP"
      },
      "source": [
        "## 3) Tuplas \n",
        "\n",
        "são imutáveis"
      ]
    },
    {
      "cell_type": "code",
      "execution_count": null,
      "metadata": {
        "id": "0vuOU3mBNNRG"
      },
      "outputs": [],
      "source": [
        "# tupla_vazia = ()\n",
        "tupla_vazia = tuple()"
      ]
    },
    {
      "cell_type": "code",
      "execution_count": null,
      "metadata": {
        "id": "1jFgkV94NPZD"
      },
      "outputs": [],
      "source": [
        "type(tupla_vazia)"
      ]
    },
    {
      "cell_type": "code",
      "execution_count": null,
      "metadata": {
        "id": "XW3Oyd6me0So"
      },
      "outputs": [],
      "source": [
        "aluno = (\"Alfredo\", 53, 1.75)"
      ]
    },
    {
      "cell_type": "code",
      "execution_count": null,
      "metadata": {
        "id": "sdbR9LEXNJAv"
      },
      "outputs": [],
      "source": [
        "type(aluno)"
      ]
    },
    {
      "cell_type": "code",
      "execution_count": null,
      "metadata": {
        "id": "gTIex1lJN-I_"
      },
      "outputs": [],
      "source": [
        "aluno[2]"
      ]
    },
    {
      "cell_type": "code",
      "execution_count": null,
      "metadata": {
        "id": "RVGorP_uNdNC"
      },
      "outputs": [],
      "source": [
        "aluno.index(\"Alfredo\") # retorna o índice do objeto"
      ]
    },
    {
      "cell_type": "code",
      "execution_count": null,
      "metadata": {
        "id": "92zPQQkyOd4Q"
      },
      "outputs": [],
      "source": [
        "1.75 in aluno"
      ]
    },
    {
      "cell_type": "markdown",
      "metadata": {
        "id": "UKcIVL00QvsQ"
      },
      "source": [
        "## 4) Range"
      ]
    },
    {
      "cell_type": "code",
      "execution_count": null,
      "metadata": {
        "id": "ycsI73lxhWwE"
      },
      "outputs": [],
      "source": [
        "list(range(0,11))  # de 0 a 10"
      ]
    },
    {
      "cell_type": "code",
      "execution_count": null,
      "metadata": {
        "id": "Ez7lh3gCWMPb"
      },
      "outputs": [],
      "source": [
        "list(range(0, 21, 2)) # pares de 0 a 20"
      ]
    },
    {
      "cell_type": "code",
      "execution_count": null,
      "metadata": {
        "id": "HCBSBwwOWVvq"
      },
      "outputs": [],
      "source": [
        "list(range(1, 22, 2)) # ímpares de 1 a 19"
      ]
    },
    {
      "cell_type": "markdown",
      "metadata": {
        "id": "cPKwZ7f6QvsR"
      },
      "source": [
        "#### Construir um intervalo de 1 à 100 só com os multiplos de 4"
      ]
    },
    {
      "cell_type": "code",
      "execution_count": null,
      "metadata": {
        "id": "JMpWiE0_QvsR"
      },
      "outputs": [],
      "source": [
        "print(list(range(4, 101, 4)))"
      ]
    },
    {
      "cell_type": "code",
      "execution_count": null,
      "metadata": {
        "id": "d4jYDsLgZONQ"
      },
      "outputs": [],
      "source": [
        "list(range(10, 0, -1)) # sequência de 1 a 10 invertida"
      ]
    },
    {
      "cell_type": "code",
      "execution_count": null,
      "metadata": {
        "id": "Y2l1eKShW5ku"
      },
      "outputs": [],
      "source": [
        "list(range(20, -1, -2)) # Sequência de 0 a 20 invertida"
      ]
    },
    {
      "cell_type": "markdown",
      "metadata": {
        "id": "xhpJece4X_mt"
      },
      "source": [
        "## 5) Dicionários"
      ]
    },
    {
      "cell_type": "code",
      "execution_count": null,
      "metadata": {
        "id": "mNdZyaaPX_YX"
      },
      "outputs": [],
      "source": [
        "dicionario_vazio = {}\n",
        "dicionario_vazio = dict()"
      ]
    },
    {
      "cell_type": "code",
      "execution_count": null,
      "metadata": {
        "id": "qpsPF5uJXel3"
      },
      "outputs": [],
      "source": [
        "type(dicionario_vazio)"
      ]
    },
    {
      "cell_type": "code",
      "execution_count": null,
      "metadata": {
        "id": "8uEUpkAaatdk"
      },
      "outputs": [],
      "source": [
        "alunos = {\"Alfredo\": 38, \"Ícaro\":34}"
      ]
    },
    {
      "cell_type": "code",
      "execution_count": null,
      "metadata": {
        "id": "1gRKQglEWxVn"
      },
      "outputs": [],
      "source": [
        "alunos['Alfredo']"
      ]
    },
    {
      "cell_type": "code",
      "execution_count": null,
      "metadata": {
        "id": "EO_swtFFbHvL"
      },
      "outputs": [],
      "source": [
        "alunos['Ícaro'] = 80"
      ]
    },
    {
      "cell_type": "code",
      "execution_count": null,
      "metadata": {
        "id": "8_h0YDOlbI07"
      },
      "outputs": [],
      "source": [
        "alunos"
      ]
    }
  ],
  "metadata": {
    "colab": {
      "collapsed_sections": [],
      "provenance": []
    },
    "kernelspec": {
      "display_name": "Python 3",
      "language": "python",
      "name": "python3"
    },
    "language_info": {
      "codemirror_mode": {
        "name": "ipython",
        "version": 3
      },
      "file_extension": ".py",
      "mimetype": "text/x-python",
      "name": "python",
      "nbconvert_exporter": "python",
      "pygments_lexer": "ipython3",
      "version": "3.7.3"
    },
    "accelerator": "GPU",
    "gpuClass": "standard"
  },
  "nbformat": 4,
  "nbformat_minor": 0
}