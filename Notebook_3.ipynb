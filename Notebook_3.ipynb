{
  "nbformat": 4,
  "nbformat_minor": 0,
  "metadata": {
    "kernelspec": {
      "display_name": "Python 3",
      "language": "python",
      "name": "python3"
    },
    "language_info": {
      "codemirror_mode": {
        "name": "ipython",
        "version": 3
      },
      "file_extension": ".py",
      "mimetype": "text/x-python",
      "name": "python",
      "nbconvert_exporter": "python",
      "pygments_lexer": "ipython3",
      "version": "3.7.3"
    },
    "colab": {
      "provenance": [],
      "collapsed_sections": []
    }
  },
  "cells": [
    {
      "cell_type": "markdown",
      "source": [
        "# NOTEBOOK 3"
      ],
      "metadata": {
        "id": "X4r90lCFr3YJ"
      }
    },
    {
      "cell_type": "markdown",
      "metadata": {
        "id": "pw_oSAANLyZ2"
      },
      "source": [
        "### Operadores"
      ]
    },
    {
      "cell_type": "code",
      "source": [
        "5//2  # divide arredondando para baixo"
      ],
      "metadata": {
        "id": "Vnkvd5QPG65G"
      },
      "execution_count": null,
      "outputs": []
    },
    {
      "cell_type": "code",
      "source": [
        "5**2 # exponenciação"
      ],
      "metadata": {
        "id": "PwZPn5GtHJKm"
      },
      "execution_count": null,
      "outputs": []
    },
    {
      "cell_type": "code",
      "source": [
        "5%2 # resto da divisão"
      ],
      "metadata": {
        "id": "yhhH1V7WHPXu"
      },
      "execution_count": null,
      "outputs": []
    },
    {
      "cell_type": "markdown",
      "source": [
        "### Operadores Relacionais \n",
        "\n",
        "==, !=, >, <, >=, <="
      ],
      "metadata": {
        "id": "j8uhSsHpHc99"
      }
    },
    {
      "cell_type": "code",
      "source": [
        "2 != 1 # not igual"
      ],
      "metadata": {
        "id": "UUYOwrfAMcSz"
      },
      "execution_count": null,
      "outputs": []
    },
    {
      "cell_type": "code",
      "source": [
        "\"casa\" != \"apartamento\""
      ],
      "metadata": {
        "id": "WFitZBnEMlVH"
      },
      "execution_count": null,
      "outputs": []
    },
    {
      "cell_type": "code",
      "source": [
        "4 >= 2"
      ],
      "metadata": {
        "id": "USVjpczQMqq6"
      },
      "execution_count": null,
      "outputs": []
    },
    {
      "cell_type": "code",
      "source": [
        "3 <= 1"
      ],
      "metadata": {
        "id": "tYtS-jnWMuYI"
      },
      "execution_count": null,
      "outputs": []
    },
    {
      "cell_type": "markdown",
      "metadata": {
        "id": "3Gb3pOmAJbVb"
      },
      "source": [
        "#### Diferença entre os operadores == e  is"
      ]
    },
    {
      "cell_type": "markdown",
      "source": [
        "== (teste de igualdade): testa se duas objetos são iguais. \n",
        "\n",
        "\n",
        "Por exemplo:\n",
        "\n",
        "10 == 10  ---> retorna True\n",
        "\n",
        "abacate == melancia ---> retorna False. \n",
        "\n",
        "Tome cuidado: não confunda o operador == (teste de igualdade) com o operador = (operador de atribuição). Este último é usado para atribuir um valor a uma variável. \n",
        "\n",
        "Por exemplo: a = 20"
      ],
      "metadata": {
        "id": "KNl7oYHEH29-"
      }
    },
    {
      "cell_type": "markdown",
      "source": [
        "!= (teste de diferença): este operador simplesmente testa se dois valores são diferentes. \n",
        "\n",
        "Exemplo: 10 != 20 retorna True"
      ],
      "metadata": {
        "id": "uX4bfDjaIA7P"
      }
    },
    {
      "cell_type": "code",
      "metadata": {
        "id": "pjqNNbPXctow"
      },
      "source": [
        "lista1 = [1, 2, 3]\n",
        "lista2 = [1, 2, 3]\n",
        "lista3 = lista1"
      ],
      "execution_count": null,
      "outputs": []
    },
    {
      "cell_type": "code",
      "source": [
        "lista1 == lista2"
      ],
      "metadata": {
        "id": "iNzvqtH2M7aK"
      },
      "execution_count": null,
      "outputs": []
    },
    {
      "cell_type": "code",
      "source": [
        "lista1 is lista2"
      ],
      "metadata": {
        "id": "MqZ6VLx9M-GM"
      },
      "execution_count": null,
      "outputs": []
    },
    {
      "cell_type": "code",
      "source": [
        "lista1 is lista3"
      ],
      "metadata": {
        "id": "YRoqLl2BNPI2"
      },
      "execution_count": null,
      "outputs": []
    },
    {
      "cell_type": "markdown",
      "source": [
        "### Conectivos AND - OR"
      ],
      "metadata": {
        "id": "uFuVO41Hpxm7"
      }
    },
    {
      "cell_type": "markdown",
      "metadata": {
        "id": "70fps32aJbVy"
      },
      "source": [
        "#### Conectivo de Conjunção: AND"
      ]
    },
    {
      "cell_type": "code",
      "source": [
        "nota = 8\n",
        "presenca = 50"
      ],
      "metadata": {
        "id": "UKL0_ryhRIAu"
      },
      "execution_count": null,
      "outputs": []
    },
    {
      "cell_type": "code",
      "source": [
        "nota >= 6 and presenca >= 70"
      ],
      "metadata": {
        "id": "57R-umJ0RF7N"
      },
      "execution_count": null,
      "outputs": []
    },
    {
      "cell_type": "markdown",
      "metadata": {
        "id": "eqAas0JlJbVz"
      },
      "source": [
        "#### Conectivo de Disjunção: OR"
      ]
    },
    {
      "cell_type": "code",
      "metadata": {
        "id": "e4-dorqvJbV0"
      },
      "source": [
        "x = int(input(\"Informe um valor <0 ou >10: \"))\n",
        "x < 0 or x > 10"
      ],
      "execution_count": null,
      "outputs": []
    },
    {
      "cell_type": "markdown",
      "metadata": {
        "id": "WHPyuUBUJbV0"
      },
      "source": [
        "### Controle de Fluxo (IF)"
      ]
    },
    {
      "cell_type": "markdown",
      "metadata": {
        "id": "WAoTiFQ1JbV0"
      },
      "source": [
        "#### Execução condicional"
      ]
    },
    {
      "cell_type": "code",
      "source": [
        "x = int(input(\"Informe um valor: \"))"
      ],
      "metadata": {
        "id": "Ovs2GytMrYS3"
      },
      "execution_count": null,
      "outputs": []
    },
    {
      "cell_type": "code",
      "metadata": {
        "id": "IUpX09ZGlrRf"
      },
      "source": [
        "if x % 2 == 0:\n",
        "  print(\"Par\")\n",
        "  print(\"Uhuu\")\n",
        "\n",
        "print(\"Acabou!\")"
      ],
      "execution_count": null,
      "outputs": []
    },
    {
      "cell_type": "markdown",
      "source": [
        "IF e ELSE:\n",
        "\n",
        "Em programação, o número 1 é sinônimo de verdadeiro e o 0 é sinônimo de falso. Ou seja, 1 é True e 0 é False."
      ],
      "metadata": {
        "id": "YQLXUXlGfDxT"
      }
    },
    {
      "cell_type": "code",
      "source": [
        "if 1:\n",
        "    print(\"Oi, estou dentro do if\")\n",
        "else:\n",
        "    print(\"Eu nunca vou ser printado :( \")"
      ],
      "metadata": {
        "id": "ZfW3cEK-fBcH"
      },
      "execution_count": null,
      "outputs": []
    },
    {
      "cell_type": "markdown",
      "source": [
        "Condicionais com strings"
      ],
      "metadata": {
        "id": "dPbYfejvh9uL"
      }
    },
    {
      "cell_type": "code",
      "source": [
        "alunos = [\"Ana\", \"Filipe\", \"Alfredo\", 'Cristiane', 'Jorge', 'Davi']"
      ],
      "metadata": {
        "id": "X6YXtqGBTLT9"
      },
      "execution_count": null,
      "outputs": []
    },
    {
      "cell_type": "code",
      "source": [
        "nome = input(\"Informe o nome do aluno: \")"
      ],
      "metadata": {
        "id": "nB_QO_u7r3-3"
      },
      "execution_count": null,
      "outputs": []
    },
    {
      "cell_type": "code",
      "source": [
        "if nome in alunos:\n",
        "  print(nome, \"está matriculado/a\")\n",
        "\n",
        "if nome not in alunos:\n",
        "  print(nome, \"não está matriculado/a\")"
      ],
      "metadata": {
        "id": "hgRirV9-TRL-"
      },
      "execution_count": null,
      "outputs": []
    },
    {
      "cell_type": "markdown",
      "metadata": {
        "id": "LQ--KmLDJbV1"
      },
      "source": [
        "Execução alternativa"
      ]
    },
    {
      "cell_type": "code",
      "source": [
        "nome = \"Nina\"           #input(\"Informe o nome do aluno: \")"
      ],
      "metadata": {
        "id": "uPC6C9V1sDDZ"
      },
      "execution_count": null,
      "outputs": []
    },
    {
      "cell_type": "code",
      "metadata": {
        "id": "SilQqvbyJbV1"
      },
      "source": [
        "if nome in alunos:\n",
        "  print(nome, \"está matriculado\")\n",
        "else:\n",
        "  print(nome, \"não está matriculado/a\")"
      ],
      "execution_count": null,
      "outputs": []
    },
    {
      "cell_type": "markdown",
      "metadata": {
        "id": "BKCKq5k0JbV1"
      },
      "source": [
        "#### Condicionais encadeados"
      ]
    },
    {
      "cell_type": "markdown",
      "source": [
        "\n",
        "\n",
        "```\n",
        "if expressão 1:\n",
        "  código 1\n",
        "elif expressão 2:\n",
        "  código 2\n",
        "elif expressão 3:\n",
        "  código 3\n",
        "...\n",
        "else:\n",
        "  código final\n",
        "```\n",
        "\n"
      ],
      "metadata": {
        "id": "BpxJegA1d_li"
      }
    },
    {
      "cell_type": "code",
      "source": [
        "mes = int(input(\"Informe um mês (1, 12): \"))"
      ],
      "metadata": {
        "id": "43VK4XSX7xNx"
      },
      "execution_count": null,
      "outputs": []
    },
    {
      "cell_type": "code",
      "metadata": {
        "id": "vjEh5VBbJbV2"
      },
      "source": [
        "if mes == 1:\n",
        "  print(\"Janeiro\")\n",
        "elif mes == 2:\n",
        "  print(\"Fevereiro\")\n",
        "elif mes == 3:\n",
        "  print(\"Março\")\n",
        "elif mes == 4:\n",
        "  print(\"Abril\")\n",
        "elif mes == 5:\n",
        "  print(\"Maio\")\n",
        "elif mes == 12:\n",
        "  print(\"Dezembro\")\n",
        "else:\n",
        "  print(\"Mês inválido\")"
      ],
      "execution_count": null,
      "outputs": []
    },
    {
      "cell_type": "markdown",
      "source": [
        "####if-ternários"
      ],
      "metadata": {
        "id": "U2p6vbdPiPcp"
      }
    },
    {
      "cell_type": "markdown",
      "source": [
        "É possível testar valores em Python com apenas uma linha de código com os chamados **if-ternários**, ou **condições ternárias**, ou **operadores ternários**"
      ],
      "metadata": {
        "id": "J3dPxJjMaRuX"
      }
    },
    {
      "cell_type": "markdown",
      "source": [
        "\n",
        "\n",
        "```\n",
        "#Sintaxe\n",
        "\n",
        "[on_true] if [condition] else [on_false] \n",
        "```\n",
        "\n"
      ],
      "metadata": {
        "id": "tlegvwVTgDmo"
      }
    },
    {
      "cell_type": "code",
      "source": [
        "# Exemplo 1\n",
        "\n",
        "temperatura = 38\n",
        "\n",
        "resultado = 'Estado Febril' if temperatura > 37.8 else 'sem febre'\n",
        "\n",
        "print(resultado)"
      ],
      "metadata": {
        "id": "vrBzHdtYa34v"
      },
      "execution_count": null,
      "outputs": []
    },
    {
      "cell_type": "code",
      "source": [
        "# Exemplo 2\n",
        "\n",
        "to_check = 6\n",
        "\n",
        "msg = \"Par\" if to_check % 2 == 0 else \"Ímpar\"\n",
        "\n",
        "print(msg) "
      ],
      "metadata": {
        "id": "DargpNcvhH3v"
      },
      "execution_count": null,
      "outputs": []
    },
    {
      "cell_type": "markdown",
      "metadata": {
        "id": "V2amm_WAJbV2"
      },
      "source": [
        "#### Condicionais aninhados"
      ]
    },
    {
      "cell_type": "code",
      "source": [
        "print('1. Café expresso')\n",
        "print('2. Café Coado')      \n",
        "resposta = int (input('Qual tipo de café você prefere? ') )\n",
        "\n",
        "if resposta == 1: \n",
        "    print('Você gosta de sabores fortes!')\n",
        "else:             \n",
        "    if resposta == 2:\n",
        "        print('Você gosta de sabores mais suaves...')\n",
        "    else:\n",
        "        print('Certamente você não gosta de café ')\n"
      ],
      "metadata": {
        "id": "vRMrqCQCjEEZ"
      },
      "execution_count": null,
      "outputs": []
    },
    {
      "cell_type": "markdown",
      "source": [
        "#### IF - ELIF - ELSE"
      ],
      "metadata": {
        "id": "cUyRaGx8lo4C"
      }
    },
    {
      "cell_type": "code",
      "source": [
        "x=2\n",
        "if x < 0.0:\n",
        "    print(\"x é negativo\")\n",
        "elif x % 2:     # para esta condição ser VERDADEIRA, o resultado de x % 2 precisa ser 1 (equivalente a True) - seria o equivalente e escrever elif 1:\n",
        "    print(\"x é positivo e ímpar\")\n",
        "else:\n",
        "    print(\"x é par e não-negativo\")"
      ],
      "metadata": {
        "id": "IvVnyzzKAalu"
      },
      "execution_count": null,
      "outputs": []
    },
    {
      "cell_type": "code",
      "source": [
        "3 % 2"
      ],
      "metadata": {
        "id": "vFQCThKXTujf"
      },
      "execution_count": null,
      "outputs": []
    },
    {
      "cell_type": "code",
      "source": [
        "x=50\n",
        "if x < 20 or x > 40:\n",
        "  print('Outside')\n",
        "else:\n",
        "  print('Inside')"
      ],
      "metadata": {
        "id": "x8-44eb5NLyF"
      },
      "execution_count": null,
      "outputs": []
    },
    {
      "cell_type": "markdown",
      "metadata": {
        "id": "Z0Ycm5nrJbV2"
      },
      "source": [
        "### Controle de Fluxo (WHILE)"
      ]
    },
    {
      "cell_type": "markdown",
      "source": [
        "\n",
        "\n",
        "\n",
        "\n",
        "    while (teste):\n",
        "      codigo1\n",
        "      codigo2\n",
        "      codigo3\n",
        "      ... \n",
        "      codigo4"
      ],
      "metadata": {
        "id": "zick6hEScGb4"
      }
    },
    {
      "cell_type": "code",
      "source": [
        "i = 0\n",
        "while i < 10:  # teste\n",
        "  print(\"O valor de i é\", i)  # código 1\n",
        "  i = i +1   # código 2 - contador"
      ],
      "metadata": {
        "id": "IPETznbyYiKr"
      },
      "execution_count": null,
      "outputs": []
    },
    {
      "cell_type": "code",
      "source": [
        "# 1*2*3*4*5*6 (n!)"
      ],
      "metadata": {
        "id": "c_imMhnjeXQX"
      },
      "execution_count": null,
      "outputs": []
    },
    {
      "cell_type": "code",
      "source": [
        "# Calculando n! (1*2*3*4*5*6)\n",
        "\n",
        "n = 6\n",
        "fatorial = 1\n",
        "while n > 1:\n",
        "  fatorial = fatorial * n #    1 * 6\n",
        "  n = n - 1       # n = 5\n",
        "print(fatorial)"
      ],
      "metadata": {
        "id": "_uBlUYbHY0ru"
      },
      "execution_count": null,
      "outputs": []
    },
    {
      "cell_type": "code",
      "metadata": {
        "id": "rlu56jJkJbV3"
      },
      "source": [
        "notas = []   # cria uma lista vazia\n",
        "\n",
        "x = int(input(\"Informe um valor: \"))\n",
        "notas.append(x)\n",
        "x = int(input(\"Informe um valor: \"))\n",
        "notas.append(x)\n",
        "x = int(input(\"Informe um valor: \"))\n",
        "notas.append(x)\n",
        "\n",
        "print(notas)\n",
        "print(f\"Maior nota: {max(notas)}\")\n",
        "print(f\"Média notas: {sum(notas)/len(notas)}\")"
      ],
      "execution_count": null,
      "outputs": []
    },
    {
      "cell_type": "code",
      "source": [
        "notas = []  # cria uma lista vazia\n",
        "\n",
        "contador = 0\n",
        "qtde = int(input(\"Informe quantidade de notas: \"))\n",
        "\n",
        "while contador < qtde:\n",
        "  x = int(input(f\"Informe um valor ({contador+1}/{qtde}): \"))\n",
        "  notas.append(x)\n",
        "  contador = contador+1\n",
        "\n",
        "print(notas)\n",
        "print(f\"Maior nota: {max(notas)}\")\n",
        "print(f\"Média notas: {sum(notas)/len(notas)}\")"
      ],
      "metadata": {
        "id": "p1QkSJ-ZaEyJ"
      },
      "execution_count": null,
      "outputs": []
    },
    {
      "cell_type": "code",
      "source": [
        "alunos=int(input(\"Numeros de alunos na turma: \"))\n",
        "\n",
        "contador = 1\n",
        "soma = 0.0\n",
        "\n",
        "while contador <= alunos:\n",
        "    print(f\"Nota do aluno {contador} :\")\n",
        "    nota = float( input() )\n",
        "    soma += nota\n",
        "    contador += 1\n",
        "\n",
        "print(\"Media da turma: \", (soma/alunos) )"
      ],
      "metadata": {
        "id": "EJw1pu1fdmQP"
      },
      "execution_count": null,
      "outputs": []
    },
    {
      "cell_type": "markdown",
      "metadata": {
        "id": "TFXjWQu_JbV3"
      },
      "source": [
        "### Controle de Fluxo (FOR)"
      ]
    },
    {
      "cell_type": "markdown",
      "source": [
        "  \n",
        "    #Sintaxe\n",
        "    \n",
        "    for variavel in [val1, val2, val3, etc]:\n",
        "      codigo\n",
        "      codigo\n",
        "      codigo\n",
        "    \n"
      ],
      "metadata": {
        "id": "9uMKBQZEfCT-"
      }
    },
    {
      "cell_type": "markdown",
      "source": [
        "Funcionamento do Loop **FOR**:\n",
        "A variável 'variavel' assume o valor da variável 'val1' e executa os códigos dentro do loop.\n",
        "\n",
        "Em seguida, 'variavel' recebe o valor de val2, e executa os códigos. E assim sucessivamente, até 'variavel' ter recebido todos os valores da sequência."
      ],
      "metadata": {
        "id": "FSulDoX7loNJ"
      }
    },
    {
      "cell_type": "markdown",
      "source": [
        "Enquanto loop **WHILE** faz um teste - se for verdadeiro executa um código, se for falso, termina o loop - o loop **FOR** - dito controlado - executa o código um determinado número de vezes, definido previamente."
      ],
      "metadata": {
        "id": "zmgZpLC_l6vo"
      }
    },
    {
      "cell_type": "code",
      "source": [
        "# Percorrendo uma lista\n",
        "\n",
        "print(\"Numeros em uma lista:\")\n",
        "\n",
        "for num in [1, 20, 3.5, 8]:\n",
        "    print(num)"
      ],
      "metadata": {
        "id": "NmMVFEhxXp4P"
      },
      "execution_count": null,
      "outputs": []
    },
    {
      "cell_type": "code",
      "source": [
        "alunos = ['Alfredo', 'Cristiane', 'Filipe', 'Davi', 'Cruiff', 'Joria']\n",
        "for elemento in alunos:\n",
        "  print(elemento)"
      ],
      "metadata": {
        "id": "2-gNv1BZdZLo"
      },
      "execution_count": null,
      "outputs": []
    },
    {
      "cell_type": "code",
      "source": [
        "notas = []\n",
        "qtde = int(input(\"Informe qtas notas: \"))\n",
        "\n",
        "for elemento in range(qtde):\n",
        "  x = int(input(f\"Informe um valor({elemento+1}/{qtde}): \"))\n",
        "  notas.append(x)\n",
        "  \n",
        "print(f\"Maior nota: {max(notas)}\")\n",
        "print(f\"Média notas: {sum(notas)/len(notas)}\")"
      ],
      "metadata": {
        "id": "EhFftF6Xd1Be"
      },
      "execution_count": null,
      "outputs": []
    },
    {
      "cell_type": "markdown",
      "source": [
        "### Estruturas de Repetição com Estruturas Condicionais (FOR e IF/ELSE)"
      ],
      "metadata": {
        "id": "3y8ZZJEYWVrC"
      }
    },
    {
      "cell_type": "code",
      "source": [
        "for numero in range(1, 8):\n",
        "    if numero % 2 == 0:\n",
        "        print(f'O número {numero} é par')\n",
        "    else:\n",
        "        print(f'O número {numero} é impar')"
      ],
      "metadata": {
        "id": "y12ZHz6oWS6t"
      },
      "execution_count": null,
      "outputs": []
    },
    {
      "cell_type": "markdown",
      "source": [
        "####Estruturas Condicionais com List Comprehension\n",
        "\n",
        "É uma forma concisa utlizada para CRIAR e MANIPULAR listas"
      ],
      "metadata": {
        "id": "_KupNhJ_N50d"
      }
    },
    {
      "cell_type": "markdown",
      "source": [
        "\n",
        "\n",
        "```\n",
        "# Sintaxe\n",
        "\n",
        "[expr for item in lista]\n",
        "```\n",
        "\n",
        "O que a estrutura acima quer dizer é \"Aplique a expressão **expr** em cada **item** da **lista**)\""
      ],
      "metadata": {
        "id": "adXJxvQSN50f"
      }
    },
    {
      "cell_type": "code",
      "source": [
        "# Exemplo SEM LIST COMPREHENSION\n",
        "\n",
        "lista_1 = []\n",
        "for item in range(10):\n",
        "  lista_1.append(item**2)\n",
        "\n",
        "lista_1"
      ],
      "metadata": {
        "id": "hBt1CiJxOIOn"
      },
      "execution_count": null,
      "outputs": []
    },
    {
      "cell_type": "code",
      "source": [
        "# Exemplo 1 COM LIST COMPREHENSION\n",
        "\n",
        "lista_2 = list(range(10))\n",
        "lista_2 = [item**2 for item in lista_2]\n",
        "lista_2"
      ],
      "metadata": {
        "id": "Eolikpu4OcHg"
      },
      "execution_count": null,
      "outputs": []
    },
    {
      "cell_type": "code",
      "source": [
        "# Exemplo 2 COM LIST COMPREHENSION\n",
        "\n",
        "lista_3 = [item for item in range(0, 21)]\n",
        "lista_3"
      ],
      "metadata": {
        "id": "n8tyCznnPZe7"
      },
      "execution_count": null,
      "outputs": []
    },
    {
      "cell_type": "code",
      "source": [
        "# Exemplo 3 COM LIST COMPREHENSION\n",
        "\n",
        "lista_pares = [item for item in range(0, 21) if item % 2 == 0]\n",
        "lista_pares"
      ],
      "metadata": {
        "id": "ih11Zlt9N50g"
      },
      "execution_count": null,
      "outputs": []
    },
    {
      "cell_type": "code",
      "source": [
        "# Exemplo 2 SEM LIST COMPREHENSION\n",
        "\n",
        "resultado=[]\n",
        "lista_nomes = ['paul', 'ringo', 'george', 'john']\n",
        "for item in lista_nomes:\n",
        "  resultado.append(item.upper())\n",
        "resultado"
      ],
      "metadata": {
        "id": "dmBeZIMWQGYW"
      },
      "execution_count": null,
      "outputs": []
    },
    {
      "cell_type": "code",
      "source": [
        "# Exemplo 4 COM LIST COMPREHENSION\n",
        "\n",
        "resultado = [item.upper() for item in lista_nomes]\n",
        "resultado"
      ],
      "metadata": {
        "id": "590w9k4fRoxK"
      },
      "execution_count": null,
      "outputs": []
    },
    {
      "cell_type": "markdown",
      "source": [
        "### ENUMERATE()"
      ],
      "metadata": {
        "id": "U3ZMjGm2SHPw"
      }
    },
    {
      "cell_type": "markdown",
      "source": [
        "Nos exemplos acima, ao percorrer os elementos de uma sequência, não usamos o índice do elemento (sua posição na sequência). Entretanto, há situações em que esta informação é útil. Python nos permite acessar tanto os índices dos elementos quanto os elementos propriamente ditos se usarmos a função enumerate."
      ],
      "metadata": {
        "id": "jdcGSWuQySIP"
      }
    },
    {
      "cell_type": "code",
      "source": [
        "for indice, elemento in enumerate(range(0,10)):\n",
        "    print(f'O índice é {indice} e o seu valor é {elemento}')"
      ],
      "metadata": {
        "id": "Jkqde_3xXh1H"
      },
      "execution_count": null,
      "outputs": []
    }
  ]
}