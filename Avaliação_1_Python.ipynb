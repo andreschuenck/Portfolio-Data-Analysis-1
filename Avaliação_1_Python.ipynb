{
  "nbformat": 4,
  "nbformat_minor": 0,
  "metadata": {
    "kernelspec": {
      "display_name": "Python 3",
      "language": "python",
      "name": "python3"
    },
    "language_info": {
      "codemirror_mode": {
        "name": "ipython",
        "version": 3
      },
      "file_extension": ".py",
      "mimetype": "text/x-python",
      "name": "python",
      "nbconvert_exporter": "python",
      "pygments_lexer": "ipython3",
      "version": "3.7.3"
    },
    "colab": {
      "provenance": [],
      "collapsed_sections": []
    }
  },
  "cells": [
    {
      "cell_type": "markdown",
      "metadata": {
        "id": "8kih40y9pksj"
      },
      "source": [
        "# Avaliação 1\n",
        "#### Valor : 50 pontos (cada questão vale 2 pontos)"
      ]
    },
    {
      "cell_type": "markdown",
      "source": [
        "GRUPO:\n",
        "\n",
        "\n",
        "\n"
      ],
      "metadata": {
        "id": "hJsywNuQrRN_"
      }
    },
    {
      "cell_type": "markdown",
      "metadata": {
        "id": "nSqOopEApksl"
      },
      "source": [
        "Considere a seguinte lista para resolver as questões de 1 a 4:"
      ]
    },
    {
      "cell_type": "code",
      "metadata": {
        "id": "8ZA2_XTzpksm"
      },
      "source": [
        "lista = [2, 29, 8, 98, 10, 3, -4, 9, 10]"
      ],
      "execution_count": null,
      "outputs": []
    },
    {
      "cell_type": "markdown",
      "metadata": {
        "id": "bGv0VS7tpksr"
      },
      "source": [
        "\n",
        "\n",
        "1) Imprima a soma do maior e o menor elemento da lista:"
      ]
    },
    {
      "cell_type": "markdown",
      "metadata": {
        "id": "PuArl5-0pksw"
      },
      "source": [
        "2) Imprima o número de ocorrências do maior elemento da lista:"
      ]
    },
    {
      "cell_type": "markdown",
      "metadata": {
        "id": "tv1uvGmmpks1"
      },
      "source": [
        "3) Imprima o elemento no meio da lista:"
      ]
    },
    {
      "cell_type": "markdown",
      "metadata": {
        "id": "8PBchreRpks6"
      },
      "source": [
        "4) Imprima o maior elemento da lista elevado ao quadrado:"
      ]
    },
    {
      "cell_type": "markdown",
      "metadata": {
        "id": "P8viaLzmpks-"
      },
      "source": [
        "5) Crie uma lista com todos os números pares de 0 até 1000."
      ]
    },
    {
      "cell_type": "markdown",
      "metadata": {
        "id": "i4B06benpktC"
      },
      "source": [
        "6) Crie uma lista com todos os números ímpares de 0 até 10.000."
      ]
    },
    {
      "cell_type": "markdown",
      "metadata": {
        "id": "XFAJxyGopktG"
      },
      "source": [
        "7) Imprima o valor da média das listas dos items 5 e 6."
      ]
    },
    {
      "cell_type": "markdown",
      "metadata": {
        "id": "VpLxhb4JpktK"
      },
      "source": [
        "8) Crie 3 tuplas para armazenar as notas dos alunos em uma disciplina. Cada tupla deverá conter o nome e sobrenome do aluno (escolhido por você) seguido de suas duas notas que deverão, por sua vez, estar armazenadas em uma lista."
      ]
    },
    {
      "cell_type": "markdown",
      "metadata": {
        "id": "OkuOWXPGpktP"
      },
      "source": [
        "9) Imprima a soma das notas de cada aluno do exercício 8, use as variáveis criadas por você:"
      ]
    },
    {
      "cell_type": "markdown",
      "metadata": {
        "id": "dL5CJjvZpktT"
      },
      "source": [
        "10) Imprima o nome e a maior nota de cada aluno do exercício 8, use as variáveis criadas por você:"
      ]
    },
    {
      "cell_type": "markdown",
      "metadata": {
        "id": "hX2F78TbFd_T"
      },
      "source": [
        "11) Construa um dicionário para armazenar as notas de 5 alunos (Os dados são criados por você)."
      ]
    },
    {
      "cell_type": "markdown",
      "metadata": {
        "id": "8PRj7bRfcaXu"
      },
      "source": [
        "12) Usando o dicionário criado no exercício 11, imprima o valor da maior nota. A reposta deve ter o seguinte formato:\n",
        "\n",
        "**A maior nota da turma é XX**, onde XX é o valor encontrado."
      ]
    },
    {
      "cell_type": "markdown",
      "metadata": {
        "id": "VEqNDxEIca9N"
      },
      "source": [
        "13) Sabendo que A = {0, 1, 2, 3, 4, 5, 6}, B = {6, 7, 8, 9} e C = {2, 4, 6, 8, 10}, quais são os elementos do conjunto (A∩B)UC?"
      ]
    },
    {
      "cell_type": "markdown",
      "source": [
        "14) Considere as listas abaixo para fazer o exercício:"
      ],
      "metadata": {
        "id": "YyCoFTBi0Nys"
      }
    },
    {
      "cell_type": "code",
      "metadata": {
        "id": "f9N5acg8ccIE"
      },
      "source": [
        "alunos_natação = ['Aline Soares', 'Bianca Araújo', 'André da Silva', 'Romeu Cunha', 'Luisa Abreu', 'Aline Soares']\n",
        "alunos_pedal = ['Antonio José', 'Maria Costa', 'Romeu Cunha', 'Luisa Abreu', 'Maria Luisa', 'Jairo Ramos']\n",
        "alunos_corrida = ['Romeu Cunha', 'Gustavo Andrade', 'Henrique Loureiro', 'Luana Pereira', 'Aline Soares', 'Bruna Fernandes']"
      ],
      "execution_count": null,
      "outputs": []
    },
    {
      "cell_type": "markdown",
      "source": [
        "14.1) Excluir os nomes duplicados em cada modalidade, ou seja, cada modalidade só poderá conter um nome para cada aluno. "
      ],
      "metadata": {
        "id": "oO9zHn8e6ZKv"
      }
    },
    {
      "cell_type": "markdown",
      "source": [
        "14.2) Verificar o total de alunos inscrito em\n",
        "cada modalidade"
      ],
      "metadata": {
        "id": "Zk47Fa7Y6jzv"
      }
    },
    {
      "cell_type": "markdown",
      "metadata": {
        "id": "3-RuaSkWpwCT"
      },
      "source": [
        "14.3) Imprimir uma listagem com o nome de todos os alunos (incluindo as 3 modalidades) e a quantidade total de alunos (incluindo as 3 modalidades)"
      ]
    },
    {
      "cell_type": "markdown",
      "source": [],
      "metadata": {
        "id": "NlEVX5Ryz1eg"
      }
    },
    {
      "cell_type": "markdown",
      "metadata": {
        "id": "hUnNjjzJ65mT"
      },
      "source": [
        "14.4) Imprimir uma listagem para cada combinação de duas modalidades possíveis com o nome de cada aluno inscrito em ambas as modalidades e o seu total\n",
        "\n",
        "* Listagem 1: Alunos natação e alunos pedal - nomes e quantidade de alunos\n",
        "* Listagem 2: Alunos natação e alunos corrida - nomes e quantidade de alunos\n",
        "* Listagem 3: Alunos pedal e alunos corrida -nomes e quantidade de alunos\n"
      ]
    },
    {
      "cell_type": "markdown",
      "metadata": {
        "id": "bSb8PexdoaCv"
      },
      "source": [
        "15) Abaixo é apresentado um dicionário contendo os seguintes dados de alguns vencedores do Prêmio Nobel da Paz:\n",
        "{Ano da premiação: (Nome, País de Origem, Ano de Nascimento, Motivação do prêmio, gênero (Feminino, Masculino ou Organização))}"
      ]
    },
    {
      "cell_type": "code",
      "metadata": {
        "id": "Lq5POuTjuV93"
      },
      "source": [
        "nobel = {2011: [['Ellen Jonhson Sirleaf', 'Liberia', 1938, 'woman rights', \"F\"],['Leymah Gbowee', 'Liberia', 1972, 'woman rights', 'F'], ['Tawakkol', 'Liberia', 1979, 'woman rights', 'F' ]],\n",
        "         2012: ['Eurpean Union', 'Europe', 1952, 'human rights','O'],\n",
        "         2013: ['Organization for the Prohibition of Chemical Weapons', 'The Netherlands', 1997, 'eliminate chemical weapons', 'O'],\n",
        "         2014: [['Kailash Satyarthi', 'India', 1954, 'children education', 'M'], ['Malala Yousafzai', 'Pakistan', 1997, 'children education', 'O']],\n",
        "         2015: ['National Dialogue Quartet', 'Tunisia', 2011, 'democracy', 'O'],\n",
        "         2016: ['Juan Manuel Santos', 'Colombia', 1951, 'end of civil war', 'O'],\n",
        "         2017: ['International Campaign to Abolish Nuclear Weapons', 'Australia', 2007, 'nuclear weapons prohibition', 'O'],\n",
        "         2018: ['Denis Mukwege', 'Congo', 1955, 'end sexual violation at war', 'M'],\n",
        "         2019: ['Abiy Ahmed Ali', 'Ethiopia', 1976, 'international conflicts', 'M'],\n",
        "         2020: ['World Food Programme', 'Italy', 1961, 'combat hunger', 'O']}"
      ],
      "execution_count": null,
      "outputs": []
    },
    {
      "cell_type": "markdown",
      "metadata": {
        "id": "7DrKKEiSkIDE"
      },
      "source": [
        "15.1) Quais foram os vencedores do Prêmio Nobel da Paz em 2011?"
      ]
    },
    {
      "cell_type": "markdown",
      "metadata": {
        "id": "n9q1gMCblCD7"
      },
      "source": [
        "15.2) Imprima a relação dos países de origem dos laureados com o Prêmio Nobel da Paz. A relação deverá conter apenas os nomes dos países."
      ]
    },
    {
      "cell_type": "markdown",
      "metadata": {
        "id": "FTUwk3-Uzikv"
      },
      "source": [
        "16) Em uma competição de salto em distância cada atleta tem direito a cinco saltos. O resultado do atleta será determinado pela média dos cinco valores de cada salto. Você deve fazer um programa que receba o nome e as cinco distâncias alcançadas pelo atleta em seus saltos (via input()) e depois informe o nome, os saltos e a média dos saltos. O programa deve ser encerrado quando não for informado o nome do atleta. A saída do programa deve ser conforme o exemplo abaixo:\n",
        "\n",
        "Atleta: Rodrigo\n",
        " \n",
        "Primeiro Salto: 6.5 m\n",
        "\n",
        "Segundo Salto: 6.1 m\n",
        "\n",
        "Terceiro Salto: 6.2 m\n",
        "\n",
        "Quarto Salto: 5.4 m\n",
        "\n",
        "Quinto Salto: 5.3 m\n",
        "\n",
        "Resultado final:\n",
        "\n",
        "Atleta: Rodrigo\n",
        "\n",
        "Saltos: 6.5 - 6.1 - 6.2 - 5.4 - 5.3\n",
        "\n",
        "Média dos saltos: 5.9 m\n"
      ]
    },
    {
      "cell_type": "markdown",
      "metadata": {
        "id": "QGkAi0Sszikw"
      },
      "source": [
        "17) Qual é a diferença entre os loops **while** e **for**?"
      ]
    },
    {
      "cell_type": "markdown",
      "metadata": {
        "id": "Si6cIK4_zikw"
      },
      "source": [
        "18) Faça um Programa que peça a idade e a altura de 3 pessoas, armazene cada informação no seu respectivo vetor. Imprima a idade e a altura de cada pessoa."
      ]
    },
    {
      "cell_type": "markdown",
      "metadata": {
        "id": "z-lRJpFtzikx"
      },
      "source": [
        "19) Dados os dois vetores abaixo (listas), faça um programa que leia os dois vetores e gere um terceiro vetor de 20 elementos, cujos valores deverão ser compostos pelos elementos intercalados dos dois outros vetores."
      ]
    },
    {
      "cell_type": "markdown",
      "source": [
        "L1 = [2,4,6,8,10,12,14,16,18,20]\n",
        "\n",
        "L2 = [1,3,5,7,9,11,13,15,17,19]"
      ],
      "metadata": {
        "id": "SzdFnsUg0OLY"
      }
    },
    {
      "cell_type": "markdown",
      "metadata": {
        "id": "4hxJCn2npn_9"
      },
      "source": [
        "20) Faça uma função que receba um valor n e que imprima:\n",
        "  \n",
        "    1\n",
        "  \n",
        "    2   2\n",
        "  \n",
        "    3   3   3\n",
        "  \n",
        "    .....\n",
        "  \n",
        "    n   n   n   n   n   n  ... n"
      ]
    },
    {
      "cell_type": "markdown",
      "metadata": {
        "id": "DO9yCJVWp5g8"
      },
      "source": [
        "21) Faça uma função que receba um valor n e que imprima:\n",
        "  \n",
        "  1\n",
        "  \n",
        "  1   2\n",
        "  \n",
        "  1   2   3\n",
        "  \n",
        "  .....\n",
        "  \n",
        "  1   2   3   ...  n"
      ]
    },
    {
      "cell_type": "markdown",
      "metadata": {
        "id": "hmc5JPO1qYUx"
      },
      "source": [
        "22) Faça uma função que retorne o reverso de um número inteiro passado por parâmetro. Por exemplo: 127 -> 721."
      ]
    },
    {
      "cell_type": "markdown",
      "metadata": {
        "id": "TOxj_Jft9qzu"
      },
      "source": [
        "23) Faça uma função que receba dois vetores com 10 elementos cada. Sua função deverá retornar um terceiro vetor de 20 elementos, cujos valores deverão ser compostos pelos elementos intercalados dos dois outros vetores. OBS: Apesar de parecido, este exercício não é idêntico ao 19. Obs: No exercício anterior, o código não é uma função."
      ]
    },
    {
      "cell_type": "markdown",
      "metadata": {
        "id": "P3rFzfva9qzz"
      },
      "source": [
        "24) Faça uma função que receba uma string e retorne a sua quantidade de consoantes."
      ]
    },
    {
      "cell_type": "markdown",
      "metadata": {
        "id": "PyO_WDzx9qz3"
      },
      "source": [
        "25) Altere o exercício 25 para que o retorno seja um dicionário, onde a chaves são as consoantes e os valores, a quantidade de vezes que a consoante aparece na string"
      ]
    }
  ]
}