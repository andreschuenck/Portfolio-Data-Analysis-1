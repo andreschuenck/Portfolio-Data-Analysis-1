{
  "cells": [
    {
      "cell_type": "markdown",
      "metadata": {
        "id": "WEZkn56-rvjr"
      },
      "source": [
        "# NOTEBOOK 2"
      ]
    },
    {
      "cell_type": "markdown",
      "metadata": {
        "id": "C5T1eZIyrUIw"
      },
      "source": [
        "### Dicionários"
      ]
    },
    {
      "cell_type": "markdown",
      "metadata": {
        "id": "cipJjveWkTcw"
      },
      "source": [
        "Os dicionários são coleções de itens e seus elementos são armazenados de forma não ordenada.\n",
        "\n",
        "Seus elementos contém uma chave e valor, isto é:\n",
        "\n",
        "Uma chave utilizada para indexar (posicionar, localizar) determinado elemento no dicionário e o seu valor.\n",
        "\n",
        "Este valor aceita diversos tipos: listas, outros dicionários, inteiros, strings e etc.\n",
        "\n",
        "A sintaxe básica de um dict é: {'chave': 'valor'}. \n",
        "\n",
        "Utilizam-se as chaves { } para delimitar o dicionário e a chave é separada do valor por dois pontos "
      ]
    },
    {
      "cell_type": "markdown",
      "metadata": {
        "id": "r8bv1G3yrUIx"
      },
      "source": [
        "* Criar um dicionário"
      ]
    },
    {
      "cell_type": "code",
      "execution_count": null,
      "metadata": {
        "id": "43hK9EYwrUIy"
      },
      "outputs": [],
      "source": [
        "#(), tuple()\n",
        "#[], list()\n",
        "dicionario_vazio = {}\n",
        "dicionario_vazio = dict()\n",
        "type(dicionario_vazio)"
      ]
    },
    {
      "cell_type": "code",
      "execution_count": null,
      "metadata": {
        "id": "PAw5HX5Ko6Gx"
      },
      "outputs": [],
      "source": [
        "presidentes = {(\"Neves\", \"Tancredo\"): 1985, (\"Sarney\", \"José\"):1985, (\"Collor de Mello\", \"Fernando\"): 1990, (\"Franco\", \"Itamar\"): 1992, (\"Cardoso\", \"Fernando Henrique\"): 1995, (\"Silva\", \"Luis Inacio Lula da\"):2003}"
      ]
    },
    {
      "cell_type": "code",
      "execution_count": null,
      "metadata": {
        "id": "TDrapfMIYvWm"
      },
      "outputs": [],
      "source": [
        "print(presidentes)"
      ]
    },
    {
      "cell_type": "code",
      "execution_count": null,
      "metadata": {
        "id": "0yuqIqL-x53C"
      },
      "outputs": [],
      "source": [
        "notas = {\"Filipe\": [5, 9], \"Davi\": [7,7], \"Lucas\": [3, 5]}"
      ]
    },
    {
      "cell_type": "code",
      "execution_count": null,
      "metadata": {
        "id": "7-3jGseVlJo3"
      },
      "outputs": [],
      "source": [
        "notas"
      ]
    },
    {
      "cell_type": "markdown",
      "metadata": {
        "id": "qqbwhqxCrUI3"
      },
      "source": [
        "* Acessar um valor de um dicionário usando uma chave"
      ]
    },
    {
      "cell_type": "code",
      "execution_count": null,
      "metadata": {
        "id": "blhVDhPKyxuN"
      },
      "outputs": [],
      "source": [
        "\"Davi\" in notas   # O aluno \"Davi\" está no dicionário \"notas\"?"
      ]
    },
    {
      "cell_type": "code",
      "execution_count": null,
      "metadata": {
        "id": "2qbqGJAfrUI3"
      },
      "outputs": [],
      "source": [
        "notas[\"Lucas\"]  # Quais são as notas do Davi?"
      ]
    },
    {
      "cell_type": "code",
      "source": [
        "notas[\"Lucas\"][0]"
      ],
      "metadata": {
        "id": "HMTOr_pRI4iO"
      },
      "execution_count": null,
      "outputs": []
    },
    {
      "cell_type": "markdown",
      "metadata": {
        "id": "Aa61gqHzrUI8"
      },
      "source": [
        "* Adicionar um par ao dicionário"
      ]
    },
    {
      "cell_type": "code",
      "execution_count": null,
      "metadata": {
        "id": "zh_y4oykoz1E"
      },
      "outputs": [],
      "source": [
        "notas[\"Flávio\"] = [10, 8]"
      ]
    },
    {
      "cell_type": "code",
      "execution_count": null,
      "metadata": {
        "id": "bMNUjgEyzkzX"
      },
      "outputs": [],
      "source": [
        "notas"
      ]
    },
    {
      "cell_type": "markdown",
      "metadata": {
        "id": "oi1yI7yrrUJC"
      },
      "source": [
        "* Alterar o valor associado a uma chave"
      ]
    },
    {
      "cell_type": "code",
      "execution_count": null,
      "metadata": {
        "id": "tdO17Yq1rUJD"
      },
      "outputs": [],
      "source": [
        "notas[\"Flávio\"] = [10, 8, 9]"
      ]
    },
    {
      "cell_type": "code",
      "execution_count": null,
      "metadata": {
        "id": "wMQajptl0Uxu"
      },
      "outputs": [],
      "source": [
        "notas"
      ]
    },
    {
      "cell_type": "markdown",
      "metadata": {
        "id": "6mTZsI9-lkBG"
      },
      "source": [
        "* POP(  )"
      ]
    },
    {
      "cell_type": "code",
      "execution_count": null,
      "metadata": {
        "id": "bx1R4lkq03Jz"
      },
      "outputs": [],
      "source": [
        "#valor = lista.pop(0)\n",
        "#lista.remove(3)"
      ]
    },
    {
      "cell_type": "code",
      "execution_count": null,
      "metadata": {
        "id": "j3ultxwm0iKk"
      },
      "outputs": [],
      "source": [
        "valor = notas[\"Flávio\"].pop(2)  # exclui a nota de índice 2 do objeto \"Flávio\" e atribui este valor à variável \"valor\""
      ]
    },
    {
      "cell_type": "code",
      "execution_count": null,
      "metadata": {
        "id": "QwTWgNTu1m2J"
      },
      "outputs": [],
      "source": [
        "valor"
      ]
    },
    {
      "cell_type": "code",
      "execution_count": null,
      "metadata": {
        "id": "7qc3Sj2G1nru"
      },
      "outputs": [],
      "source": [
        "notas  # reparem a difererença entre os dois registros de \"Flávio\""
      ]
    },
    {
      "cell_type": "code",
      "execution_count": null,
      "metadata": {
        "id": "91C6-W2Muiy2"
      },
      "outputs": [],
      "source": [
        "notas.pop(\"Lucas\")"
      ]
    },
    {
      "cell_type": "code",
      "execution_count": null,
      "metadata": {
        "id": "XDz4R85wmckt"
      },
      "outputs": [],
      "source": [
        "notas"
      ]
    },
    {
      "cell_type": "markdown",
      "metadata": {
        "id": "ICkFAu1DrUJH"
      },
      "source": [
        "* UPDATE( )\n",
        "\n",
        "Atualizar mais de um valor em um dict"
      ]
    },
    {
      "cell_type": "code",
      "execution_count": null,
      "metadata": {
        "id": "Lb1YRqgqrUJI"
      },
      "outputs": [],
      "source": [
        "notas.update({'Flávio': [10, 8], \"Davi\": [7, 9]})"
      ]
    },
    {
      "cell_type": "code",
      "execution_count": null,
      "metadata": {
        "id": "4etslGW1ZyaM"
      },
      "outputs": [],
      "source": [
        "notas\n"
      ]
    },
    {
      "cell_type": "markdown",
      "metadata": {
        "id": "SBL48Mf3rUJU"
      },
      "source": [
        "* Recuperar todas as chaves do dicionário"
      ]
    },
    {
      "cell_type": "code",
      "execution_count": null,
      "metadata": {
        "id": "qYLJHOW5aFQc"
      },
      "outputs": [],
      "source": [
        "notas.keys() # note que um dicionário não tem ordem"
      ]
    },
    {
      "cell_type": "code",
      "execution_count": null,
      "metadata": {
        "id": "4CxpkHKNrUJV"
      },
      "outputs": [],
      "source": [
        "list(notas.keys()) # retorna uma lista com as chaves do dicionário"
      ]
    },
    {
      "cell_type": "code",
      "execution_count": null,
      "metadata": {
        "id": "NhCkEMxeaRwk"
      },
      "outputs": [],
      "source": [
        "lista_alunos = list(notas.keys()) # atribui uma lista com as chaves do dicionário à lista \"lista_alunos\""
      ]
    },
    {
      "cell_type": "code",
      "execution_count": null,
      "metadata": {
        "id": "GWsxvfaLacj8"
      },
      "outputs": [],
      "source": [
        "lista_alunos"
      ]
    },
    {
      "cell_type": "markdown",
      "metadata": {
        "id": "hkFBzudOrUJY"
      },
      "source": [
        "* Recuperar todos os valores do dicionário"
      ]
    },
    {
      "cell_type": "code",
      "execution_count": null,
      "metadata": {
        "id": "NZN015S-amHT"
      },
      "outputs": [],
      "source": [
        "notas.values()"
      ]
    },
    {
      "cell_type": "code",
      "execution_count": null,
      "metadata": {
        "id": "2IC8xNUrrUJY"
      },
      "outputs": [],
      "source": [
        "list(notas.values())"
      ]
    },
    {
      "cell_type": "markdown",
      "metadata": {
        "id": "hg8pjVYmrUJb"
      },
      "source": [
        "### Conjuntos\n",
        "\n",
        "Os elementos de um conjunto não se repetem\n",
        "\n",
        "Um set em Python é uma coleção de itens únicos (distintos)"
      ]
    },
    {
      "cell_type": "markdown",
      "metadata": {
        "id": "d-xpBFd5rUJi"
      },
      "source": [
        "* Adicionar um elemento no conjunto"
      ]
    },
    {
      "cell_type": "code",
      "execution_count": null,
      "metadata": {
        "id": "x91AAJp4rUJj",
        "scrolled": true
      },
      "outputs": [],
      "source": [
        "conjunto_vazio = set()  # cria um conjunto vazio"
      ]
    },
    {
      "cell_type": "code",
      "execution_count": null,
      "metadata": {
        "id": "1ko9gOSq4obH"
      },
      "outputs": [],
      "source": [
        "type(conjunto_vazio)"
      ]
    },
    {
      "cell_type": "code",
      "execution_count": null,
      "metadata": {
        "id": "_fmMcczgsE-J"
      },
      "outputs": [],
      "source": [
        "# Exemplo de criação de sets\n",
        "\n",
        "numeros = [1, 2, 2, 3, 3, 3]  # aqui temos uma lista\n",
        "numeros_distintos = set(numeros)  # transformamos a lista em um set\n",
        "print(\"Números: \", numeros)\n",
        "print(\"Números distintos: \", numeros_distintos)"
      ]
    },
    {
      "cell_type": "markdown",
      "metadata": {
        "id": "hovUDaX8sqTY"
      },
      "source": [
        "Atenção! Para inserirmos um elemento em uma lista, podemos usar a função insert() ou a função append(), mas para inserirmos um elemento em um conjunto somente a função add( ) pode ser utilizada"
      ]
    },
    {
      "cell_type": "code",
      "execution_count": null,
      "metadata": {
        "id": "xYyws8N14_Hl"
      },
      "outputs": [],
      "source": [
        "autores = {'José Saramago', 'Clarice Lispector', 'Miguel Torga'}"
      ]
    },
    {
      "cell_type": "code",
      "execution_count": null,
      "metadata": {
        "id": "3h6f2LL3a46k"
      },
      "outputs": [],
      "source": [
        "type(autores)"
      ]
    },
    {
      "cell_type": "code",
      "execution_count": null,
      "metadata": {
        "id": "j1Y389YL5C3u"
      },
      "outputs": [],
      "source": [
        "numeros = [1,2,3,5,12,1,1,1,1,2,3,1,1]"
      ]
    },
    {
      "cell_type": "code",
      "execution_count": null,
      "metadata": {
        "id": "Nz4YT1sEa9ME"
      },
      "outputs": [],
      "source": [
        "type(numeros)"
      ]
    },
    {
      "cell_type": "code",
      "execution_count": null,
      "metadata": {
        "id": "PEqnGJhl5m-Z"
      },
      "outputs": [],
      "source": [
        "set(numeros)"
      ]
    },
    {
      "cell_type": "code",
      "execution_count": null,
      "metadata": {
        "id": "SgoO7OeEoFPA"
      },
      "outputs": [],
      "source": [
        "type(numeros)"
      ]
    },
    {
      "cell_type": "code",
      "execution_count": null,
      "metadata": {
        "id": "-FnsUz0ooKd8"
      },
      "outputs": [],
      "source": [
        "novo_conjunto = set(numeros)\n",
        "type(novo_conjunto)"
      ]
    },
    {
      "cell_type": "markdown",
      "metadata": {
        "id": "j4xRAmagrUJm"
      },
      "source": [
        "* Remover um elemento do conjunto"
      ]
    },
    {
      "cell_type": "markdown",
      "metadata": {
        "id": "olJLxWBItV6T"
      },
      "source": [
        "Para remover um elemento de um **conjunto** em Python, podemos usar a função **remove**( ) ou a função **discard**( )"
      ]
    },
    {
      "cell_type": "markdown",
      "metadata": {
        "id": "kiT-BH9xtk8w"
      },
      "source": [
        "A função remove( ) deve ser usada somente se tivermos certeza que o elemento está presente no conjunto, pois se o elemento não estiver presente, a função remove( ) causa uma exceção."
      ]
    },
    {
      "cell_type": "code",
      "execution_count": null,
      "metadata": {
        "id": "mhkiyy2t5_h2"
      },
      "outputs": [],
      "source": [
        "'Clarice Lispector' in autores"
      ]
    },
    {
      "cell_type": "code",
      "execution_count": null,
      "metadata": {
        "id": "-KWXa8DmrUJn"
      },
      "outputs": [],
      "source": [
        "autores.remove('Miguel Torga')\n",
        "autores"
      ]
    },
    {
      "cell_type": "code",
      "source": [
        "nums = set([1, 2, 2, 3, 3, 3])\n",
        "print(nums)"
      ],
      "metadata": {
        "id": "Yc3cz1sEPpfX"
      },
      "execution_count": null,
      "outputs": []
    },
    {
      "cell_type": "code",
      "execution_count": null,
      "metadata": {
        "id": "wSopp-G1tZjz"
      },
      "outputs": [],
      "source": [
        "nums.remove(2)\n",
        "print(\"Números: \", nums)"
      ]
    },
    {
      "cell_type": "markdown",
      "metadata": {
        "id": "b-RsjGu8tutA"
      },
      "source": [
        "A função **discard()** remove um elemento do conjunto se o elemento estiver presente, mas não faz nada caso contrário."
      ]
    },
    {
      "cell_type": "code",
      "execution_count": null,
      "metadata": {
        "id": "zT4Kwg7btx6v"
      },
      "outputs": [],
      "source": [
        "nums = set([1, 2, 2, 3, 3, 3])\n",
        "nums.discard(4) \n",
        "nums.discard(2)\n",
        "print(nums)"
      ]
    },
    {
      "cell_type": "code",
      "execution_count": null,
      "metadata": {
        "id": "su8FCyZi6EfZ"
      },
      "outputs": [],
      "source": [
        "autores.add('Cora Coralina')\n",
        "autores.add('Edith Eger')\n",
        "autores"
      ]
    },
    {
      "cell_type": "code",
      "execution_count": null,
      "metadata": {
        "id": "w0Sxkl4duHDq"
      },
      "outputs": [],
      "source": [
        "autores.discard('José Saramago')\n",
        "autores"
      ]
    },
    {
      "cell_type": "code",
      "execution_count": null,
      "metadata": {
        "id": "XtEzAFgNuWfA"
      },
      "outputs": [],
      "source": [
        "nums = set([1, 2, 2, 3, 3, 3])\n",
        "print(\"Números: \", nums)\n",
        "\n",
        "nums.clear()  # remove todos os elementos. Pode ser usado em listas também\n",
        "print(\"Números: \", nums)  # imprime um conjunto vazio - set()"
      ]
    },
    {
      "cell_type": "markdown",
      "metadata": {
        "id": "zFKb7y66wNo3"
      },
      "source": [
        "*  UPDATE( )\n",
        "\n",
        "O método update( ) atualiza um conjunto adicionando item de outros *iterables*\n",
        "\n",
        "**conjunto.update(iterable)**\n",
        "\n",
        "Iterable pode ser uma lista, um conjunto, um dicionário (chave), uma string."
      ]
    },
    {
      "cell_type": "code",
      "execution_count": null,
      "metadata": {
        "id": "vi5XS7sO6TvH"
      },
      "outputs": [],
      "source": [
        "autores.update({'Pablo Neruda', 'Cecília Meireles'})\n",
        "autores"
      ]
    },
    {
      "cell_type": "code",
      "execution_count": null,
      "metadata": {
        "id": "g6xkr9n9q-ny"
      },
      "outputs": [],
      "source": [
        "autores.update([\"Dostoyevsky\", \"Tolstoi\"])"
      ]
    },
    {
      "cell_type": "code",
      "execution_count": null,
      "metadata": {
        "id": "Y_GwoVn4rHpC"
      },
      "outputs": [],
      "source": [
        "autores"
      ]
    },
    {
      "cell_type": "markdown",
      "metadata": {
        "id": "1oTGhxUPw93Y"
      },
      "source": [
        "#### Operações com conjuntos"
      ]
    },
    {
      "cell_type": "code",
      "execution_count": null,
      "metadata": {
        "id": "TvRain8_7LwA"
      },
      "outputs": [],
      "source": [
        "alunos_python = {\"Ana\", \"Filipe\", \"Alfredo\", 'Cristiane', 'Jorge', 'Davi'}\n",
        "alunos_R = {'Augusto', \"Marcela\", 'Filipe', 'Alfredo'}"
      ]
    },
    {
      "cell_type": "markdown",
      "metadata": {
        "id": "0cR4lnd4rUJp"
      },
      "source": [
        "* Diferença entre conjuntos"
      ]
    },
    {
      "cell_type": "code",
      "execution_count": null,
      "metadata": {
        "id": "Md_K-6I4ocQ6"
      },
      "outputs": [],
      "source": [
        "alunos_python - alunos_R  # está em A, mas não está em B"
      ]
    },
    {
      "cell_type": "code",
      "execution_count": null,
      "metadata": {
        "id": "497TY0PK7tHX"
      },
      "outputs": [],
      "source": [
        "alunos_python.difference(alunos_R)"
      ]
    },
    {
      "cell_type": "markdown",
      "metadata": {
        "id": "sQymaHXurUJu"
      },
      "source": [
        "* Interseção\n",
        "\n"
      ]
    },
    {
      "cell_type": "code",
      "execution_count": null,
      "metadata": {
        "id": "Zc2CDMTd7phY"
      },
      "outputs": [],
      "source": [
        "alunos_python & alunos_R  # está em A E está em B"
      ]
    },
    {
      "cell_type": "code",
      "execution_count": null,
      "metadata": {
        "id": "mUGU0atb7zBR"
      },
      "outputs": [],
      "source": [
        "alunos_python.intersection(alunos_R)"
      ]
    },
    {
      "cell_type": "markdown",
      "metadata": {
        "id": "Sadq_gWwrUJz"
      },
      "source": [
        "* União: está em A OU está em B"
      ]
    },
    {
      "cell_type": "code",
      "execution_count": null,
      "metadata": {
        "id": "sto-6SUqxWV3"
      },
      "outputs": [],
      "source": [
        "A = {0, 1, 3, 5, 7, 9} \n",
        "B = {0, 2, 4, 6, 8}\n",
        "C = A.union(B)\n",
        "print(C)"
      ]
    },
    {
      "cell_type": "code",
      "execution_count": null,
      "metadata": {
        "id": "pvM6WTMjxb4n"
      },
      "outputs": [],
      "source": [
        "A = {0, 1, 3, 5, 7, 9}\n",
        "B = {0, 2, 4, 6, 8}\n",
        "C = A | B \n",
        "print(C)"
      ]
    },
    {
      "cell_type": "code",
      "execution_count": null,
      "metadata": {
        "id": "hS2sm4qKoeDE"
      },
      "outputs": [],
      "source": [
        "alunos_python | alunos_R   # está em A OU está em B"
      ]
    },
    {
      "cell_type": "code",
      "execution_count": null,
      "metadata": {
        "id": "6TeaI9pd75vQ"
      },
      "outputs": [],
      "source": [
        "alunos_python.union(alunos_R)"
      ]
    },
    {
      "cell_type": "markdown",
      "metadata": {
        "id": "bxmbGedMrUJ3"
      },
      "source": [
        "* Diferença simétrica"
      ]
    },
    {
      "cell_type": "code",
      "execution_count": null,
      "metadata": {
        "id": "vi0TleT-rUJ3"
      },
      "outputs": [],
      "source": [
        "alunos_python.symmetric_difference(alunos_R)  # elementos que estão em A OU B, mas não estão na interseção"
      ]
    },
    {
      "cell_type": "markdown",
      "metadata": {
        "id": "ss9sWsdQT7Dv"
      },
      "source": [
        "### Tipos de Dados"
      ]
    },
    {
      "cell_type": "markdown",
      "metadata": {
        "id": "CT_PNF7Xy62X"
      },
      "source": [
        "Python possui vários tipos básicos de dados: números inteiros (int), números de ponto flutuante (float), booleanos, números complexos, cadeias de caracteres, etc."
      ]
    },
    {
      "cell_type": "markdown",
      "metadata": {
        "id": "BQp_FvKLzJaH"
      },
      "source": [
        "A função **type()** retorna o tipo do valor passado como parâmetro."
      ]
    },
    {
      "cell_type": "code",
      "execution_count": null,
      "metadata": {
        "id": "61qqEsspglOy"
      },
      "outputs": [],
      "source": [
        "nome = \"João\""
      ]
    },
    {
      "cell_type": "markdown",
      "metadata": {
        "id": "HjfwE0gvT-sC"
      },
      "source": [
        "* Verifique os tipos das variáveis"
      ]
    },
    {
      "cell_type": "code",
      "execution_count": null,
      "metadata": {
        "id": "8xapinInog4T"
      },
      "outputs": [],
      "source": [
        "type(nome)"
      ]
    },
    {
      "cell_type": "code",
      "execution_count": null,
      "metadata": {
        "id": "sa-_Wn6J-Os-"
      },
      "outputs": [],
      "source": [
        "type(4)"
      ]
    },
    {
      "cell_type": "code",
      "execution_count": null,
      "metadata": {
        "id": "tZzT_mKx-QeS"
      },
      "outputs": [],
      "source": [
        "type(2.3)"
      ]
    },
    {
      "cell_type": "code",
      "execution_count": null,
      "metadata": {
        "id": "5dRD_oc5-SJh"
      },
      "outputs": [],
      "source": [
        "type(autores)"
      ]
    },
    {
      "cell_type": "markdown",
      "metadata": {
        "id": "iWjAmdtDTbHG"
      },
      "source": [
        "### Cast\n",
        "\n",
        "**Cast** é uma tecnica de conversão de tipos de um objeto"
      ]
    },
    {
      "cell_type": "code",
      "execution_count": null,
      "metadata": {
        "id": "i4DbLLrZEBq-"
      },
      "outputs": [],
      "source": [
        "v=input(\"informe um valor:\")"
      ]
    },
    {
      "cell_type": "code",
      "execution_count": null,
      "metadata": {
        "id": "JErSyij2EJCJ"
      },
      "outputs": [],
      "source": [
        "type(v)"
      ]
    },
    {
      "cell_type": "code",
      "execution_count": null,
      "metadata": {
        "id": "uR-WDSxtoi4V"
      },
      "outputs": [],
      "source": [
        "valor = int(input(\"Informe um valor inteiro: \"))"
      ]
    },
    {
      "cell_type": "code",
      "execution_count": null,
      "metadata": {
        "id": "XGFo-2ulETK9"
      },
      "outputs": [],
      "source": [
        "type(valor)"
      ]
    },
    {
      "cell_type": "code",
      "execution_count": null,
      "metadata": {
        "id": "qRGmVjmQcwjT"
      },
      "outputs": [],
      "source": [
        "autor = {\"nome\": \"José\", \"sobrenome\": \"Saramago\"}\n",
        "#list(autor) # -> ???"
      ]
    },
    {
      "cell_type": "code",
      "execution_count": null,
      "metadata": {
        "id": "AJ_OxQm3Equ0"
      },
      "outputs": [],
      "source": [
        "type(autor)"
      ]
    },
    {
      "cell_type": "code",
      "execution_count": null,
      "metadata": {
        "id": "rk2XiDEieqiC"
      },
      "outputs": [],
      "source": [
        "autor_dict_para_lista = list(autor.values())\n",
        "print(autor_dict_para_lista)"
      ]
    },
    {
      "cell_type": "code",
      "execution_count": null,
      "metadata": {
        "id": "YHAGYplUcwdE"
      },
      "outputs": [],
      "source": [
        "numero = \"9123\"\n",
        "#float(numero) # -> ???"
      ]
    },
    {
      "cell_type": "code",
      "execution_count": null,
      "metadata": {
        "id": "ygB4z3F9FWq8"
      },
      "outputs": [],
      "source": [
        "type(numero)"
      ]
    },
    {
      "cell_type": "code",
      "execution_count": null,
      "metadata": {
        "id": "hop8AdmwfedL"
      },
      "outputs": [],
      "source": [
        "numero = float(numero)\n",
        "numero"
      ]
    },
    {
      "cell_type": "code",
      "execution_count": null,
      "metadata": {
        "id": "YEM4qG9xaV4_"
      },
      "outputs": [],
      "source": [
        "type(numero)"
      ]
    },
    {
      "cell_type": "code",
      "execution_count": null,
      "metadata": {
        "id": "sLma4gB0cwG7"
      },
      "outputs": [],
      "source": [
        "numero_f = 12.9984\n",
        "#complex(numero_f) # -> ???"
      ]
    },
    {
      "cell_type": "code",
      "execution_count": null,
      "metadata": {
        "id": "rjvAqTodfnoZ"
      },
      "outputs": [],
      "source": [
        "complexo = complex(numero_f)\n",
        "complexo"
      ]
    },
    {
      "cell_type": "markdown",
      "metadata": {
        "id": "N3tjfmaPL1zf"
      },
      "source": [
        "### Strings"
      ]
    },
    {
      "cell_type": "markdown",
      "metadata": {
        "id": "9ICn4qylzul2"
      },
      "source": [
        "Strings são sequências (cadeias) de caracteres. Em outras palavras, uma string é simplesmente uma sequência de zero ou mais letras juntas."
      ]
    },
    {
      "cell_type": "code",
      "execution_count": null,
      "metadata": {
        "id": "iqsnuyWLma6n"
      },
      "outputs": [],
      "source": [
        "str_vazia = \"\""
      ]
    },
    {
      "cell_type": "code",
      "execution_count": null,
      "metadata": {
        "id": "D8zQfZrtA2m0"
      },
      "outputs": [],
      "source": [
        "mensagem = \"Olá mundo! Tudo bem?\""
      ]
    },
    {
      "cell_type": "code",
      "execution_count": null,
      "metadata": {
        "id": "yA6LVjsUAj_e"
      },
      "outputs": [],
      "source": [
        "type(str_vazia)"
      ]
    },
    {
      "cell_type": "code",
      "execution_count": null,
      "metadata": {
        "id": "LOUw3VPNA8DN"
      },
      "outputs": [],
      "source": [
        "mensagem[4]"
      ]
    },
    {
      "cell_type": "code",
      "execution_count": null,
      "metadata": {
        "id": "brVBQ95GBIN3"
      },
      "outputs": [],
      "source": [
        "mensagem[4:10]"
      ]
    },
    {
      "cell_type": "markdown",
      "metadata": {
        "id": "LzDQz0peMADq"
      },
      "source": [
        "#### Manipulação de Strings"
      ]
    },
    {
      "cell_type": "code",
      "execution_count": null,
      "metadata": {
        "id": "7CN04G6PgMwa"
      },
      "outputs": [],
      "source": [
        "# Imprimindo uma string.\n",
        "s = \"Olá, mundo, de novo!\"\n",
        "print(s)"
      ]
    },
    {
      "cell_type": "code",
      "execution_count": null,
      "metadata": {
        "id": "3hsy0YmSbxCl"
      },
      "outputs": [],
      "source": [
        "# Concatenação\n",
        "print(\"A vida \" + \"é bela\")"
      ]
    },
    {
      "cell_type": "code",
      "execution_count": null,
      "metadata": {
        "id": "WqT35f6db0NJ"
      },
      "outputs": [],
      "source": [
        "# Substitui uma substring por alguma outra coisa.\n",
        "s1 = s.replace(\"mundo\", \"turma\")"
      ]
    },
    {
      "cell_type": "code",
      "execution_count": null,
      "metadata": {
        "id": "i88R0Wasb-Sz"
      },
      "outputs": [],
      "source": [
        "print(s1)"
      ]
    },
    {
      "cell_type": "code",
      "execution_count": null,
      "metadata": {
        "id": "LSMIQhoMcDXp"
      },
      "outputs": [],
      "source": [
        "# A string s começa com \"Olá\"?\n",
        "print(s.startswith(\"Olá\"))"
      ]
    },
    {
      "cell_type": "code",
      "execution_count": null,
      "metadata": {
        "id": "3wZvdw8RcJFw"
      },
      "outputs": [],
      "source": [
        "# A string s termina com \"mundo\"?\n",
        "print(s.endswith(\"mundo\"))"
      ]
    },
    {
      "cell_type": "code",
      "execution_count": null,
      "metadata": {
        "id": "-aUhesmWb44c"
      },
      "outputs": [],
      "source": [
        "# Quantas ocorrências da palavra \"turma\" a string s1 possui?\n",
        "print(s1.count(\"turma\"))"
      ]
    },
    {
      "cell_type": "code",
      "execution_count": null,
      "metadata": {
        "id": "9ZujYefWhW96"
      },
      "outputs": [],
      "source": [
        "#Escape Code\n",
        "\n",
        "# \\n ---> new line\n",
        "# \\t ---> tab\n",
        "# \\b ---> back space"
      ]
    },
    {
      "cell_type": "code",
      "execution_count": null,
      "metadata": {
        "id": "XReV43s6BvoO"
      },
      "outputs": [],
      "source": [
        "noticia= \"\"\"O dólar opera em queda nesta quarta-feira (23), engatando sua quarta perda diária consecutiva com a manutenção de fluxos para o mercado doméstico, que oferece juros atrativos, apesar das preocupações internacionais com a crise na Ucrânia.\"\"\""
      ]
    },
    {
      "cell_type": "code",
      "execution_count": null,
      "metadata": {
        "id": "lHB-WxogCZds"
      },
      "outputs": [],
      "source": [
        "noticia"
      ]
    },
    {
      "cell_type": "markdown",
      "metadata": {
        "id": "gnW7TYrtMEWl"
      },
      "source": [
        "* Encontrar uma substring"
      ]
    },
    {
      "cell_type": "code",
      "execution_count": null,
      "metadata": {
        "id": "UU8AtNeOMBru"
      },
      "outputs": [],
      "source": [
        "'dólar' in noticia"
      ]
    },
    {
      "cell_type": "code",
      "execution_count": null,
      "metadata": {
        "id": "4V90bA91DBT6"
      },
      "outputs": [],
      "source": [
        "noticia.find('Ucrânia')"
      ]
    },
    {
      "cell_type": "markdown",
      "metadata": {
        "id": "CUZ1wuDTQ4bk"
      },
      "source": [
        "* Deixar todas as letras maiúsculas"
      ]
    },
    {
      "cell_type": "code",
      "execution_count": null,
      "metadata": {
        "id": "6TfOh40MQ6iL"
      },
      "outputs": [],
      "source": [
        "# Todas as letras maiúsculas\n",
        "noticia.upper()"
      ]
    },
    {
      "cell_type": "code",
      "execution_count": null,
      "metadata": {
        "id": "YGJ9_5NPEX49"
      },
      "outputs": [],
      "source": [
        "# Todas as letras minúsculas\n",
        "noticia.lower()"
      ]
    },
    {
      "cell_type": "code",
      "execution_count": null,
      "metadata": {
        "id": "_xXQrTXTErG7"
      },
      "outputs": [],
      "source": [
        "\"embaixada brasileira em kiev orienta brasileiros\".title()"
      ]
    },
    {
      "cell_type": "code",
      "source": [
        "mensagem"
      ],
      "metadata": {
        "id": "FJr2V3lzaAEG"
      },
      "execution_count": null,
      "outputs": []
    },
    {
      "cell_type": "code",
      "source": [
        "mensagem.split()"
      ],
      "metadata": {
        "id": "fSsqvWWsaGyW"
      },
      "execution_count": null,
      "outputs": []
    },
    {
      "cell_type": "code",
      "execution_count": null,
      "metadata": {
        "id": "iM1qxyVqE2_6"
      },
      "outputs": [],
      "source": [
        "print(len(mensagem)) #quantidade de caracteres\n",
        "print(len(mensagem.split()))  # quantidade de palavras"
      ]
    },
    {
      "cell_type": "markdown",
      "metadata": {
        "id": "16xpOxhtFjV_"
      },
      "source": [
        "####Strings e Listas\n"
      ]
    },
    {
      "cell_type": "code",
      "execution_count": null,
      "metadata": {
        "id": "eTj-kBH9FsRJ"
      },
      "outputs": [],
      "source": [
        "# Converte uma string em uma lista.\n",
        "string = list(\"Cinema Paradiso\")\n",
        "print(string)"
      ]
    },
    {
      "cell_type": "code",
      "execution_count": null,
      "metadata": {
        "id": "MaTe4YqSdR18"
      },
      "outputs": [],
      "source": [
        "# Converte uma lista em uma string.\n",
        "lista = ['C', 'i', 'n', 'e', 'm', 'a', ' ', 'P', 'a', 'r', 'a', 'd', 'i', 's', 'o']\n",
        "print(''.join(lista))"
      ]
    }
  ],
  "metadata": {
    "colab": {
      "collapsed_sections": [
        "N3tjfmaPL1zf"
      ],
      "provenance": []
    },
    "kernelspec": {
      "display_name": "Python 3",
      "language": "python",
      "name": "python3"
    },
    "language_info": {
      "codemirror_mode": {
        "name": "ipython",
        "version": 3
      },
      "file_extension": ".py",
      "mimetype": "text/x-python",
      "name": "python",
      "nbconvert_exporter": "python",
      "pygments_lexer": "ipython3",
      "version": "3.7.3"
    }
  },
  "nbformat": 4,
  "nbformat_minor": 0
}