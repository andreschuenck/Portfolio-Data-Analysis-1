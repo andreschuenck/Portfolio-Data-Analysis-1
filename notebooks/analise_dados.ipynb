{
 "cells": [
  {
   "cell_type": "markdown",
   "metadata": {},
   "source": [
    "## Sumário\n",
    "\n",
    "1. [Importando Bibliotecas](#importando-bibliotecas)  \n",
    "    - 1.1 [Carregamento dos Dados](#carregamento-dos-dados)  \n",
    "    - 1.2 [Exibição das Primeiras Linhas](#exibicao-das-primeiras-linhas)  \n",
    "2. [Análise Estatística Descritiva](#analise-estatistica-descritiva)  \n",
    "    - 2.1 [Cálculo das Médias](#calculo-das-medias)  \n",
    "    - 2.2 [Análise de Correlação](#analise-de-correlacao)  \n",
    "    - 2.3 [Interpretação dos Resultados](#interpretacao-dos-resultados)  \n",
    "3. [Análise Estatística Detalhada](#analise-estatistica-detalhada)  \n",
    "    - 3.1 [Desvio Padrão, Mínimo, Máximo e Quartis](#desvio-padrao-minimo-maximo-e-quartis)  \n",
    "    - 3.2 [Skewness (Assimetria)](#skewness-assimetria)  \n",
    "    - 3.3 [Kurtosis (Curtose)](#kurtosis-curtose)  \n",
    "    - 3.4 [Interpretação dos Resultados](#interpretacao-dos-resultados-2)  \n",
    "4. [Visualização dos Dados](#visualizacao-dos-dados)  \n",
    "    - 4.1 [Histograma](#histograma)  \n",
    "    - 4.2 [Gráfico de Dispersão](#grafico-de-dispersao)  \n",
    "    - 4.3 [Boxplot](#boxplot)  \n",
    "    - 4.4 [Interpretação dos Resultados](#interpretacao-dos-resultados)  \n",
    "        - 4.4.1 [Distribuição do Tempo de Produção](#distribuicao-do-tempo-de-producao)  \n",
    "        - 4.4.2 [Distribuição do Tempo de Setup](#distribuicao-do-tempo-de-setup)  \n",
    "        - 4.4.3 [Correlação entre Tempo de Setup e Tempo de Produção](#correlacao-entre-tempo-de-setup-e-tempo-de-producao)  \n",
    "        - 4.4.4 [Insights Operacionais](#insights-operacionais)  \n",
    "        - 4.4.5 [Oportunidades de Melhoria](#oportunidades-de-melhoria)  \n",
    "        - 4.4.6 [Conclusão Geral](#conclusao-geral)  \n",
    "5. [Análise Detalhada dos Dados](#analise-detalhada-dos-dados)  \n",
    "    - 5.1 [Distribuição do Tempo de Produção](#distribuicao-do-tempo-de-producao)  \n",
    "    - 5.2 [Distribuição do Tempo de Setup](#distribuicao-do-tempo-de-setup)  \n",
    "    - 5.3 [Correlação entre Tempo de Setup e Tempo de Produção](#correlacao-entre-tempo-de-setup-e-tempo-de-producao)  \n",
    "    - 5.4 [Insights Operacionais](#insights-operacionais)  \n",
    "    - 5.5 [Oportunidades de Melhoria](#oportunidades-de-melhoria)  \n",
    "6. [Insights Operacionais](#insights-operacionais)  \n",
    "7. [Oportunidades de Melhoria](#oportunidades-de-melhoria)  \n",
    "8. [Conclusão](#conclusao)\n"
   ]
  },
  {
   "cell_type": "markdown",
   "metadata": {},
   "source": [
    "### 1. Importação das Bibliotecas:\n",
    "Neste passo, importamos as bibliotecas necessárias para a análise de dados.\n",
    "\n",
    "#### 1.1 Carregamento dos Dados\n",
    "O arquivo CSV gerado na etapa anterior é carregado no `df` (DataFrame do Pandas). O `df` é uma estrutura de dados bidimensional que permite fácil manipulação de dados em Python.\n",
    "\n",
    "#### 1.2 Exibição das Primeiras Linhas\n",
    "O método `df.head()` exibe as primeiras 5 linhas do DataFrame para termos uma ideia do formato dos dados. Isso nos ajuda a entender rapidamente a estrutura do arquivo e verificar se os dados foram carregados corretamente.\n"
   ]
  },
  {
   "cell_type": "code",
   "execution_count": 23,
   "metadata": {},
   "outputs": [
    {
     "name": "stdout",
     "output_type": "stream",
     "text": [
      "pandas já está instalado.\n",
      "numpy já está instalado.\n",
      "matplotlib já está instalado.\n",
      "seaborn já está instalado.\n",
      "scipy já está instalado.\n"
     ]
    }
   ],
   "source": [
    "# Importando as bibliotecas necessárias\n",
    "import pandas as pd\n",
    "import subprocess\n",
    "import sys\n",
    "\n",
    "# Carregando os dados do arquivo CSV\n",
    "df = pd.read_csv('../data/dados_producao.csv')\n",
    "\n",
    "# Exibindo as primeiras linhas para entender como os dados estão organizados\n",
    "df.head()\n",
    "\n",
    "# Analisando as estatísticas descritivas dos dados\n",
    "df.describe()\n",
    "\n",
    "# Lista das bibliotecas necessárias\n",
    "required_libraries = [\n",
    "    'pandas', \n",
    "    'numpy', \n",
    "    'matplotlib', \n",
    "    'seaborn', \n",
    "    'scipy'\n",
    "]\n",
    "\n",
    "# Função para instalar as bibliotecas\n",
    "def install_libraries():\n",
    "    for library in required_libraries:\n",
    "        try:\n",
    "            # Tenta importar a biblioteca\n",
    "            __import__(library)\n",
    "            print(f\"{library} já está instalado.\")\n",
    "        except ImportError:\n",
    "            # Se não encontrar, instala\n",
    "            print(f\"{library} não encontrado. Instalando...\")\n",
    "            subprocess.check_call([sys.executable, \"-m\", \"pip\", \"install\", library])\n",
    "            print(f\"{library} instalado com sucesso!\")\n",
    "\n",
    "# Chama a função para instalar as bibliotecas\n",
    "install_libraries()\n"
   ]
  },
  {
   "cell_type": "markdown",
   "metadata": {},
   "source": [
    "## 2. Análise Estatística Descritiva\n",
    "\n",
    "A análise estatística descritiva tem como objetivo resumir os dados e calcular medidas centrais, como média, mediana, e desvio padrão, para entender melhor o comportamento dos tempos de produção, tempo de setup e a quantidade produzida.\n",
    "\n",
    "---\n",
    "\n",
    "### 2.1 Cálculo das Médias\n",
    "\n",
    "O primeiro passo foi calcular a média de três variáveis importantes:\n",
    "\n",
    "1. **Tempo médio de produção**: A média do tempo que foi gasto para produzir os itens.\n",
    "2. **Tempo médio de setup**: A média do tempo necessário para configurar a produção.\n",
    "3. **Quantidade média produzida**: A média da quantidade de itens produzidos."
   ]
  },
  {
   "cell_type": "code",
   "execution_count": 1,
   "metadata": {},
   "outputs": [
    {
     "name": "stdout",
     "output_type": "stream",
     "text": [
      "Tempo médio de produção: 135.19 minutos\n",
      "Tempo médio de setup: 35.10 minutos\n",
      "Quantidade média produzida: 55.30 unidades\n",
      "Correlação entre tempo de produção e tempo de setup:\n",
      "                Tempo_Producao  Tempo_Setup\n",
      "Tempo_Producao        1.000000    -0.013547\n",
      "Tempo_Setup          -0.013547     1.000000\n"
     ]
    }
   ],
   "source": [
    "\n",
    "# Analisando o tempo médio de produção\n",
    "media_tempo_producao = df['Tempo_Producao'].mean()\n",
    "print(f\"Tempo médio de produção: {media_tempo_producao:.2f} minutos\")\n",
    "\n",
    "# Analisando o tempo médio de setup\n",
    "media_tempo_setup = df['Tempo_Setup'].mean()\n",
    "print(f\"Tempo médio de setup: {media_tempo_setup:.2f} minutos\")\n",
    "\n",
    "# Analisando a quantidade média produzida\n",
    "media_quantidade_produzida = df['Quantidade_Produzida'].mean()\n",
    "print(f\"Quantidade média produzida: {media_quantidade_produzida:.2f} unidades\")\n",
    "\n",
    "\n"
   ]
  },
  {
   "cell_type": "markdown",
   "metadata": {},
   "source": [
    "### 2.2 Análise de Correlação\n",
    "\n",
    "Além de calcular as médias, também foi realizada uma análise de correlação entre o tempo de produção e o tempo de setup. Isso ajuda a entender se existe uma relação entre essas duas variáveis.\n"
   ]
  },
  {
   "cell_type": "code",
   "execution_count": null,
   "metadata": {},
   "outputs": [],
   "source": [
    "# Comparando o tempo de produção com o tempo de setup (por exemplo, correlação)\n",
    "correlacao = df[['Tempo_Producao', 'Tempo_Setup']].corr()\n",
    "print(\"Correlação entre tempo de produção e tempo de setup:\")\n",
    "print(correlacao)"
   ]
  },
  {
   "cell_type": "markdown",
   "metadata": {},
   "source": [
    "### 2.3 Interpretação dos Resultados\n",
    "\n",
    "Após realizar os cálculos das médias e da correlação entre as variáveis, obtemos os seguintes resultados:\n",
    "\n",
    "#### Tempo médio de produção\n",
    "O tempo médio de produção foi de **135,19 minutos**. Isso significa que, em média, cada unidade leva cerca de **2 horas e 15 minutos** para ser produzida. Este valor pode variar dependendo do tipo de produto e da linha de produção, mas serve como um bom indicador inicial do tempo necessário para produção. \n",
    "\n",
    "#### Tempo médio de setup\n",
    "O tempo médio de setup foi de **35,10 minutos**. Este valor representa o tempo necessário para ajustar a máquina e a linha de produção antes de iniciar a produção de uma nova unidade ou lote de produtos. O tempo de setup pode incluir ajustes na máquina, troca de ferramentas, calibração, etc. Vale observar que esse valor é significativamente menor que o tempo de produção, o que é comum em muitas indústrias.\n",
    "\n",
    "#### Quantidade média produzida\n",
    "A quantidade média produzida foi de **55,30 unidades**. Esse valor indica a média de unidades fabricadas por ciclo de produção. Assim como os outros valores, esse número pode variar dependendo do tipo de produto e da demanda da fábrica.\n",
    "\n",
    "#### Correlação entre tempo de produção e tempo de setup\n",
    "A correlação entre o **tempo de produção** e o **tempo de setup** foi de **-0.013547**. Esse valor indica uma correlação muito fraca e negativa. Em termos simples, isso significa que **não há uma relação direta** entre o tempo de produção e o tempo de setup. Ou seja, mudanças no tempo de setup não afetam significativamente o tempo de produção. Esse resultado é interessante, pois sugere que, no cenário analisado, o tempo de setup parece ser **relativamente independente** do tempo de produção.\n",
    "\n",
    "---"
   ]
  },
  {
   "cell_type": "markdown",
   "metadata": {},
   "source": [
    "## 3. Análise Estatística Detalhada\n",
    "\n",
    "Vamos começar com uma análise estatística mais profunda dos dados, incluindo:\n",
    "\n",
    "- **Desvio Padrão**: Para ver a dispersão dos tempos de produção e setup.\n",
    "- **Mínimo, Máximo e Quartis**: Para entender melhor a distribuição dos dados (ex: quem são os valores mais altos ou mais baixos e onde estão os pontos médios).\n",
    "- **Skewness (Assimetria)** e **Kurtosis (Curtose)**: Para ver como os dados se distribuem. Se a distribuição é assimétrica ou tem picos mais altos.\n",
    "\n",
    "---"
   ]
  },
  {
   "cell_type": "markdown",
   "metadata": {},
   "source": [
    "## 3.1 **df.describe()**:\n",
    "O Pandas tem um método chamado `describe()` que gera uma série de estatísticas básicas para as colunas numéricas do DataFrame, como:\n",
    "- Média\n",
    "- Desvio padrão\n",
    "- Mínimo e máximo\n",
    "- Quartis (25%, 50%, 75%)\n",
    "\n",
    "Este método oferece uma visão geral útil dos dados e ajuda a identificar valores extremos, pontos médios e a dispersão dos dados."
   ]
  },
  {
   "cell_type": "code",
   "execution_count": null,
   "metadata": {},
   "outputs": [],
   "source": [
    "# Estatísticas detalhadas (Desvio Padrão, Mínimo, Máximo, Quartis)\n",
    "print(df.describe())"
   ]
  },
  {
   "cell_type": "markdown",
   "metadata": {},
   "source": [
    "\n",
    "### 3.2 **Skewness (Assimetria)**:\n",
    "A assimetria mede a simetria da distribuição dos dados. \n",
    "- Se o valor for **positivo**, a cauda da distribuição está para a **direita** (distribuição assimétrica positiva).\n",
    "- Se o valor for **negativo**, a cauda está para a **esquerda** (distribuição assimétrica negativa).\n",
    "- Um valor de **zero** indica que a distribuição é **simétrica**."
   ]
  },
  {
   "cell_type": "code",
   "execution_count": null,
   "metadata": {},
   "outputs": [],
   "source": [
    "# Skewness (assimetria) do Tempo de Produção e Tempo de Setup\n",
    "skew_producao = df['Tempo_Producao'].skew()\n",
    "skew_setup = df['Tempo_Setup'].skew()\n",
    "\n",
    "print(f\"Skewness do Tempo de Produção: {skew_producao:.2f}\")\n",
    "print(f\"Skewness do Tempo de Setup: {skew_setup:.2f}\")\n"
   ]
  },
  {
   "cell_type": "markdown",
   "metadata": {},
   "source": [
    "### 3.3 **Kurtosis (Curtose)**:\n",
    "A curtose mede o \"peso das caudas\" da distribuição.\n",
    "- Se o valor de **kurtosis for maior que 3**, indica que as caudas da distribuição são **mais pesadas**, ou seja, os dados possuem **picos mais altos** e mais **extremos** do que uma distribuição normal.\n",
    "- Um valor de **kurtosis igual a 3** é característico de uma distribuição normal.\n",
    "\n",
    "\n"
   ]
  },
  {
   "cell_type": "code",
   "execution_count": 2,
   "metadata": {},
   "outputs": [
    {
     "name": "stdout",
     "output_type": "stream",
     "text": [
      "       Tempo_Producao   Tempo_Setup  Quantidade_Produzida\n",
      "count    10000.000000  10000.000000          10000.000000\n",
      "mean       135.185600     35.096400             55.295700\n",
      "std         60.873309     14.761677             26.328972\n",
      "min         30.000000     10.000000             10.000000\n",
      "25%         83.000000     22.000000             32.000000\n",
      "50%        136.000000     35.000000             55.000000\n",
      "75%        187.000000     48.000000             79.000000\n",
      "max        240.000000     60.000000            100.000000\n",
      "Skewness do Tempo de Produção: -0.01\n",
      "Kurtosis do Tempo de Produção: -1.19\n",
      "Skewness do Tempo de Setup: -0.01\n",
      "Kurtosis do Tempo de Setup: -1.21\n"
     ]
    }
   ],
   "source": [
    "# Kurtosis (curtose) do Tempo de Produção e Tempo de Setup\n",
    "kurt_producao = df['Tempo_Producao'].kurtosis()\n",
    "kurt_setup = df['Tempo_Setup'].kurtosis()\n",
    "\n",
    "print(f\"Kurtosis do Tempo de Produção: {kurt_producao:.2f}\")\n",
    "print(f\"Kurtosis do Tempo de Setup: {kurt_setup:.2f}\")\n"
   ]
  },
  {
   "cell_type": "markdown",
   "metadata": {},
   "source": [
    "### 3.4 **Interpretação dos Resultados**\n",
    "\n",
    "A análise estatística detalhada fornece uma visão profunda sobre a distribuição dos dados, incluindo dispersão, assimetria e caudas. A seguir, apresentamos a interpretação dos principais resultados obtidos:\n",
    "\n",
    "#### **Tempo de Produção:**\n",
    "\n",
    "- **Média**: 135.19 minutos.  \n",
    "  Em média, cada ciclo de produção leva 135.19 minutos. Esse valor nos dá uma boa noção do tempo médio necessário para produzir uma unidade ou lote de produtos. Esse tempo pode variar dependendo da complexidade do processo de produção.\n",
    "\n",
    "- **Desvio Padrão**: 60.87 minutos.  \n",
    "  O desvio padrão relativamente alto indica uma considerável variação nos tempos de produção. Isso pode ser devido a variações no tipo de produto ou na eficiência da linha de produção, o que pode justificar a análise de oportunidades para redução da variabilidade.\n",
    "\n",
    "- **Mínimo**: 30 minutos.  \n",
    "  O menor tempo registrado foi de 30 minutos, o que sugere que, em alguns casos, a produção pode ser mais rápida, possivelmente para itens mais simples ou quando as condições de produção são ideais.\n",
    "\n",
    "- **Máximo**: 240 minutos.  \n",
    "  O maior tempo de produção registrado foi de 240 minutos, indicando que em algumas situações a produção pode ser significativamente mais demorada, possivelmente devido a falhas na linha, complexidade do produto ou necessidade de ajustes durante o processo.\n",
    "\n",
    "- **Quartis (25%, 50%, 75%)**:  \n",
    "  - 25% dos dados têm um tempo de produção inferior a 83 minutos, sugerindo que há uma parte da produção que ocorre de forma mais eficiente.\n",
    "  - 50% dos dados (mediana) estão abaixo de 136 minutos, indicando que a maioria dos processos de produção se concentram em torno desse valor.\n",
    "  - 75% dos dados têm um tempo de produção inferior a 187 minutos, o que nos mostra que a maior parte dos tempos de produção fica em um intervalo mais baixo, mas ainda dentro de uma variação considerável.\n",
    "\n",
    "#### **Tempo de Setup:**\n",
    "\n",
    "- **Média**: 35.10 minutos.  \n",
    "  O tempo médio de setup de 35.10 minutos é relativamente baixo, o que é positivo, pois reduz o tempo ocioso entre a produção de lotes ou produtos.\n",
    "\n",
    "- **Desvio Padrão**: 14.76 minutos.  \n",
    "  O desvio padrão mais baixo do que o tempo de produção indica que os tempos de setup são mais consistentes. Isso é benéfico para otimizar o processo, já que configurações rápidas e previsíveis ajudam a minimizar ineficiências.\n",
    "\n",
    "- **Mínimo**: 10 minutos.  \n",
    "  O menor tempo de setup registrado foi de 10 minutos, mostrando que, em algumas circunstâncias, é possível realizar a troca e preparação para a produção em um tempo muito curto.\n",
    "\n",
    "- **Máximo**: 60 minutos.  \n",
    "  O maior tempo de setup foi de 60 minutos, que é um valor mais alto do que o esperado. Esse valor pode indicar casos de setups complexos ou de ajustes em equipamentos mais exigentes.\n",
    "\n",
    "- **Quartis (25%, 50%, 75%)**:  \n",
    "  - 25% dos dados têm um tempo de setup inferior a 22 minutos, o que mostra que há uma parte significativa dos processos com setup rápido.\n",
    "  - 50% dos dados estão abaixo de 35 minutos, indicando que a maior parte das trocas de setup é relativamente rápida.\n",
    "  - 75% dos dados estão abaixo de 48 minutos, sugerindo que a maioria dos setups está bem dentro de um intervalo razoável para não impactar negativamente o processo de produção.\n",
    "\n",
    "#### **Quantidade Produzida:**\n",
    "\n",
    "A **quantidade média produzida** foi de 55.30 unidades, variando de 10 a 100 unidades. Isso indica uma produção moderada por ciclo, com possibilidade de aumento de eficiência ao focar na redução do tempo de setup e produção.\n",
    "\n",
    "#### **Skewness (Assimetria):**\n",
    "\n",
    "- O valor de skewness para o Tempo de Produção e Tempo de Setup foi de **-0.01**. Isso indica que as distribuições de ambos os tempos são **simétricas**, com uma leve tendência para a esquerda, mas praticamente equilibradas. Isso significa que não há grande inclinação para os valores mais baixos ou mais altos.\n",
    "\n",
    "#### **Kurtosis (Curtose):**\n",
    "\n",
    "- O valor de kurtosis para o Tempo de Produção e Tempo de Setup foi de **-1.19** e **-1.21**, respectivamente. Esses valores são menores que 0, o que significa que os dados têm **caudas mais leves** do que uma distribuição normal. Ou seja, não há picos extremos, indicando uma distribuição mais equilibrada e sem valores outliers significativos.\n",
    "\n",
    "---"
   ]
  },
  {
   "cell_type": "markdown",
   "metadata": {},
   "source": [
    "## 4. Visualização dos Dados\n",
    "\n",
    "A visualização ajudará a entender melhor a distribuição dos dados e pode trazer insights importantes.\n",
    "\n",
    "Vamos usar:\n",
    "\n",
    "- **Histograma**: Para visualizar a distribuição do tempo de produção e setup.\n",
    "- **Gráfico de dispersão (scatter plot)**: Para explorar a relação entre o tempo de produção e o tempo de setup.\n",
    "- **Boxplot**: Para identificar outliers e ver a distribuição dos dados de maneira compacta.\n",
    "\n",
    "---"
   ]
  },
  {
   "cell_type": "markdown",
   "metadata": {},
   "source": [
    "### 4.1 **Histograma**:\n",
    "- `plt.figure(figsize=(12, 6))`: Define o tamanho da figura do gráfico. No caso, estamos criando uma figura de 12x6 polegadas.\n",
    "- `sns.histplot()`: Cria um histograma. O `kde=True` adiciona uma estimativa da função de densidade (curva suave) à distribuição do histograma.\n",
    "- `bins=20`: Define o número de \"barras\" no histograma. Aqui, 20 barras são usadas para dividir os dados.\n",
    "- `plt.tight_layout()`: Ajusta o layout para garantir que os gráficos não se sobreponham."
   ]
  },
  {
   "cell_type": "code",
   "execution_count": null,
   "metadata": {},
   "outputs": [],
   "source": [
    "# Histograma de Tempo de Produção\n",
    "plt.figure(figsize=(12, 6))\n",
    "sns.histplot(df['Tempo_Producao'], kde=True, bins=20)\n",
    "plt.title('Distribuição do Tempo de Produção')\n",
    "plt.xlabel('Tempo de Produção (minutos)')\n",
    "plt.ylabel('Frequência')\n",
    "plt.tight_layout()\n",
    "plt.show()\n",
    "\n",
    "# Histograma de Tempo de Setup\n",
    "plt.figure(figsize=(12, 6))\n",
    "sns.histplot(df['Tempo_Setup'], kde=True, bins=20)\n",
    "plt.title('Distribuição do Tempo de Setup')\n",
    "plt.xlabel('Tempo de Setup (minutos)')\n",
    "plt.ylabel('Frequência')\n",
    "plt.tight_layout()\n",
    "plt.show()"
   ]
  },
  {
   "cell_type": "markdown",
   "metadata": {},
   "source": [
    "### 4.2 **Gráfico de Dispersão (Scatter Plot)**:\n",
    "- A ideia é visualizar a relação entre o tempo de produção e o tempo de setup, observando possíveis padrões ou correlações."
   ]
  },
  {
   "cell_type": "code",
   "execution_count": null,
   "metadata": {},
   "outputs": [],
   "source": [
    "# Gráfico de Dispersão (Tempo de Produção vs Tempo de Setup)\n",
    "plt.figure(figsize=(12, 6))\n",
    "sns.scatterplot(x=df['Tempo_Producao'], y=df['Tempo_Setup'])\n",
    "plt.title('Gráfico de Dispersão: Tempo de Produção vs Tempo de Setup')\n",
    "plt.xlabel('Tempo de Produção (minutos)')\n",
    "plt.ylabel('Tempo de Setup (minutos)')\n",
    "plt.tight_layout()\n",
    "plt.show()"
   ]
  },
  {
   "cell_type": "markdown",
   "metadata": {},
   "source": [
    "### 4.3 **Boxplot**:\n",
    "- O boxplot ajuda a visualizar a mediana, os quartis, e identificar possíveis outliers nos dados de produção e setup.\n"
   ]
  },
  {
   "cell_type": "code",
   "execution_count": null,
   "metadata": {},
   "outputs": [],
   "source": [
    "# Boxplot de Tempo de Produção\n",
    "plt.figure(figsize=(12, 6))\n",
    "sns.boxplot(x=df['Tempo_Producao'])\n",
    "plt.title('Boxplot do Tempo de Produção')\n",
    "plt.xlabel('Tempo de Produção (minutos)')\n",
    "plt.tight_layout()\n",
    "plt.show()\n",
    "\n",
    "# Boxplot de Tempo de Setup\n",
    "plt.figure(figsize=(12, 6))\n",
    "sns.boxplot(x=df['Tempo_Setup'])\n",
    "plt.title('Boxplot do Tempo de Setup')\n",
    "plt.xlabel('Tempo de Setup (minutos)')\n",
    "plt.tight_layout()\n",
    "plt.show()"
   ]
  },
  {
   "cell_type": "markdown",
   "metadata": {},
   "source": [
    "#### 4.4 Interpretação dos Resultados\n",
    "\n",
    "##### 4.4.1 Distribuição do Tempo de Produção:\n",
    "\n",
    "**Métricas Principais:**\n",
    "- **Range:** 50-250 minutos\n",
    "- **Mediana:** ~150 minutos\n",
    "- **Distribuição:** Uniforme\n",
    "- **Frequência média:** ~500 ocorrências por intervalo\n",
    "- **Desvio padrão:** Moderado\n",
    "\n",
    "**Características da Distribuição:**\n",
    "- A distribuição do tempo de produção parece ser **uniforme**, com uma boa cobertura entre os valores.\n",
    "- A **mediana** de **150 minutos** sugere que a maioria das produções se concentra em torno deste valor, com poucos tempos extremos.\n",
    "- **Desvio padrão moderado**: A variabilidade dos tempos de produção está sob controle, com uma dispersão relativamente baixa em relação à média.\n",
    "- A **ausência de assimetria significativa** indica que a produção não tende a se concentrar em um lado da distribuição, mantendo-se balanceada.\n",
    "\n",
    "**Insights:**\n",
    "- O processo de produção é **estável** e **previsível**, o que facilita o planejamento e o controle da produção.\n",
    "- O tempo de produção segue uma distribuição **uniforme**, o que pode indicar uma boa gestão e execução do processo.\n",
    "\n",
    "\n",
    "##### 4.4.2 Distribuição do Tempo de Setup:\n",
    "\n",
    "**Métricas Principais:**\n",
    "- **Range:** 10-60 minutos\n",
    "- **Mediana:** ~35 minutos\n",
    "- **Frequência:** 400-600 ocorrências por intervalo\n",
    "- **Distribuição:** Multimodal, com picos em 20 e 50 minutos\n",
    "- **Desvio padrão:** Controlado\n",
    "\n",
    "**Características da Distribuição:**\n",
    "- A distribuição dos tempos de setup exibe uma **distribuição multimodal**, com picos regulares em torno de **20 minutos** e **50 minutos**. Isso pode indicar diferentes tipos de setups ou variações na preparação de equipamentos e máquinas.\n",
    "- A **mediana de 35 minutos** sugere que a maioria dos setups ocorre dentro de um intervalo razoável de tempo.\n",
    "- A **variabilidade controlada** indica que os tempos de setup estão sob controle, embora existam oportunidades de melhoria.\n",
    "\n",
    "**Insights:**\n",
    "- A distribuição multimodal sugere que diferentes tipos de setups podem ter diferentes tempos, o que pode ser explorado para padronizar e otimizar esses processos.\n",
    "- A **variabilidade controlada** significa que a empresa já tem controle sobre o tempo de setup, mas ainda há espaço para melhorar.\n",
    "\n",
    "\n",
    "##### 4.4.3 Correlação entre Tempo de Setup e Tempo de Produção:\n",
    "\n",
    "**Métricas Principais:**\n",
    "- **Ausência de Correlação Linear:** Não há uma relação direta entre o tempo de setup e o tempo de produção.\n",
    "- **Dispersão Homogênea:** Os pontos estão bem distribuídos no gráfico, sem aglomerações ou padrões significativos.\n",
    "- **Cobertura Uniforme:** A dispersão dos pontos cobre bem o espaço amostral, indicando que não há uma estrutura complexa que influencie diretamente ambos os tempos.\n",
    "\n",
    "**Insights:**\n",
    "- A **ausência de correlação linear** sugere que os tempos de setup e produção não estão diretamente relacionados, o que significa que mudanças em um não afetam diretamente o outro.\n",
    "- Isso proporciona flexibilidade, permitindo que cada processo seja otimizado independentemente.\n",
    "\n",
    "\n",
    "##### 4.4.4 Insights Operacionais:\n",
    "\n",
    "**Principais Descobertas:**\n",
    "- O processo de produção é **estável e previsível**, o que facilita o planejamento e o controle.\n",
    "- **Tempos de setup consistentes** indicam que há uma boa padronização, mas existe potencial para otimização nos tempos de setup.\n",
    "- **Ausência de outliers críticos** em ambos os tempos de produção e setup sugere que o processo não está sujeito a falhas ou desvios extremos.\n",
    "\n",
    "**Oportunidades de Melhoria:**\n",
    "- **Redução da variabilidade do setup** pode ser uma área de melhoria. Isso poderia ser feito através da implementação de **SMED** (Single-Minute Exchange of Die) ou outras metodologias de melhoria contínua.\n",
    "- **Otimização dos tempos de produção mais longos** poderia trazer ganhos de eficiência.\n",
    "- **Investigação dos picos de tempo de setup** em 20 e 50 minutos pode revelar fatores que contribuem para esses tempos mais longos e, consequentemente, melhorar os processos.\n",
    "\n",
    "\n",
    "##### 4.4.5 Oportunidades de Melhoria:\n",
    "\n",
    "**Áreas de Foco:**\n",
    "- **Padronizar tempos de setup** para eliminar variações desnecessárias. Isso pode ser feito pela análise de processos e identificação de melhores práticas.\n",
    "- **Reduzir a variabilidade do setup:** Melhorar a previsibilidade do processo de setup pode trazer mais eficiência e menos desperdício de tempo.\n",
    "- **Investigar a causa dos picos de setup:** Analisar mais detalhadamente os tempos de setup em torno de 20 e 50 minutos pode fornecer insights sobre como melhorar esses processos específicos.\n",
    "- **Otimização dos tempos de produção mais longos:** A análise de outliers nos tempos de produção pode indicar onde há oportunidades para redução de tempos excessivos, sem comprometer a qualidade.\n",
    "\n",
    "\n",
    "##### 4.4.6 Conclusão Geral:\n",
    "\n",
    "- O processo de produção e setup está **sob controle**, com uma boa distribuição dos tempos de produção e setup.\n",
    "- Existe uma **oportunidade significativa de melhoria** no tempo de setup, principalmente na padronização e na redução de variabilidade.\n",
    "- A **ausência de correlação linear entre setup e produção** significa que é possível otimizar ambos os processos de forma independente.\n",
    "- **Próximos passos sugeridos** incluem a implementação de **SMED**, padronização de processos e análise das causas dos picos de tempo de setup.\n",
    "\n",
    "---"
   ]
  },
  {
   "cell_type": "markdown",
   "metadata": {},
   "source": [
    "## 3. Análise de Eficiência e Produtividade\n",
    "\n",
    "Podemos calcular o **índice de eficiência** e a **taxa de produção** de cada linha de produção. A fórmula para eficiência pode ser:\n",
    "\n",
    "\\[\n",
    "\\text{Eficiência} = \\frac{\\text{Quantidade Produzida}}{\\text{Tempo de Produção} + \\text{Tempo de Setup}}\n",
    "\\]\n",
    "\n",
    "Com isso, conseguimos observar qual processo está mais eficiente em termos de produção, considerando tanto o tempo de produção quanto o tempo de setup necessários para produzir uma unidade.\n",
    "\n",
    "### Explicação:\n",
    "\n",
    "A fórmula `df['Eficiência'] = df['Quantidade_Produzida'] / (df['Tempo_Producao'] + df['Tempo_Setup'])` cria uma nova coluna chamada **Eficiência**, que calcula a eficiência de cada linha de produção como a quantidade produzida dividida pela soma do tempo de produção e setup. A média da eficiência é calculada com `df['Eficiência'].mean()`. Esse valor nos dá uma ideia geral de quão eficiente é a produção.\n"
   ]
  },
  {
   "cell_type": "code",
   "execution_count": 7,
   "metadata": {},
   "outputs": [
    {
     "name": "stdout",
     "output_type": "stream",
     "text": [
      "Eficiência média da produção: 0.39\n"
     ]
    }
   ],
   "source": [
    "df['Eficiência'] = df['Quantidade_Produzida'] / (df['Tempo_Producao'] + df['Tempo_Setup'])\n",
    "eficiencia_media = df['Eficiência'].mean()\n",
    "print(f\"Eficiência média da produção: {eficiencia_media:.2f}\")\n"
   ]
  },
  {
   "cell_type": "markdown",
   "metadata": {},
   "source": [
    "### Interpretação dos Resultados:\n",
    "\n",
    "**39% de eficiência** é um valor relativamente baixo e pode ser melhorado com algumas ações operacionais, tais como:\n",
    "\n",
    "- **Reduzir o tempo ocioso**: Minimizar períodos em que a máquina ou os funcionários não estão produzindo ativamente.\n",
    "- **Automatizar etapas**: Implementar tecnologias ou sistemas automatizados para reduzir o tempo gasto em processos manuais.\n",
    "- **Melhorar a capacitação dos funcionários**: Treinamentos e aprimoramento das habilidades dos colaboradores podem aumentar a velocidade e a qualidade da produção, tornando o processo mais eficiente.\n",
    "\n",
    "Essa eficiência de 39% sugere que há uma margem significativa para otimização nos processos, indicando que é possível alcançar melhores resultados com ações operacionais adequadas.\n"
   ]
  },
  {
   "cell_type": "markdown",
   "metadata": {},
   "source": [
    "## 5. Comparação de Eficiência entre Produtos\n",
    "\n",
    "Como o tempo de produção e setup pode variar de acordo com o produto, podemos criar um gráfico de eficiência por produto para comparar quais produtos estão tendo melhor desempenho.\n",
    "\n",
    "### **Explicação do Gráfico:**\n",
    "\n",
    "Para gerar o gráfico de eficiência por produto, utilizamos o **boxplot**, que compara a eficiência de cada produto. A fórmula seria:\n",
    "\n",
    "```python\n",
    "sns.boxplot(x='ID_Produto', y='Eficiência', data=df)\n"
   ]
  },
  {
   "cell_type": "code",
   "execution_count": 9,
   "metadata": {},
   "outputs": [
    {
     "data": {
      "image/png": "[encoded data removed]",
      "text/plain": [
       "<Figure size 1000x600 with 1 Axes>"
      ]
     },
     "metadata": {},
     "output_type": "display_data"
    }
   ],
   "source": [
    "# Criando um gráfico de eficiência por produto\n",
    "plt.figure(figsize=(10, 6))\n",
    "sns.boxplot(x='ID_Produto', y='Eficiência', data=df)\n",
    "plt.title('Eficiência por Produto')\n",
    "plt.xlabel('ID do Produto')\n",
    "plt.ylabel('Eficiência')\n",
    "plt.xticks(rotation=90)\n",
    "plt.show()\n"
   ]
  },
  {
   "cell_type": "markdown",
   "metadata": {},
   "source": [
    "## 5. Análise da Eficiência por Produto\n",
    "\n",
    "### **Distribuição da Eficiência:**\n",
    "- A eficiência dos produtos varia entre **-0.5 e 2.5**, indicando diferenças significativas no desempenho produtivo.\n",
    "- A maior concentração está entre **0.0 e 0.5**, mostrando que a maioria dos produtos opera em uma faixa de eficiência relativamente baixa.\n",
    "- Há **pontos dispersos acima de 1.0**, sugerindo que alguns produtos conseguem ser muito mais eficientes do que outros.\n",
    "\n",
    "### **Padrões Observados:**\n",
    "- A **distribuição é assimétrica positiva**, ou seja, há mais produtos com baixa eficiência do que com alta eficiência.\n",
    "- A **densidade maior na faixa inferior** indica que muitos produtos apresentam dificuldades em atingir um bom nível de produtividade.\n",
    "- Existem **outliers acima de 1.5**, ou seja, alguns produtos apresentam eficiência bem acima da média, podendo servir como referência para melhorias.\n",
    "- Alguns produtos aparecem com **eficiência negativa**, o que pode indicar falhas operacionais, tempos de setup muito elevados ou erros de medição.\n",
    "\n",
    "### **Insights e Oportunidades:**\n",
    "1. **Alto grau de variabilidade**: A diferença entre os produtos sugere que há espaço para padronizar processos e reduzir desperdícios.  \n",
    "2. **Poucos produtos são altamente eficientes**: Isso indica que há boas práticas sendo aplicadas em alguns casos, mas que ainda não foram replicadas em toda a produção.  \n",
    "3. **Investigar fatores de sucesso**: Produtos mais eficientes podem ter processos otimizados, menor tempo de setup ou melhores condições operacionais. Vale a pena analisar o que os diferencia.  \n",
    "4. **Benchmark interno**: Utilizar os produtos mais eficientes como referência para treinar equipes e ajustar processos produtivos nos produtos com menor eficiência.  \n",
    "5. **Identificar e corrigir produtos com eficiência negativa**: Avaliar se há falhas na medição, problemas de setup excessivo ou necessidade de ajustes na linha de produção.  \n",
    "\n",
    "### **Conclusão:**\n",
    "A análise de eficiência por produto ajuda a visualizar **desempenhos discrepantes** e possibilita **tomadas de decisão estratégicas** para otimizar a produção. O próximo passo pode envolver uma **investigação detalhada das causas da baixa eficiência** e testes de novas metodologias para padronizar e melhorar os processos produtivos.\n"
   ]
  },
  {
   "cell_type": "markdown",
   "metadata": {},
   "source": [
    "## 6. Tendências Temporais\n",
    "\n",
    "### **Objetivo:**\n",
    "A análise de tendências temporais tem como objetivo observar como o **tempo de produção** e o **tempo de setup** variam ao longo do tempo. Isso pode nos ajudar a identificar padrões sazonais, picos de produção ou problemas recorrentes em determinados períodos.\n",
    "\n",
    "### **Passos para a Análise:**\n",
    "\n",
    "1. **Conversão de Datas**:  \n",
    "   Para facilitar a manipulação das datas, usamos o comando:\n",
    "   ```python\n",
    "   pd.to_datetime(df['Data_Producao'])\n"
   ]
  },
  {
   "cell_type": "code",
   "execution_count": 18,
   "metadata": {},
   "outputs": [
    {
     "data": {
      "image/png": "[encoded data removed]",
      "text/plain": [
       "<Figure size 1200x600 with 1 Axes>"
      ]
     },
     "metadata": {},
     "output_type": "display_data"
    }
   ],
   "source": [
    "df['Data_Producao'] = pd.to_datetime(df['Data_Producao'])\n",
    "\n",
    "# Selecionando apenas colunas numéricas para evitar erros\n",
    "colunas_numericas = df.select_dtypes(include=['number'])\n",
    "\n",
    "# Agrupando por data e calculando a média apenas para colunas numéricas\n",
    "df_agrupado = df.groupby(df['Data_Producao'].dt.date)[colunas_numericas.columns].mean()\n",
    "\n",
    "# Plotando as tendências ao longo do tempo\n",
    "plt.figure(figsize=(12, 6))\n",
    "plt.plot(df_agrupado.index, df_agrupado['Tempo_Producao'], label='Tempo de Produção')\n",
    "plt.plot(df_agrupado.index, df_agrupado['Tempo_Setup'], label='Tempo de Setup')\n",
    "plt.title('Tendência de Tempo de Produção e Setup ao Longo do Tempo')\n",
    "plt.xlabel('Data')\n",
    "plt.ylabel('Tempo (minutos)')\n",
    "plt.legend()\n",
    "plt.xticks(rotation=45)\n",
    "plt.show()\n"
   ]
  },
  {
   "cell_type": "markdown",
   "metadata": {},
   "source": [
    "    ## 6. Tendências Temporais\n",
    "\n",
    "### **Tempo de Produção:**\n",
    "- **Média:** Aproximadamente 135 minutos\n",
    "- **Variação:** Entre 125 e 145 minutos\n",
    "- **Padrão Observado:** Relativamente estável, com algumas flutuações moderadas\n",
    "- **Tendência:** Não há um aumento ou diminuição significativa ao longo do tempo\n",
    "\n",
    "### **Tempo de Setup:**\n",
    "- **Média:** Aproximadamente 35 minutos\n",
    "- **Variação:** Pequena, oscilando entre 32 e 38 minutos\n",
    "- **Padrão Observado:** Extremamente estável, sem grandes oscilações\n",
    "- **Tendência:** Mantém-se controlado e previsível\n",
    "\n",
    "---\n",
    "\n",
    "### **Insights e Oportunidades:**\n",
    "1. **Processos produtivos estáveis:** Não há mudanças bruscas ao longo do tempo, o que sugere um bom controle e previsibilidade nos processos.\n",
    "2. **Boa previsibilidade operacional:** Isso facilita o planejamento de atividades futuras e a otimização dos recursos.\n",
    "3. **Setup altamente padronizado:** A estabilidade do tempo de setup indica que o processo de preparação está bem definido e controlado.\n",
    "4. **Relação setup/produção constante:** A estabilidade no tempo de setup sugere que mudanças no tempo de produção podem ser investigadas para melhorar a eficiência.\n",
    "5. **Oportunidade de otimização do tempo de produção:** Com o setup estável, a otimização do tempo de produção se torna uma área de foco importante.\n",
    "\n",
    "---\n",
    "\n",
    "### **Conclusão:**\n",
    "Os tempos de produção e setup mostram **estabilidade ao longo do tempo**, o que indica um bom controle operacional. A **próxima etapa** seria investigar como a **estabilidade do setup** pode ser usada como referência para melhorar o tempo de produção e aumentar a eficiência geral do processo.\n"
   ]
  }
 ],
 "metadata": {
  "kernelspec": {
   "display_name": "Python 3",
   "language": "python",
   "name": "python3"
  },
  "language_info": {
   "codemirror_mode": {
    "name": "ipython",
    "version": 3
   },
   "file_extension": ".py",
   "mimetype": "text/x-python",
   "name": "python",
   "nbconvert_exporter": "python",
   "pygments_lexer": "ipython3",
   "version": "3.13.1"
  }
 },
 "nbformat": 4,
 "nbformat_minor": 2
}
