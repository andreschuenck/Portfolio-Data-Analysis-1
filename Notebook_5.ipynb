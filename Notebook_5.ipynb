{
  "nbformat": 4,
  "nbformat_minor": 0,
  "metadata": {
    "kernelspec": {
      "display_name": "Python 3",
      "language": "python",
      "name": "python3"
    },
    "language_info": {
      "codemirror_mode": {
        "name": "ipython",
        "version": 3
      },
      "file_extension": ".py",
      "mimetype": "text/x-python",
      "name": "python",
      "nbconvert_exporter": "python",
      "pygments_lexer": "ipython3",
      "version": "3.7.3"
    },
    "colab": {
      "provenance": [],
      "collapsed_sections": []
    }
  },
  "cells": [
    {
      "cell_type": "markdown",
      "source": [
        "# Funções"
      ],
      "metadata": {
        "id": "iOsUEXCcRj67"
      }
    },
    {
      "cell_type": "markdown",
      "source": [
        "O conceito matemático de uma função é bem simples: Uma função estabelece o relacionamento ou mapeamento entre uma ou mais entradas (inputs) e um conjunto de saída (outputs)\n",
        "\n",
        "Em matemática é representada da seguinte forma:\n",
        "\n",
        "\n",
        "\n",
        "```\n",
        "z = f(x, y)\n",
        "```\n",
        "\n",
        "f é a função que opera as entradas x e y. A saída ou resultado da função é z.\n",
        "\n",
        "Contudo, funções programáveis são bem mais versáteis.\n"
      ],
      "metadata": {
        "id": "gBnK7Aigv9Qb"
      }
    },
    {
      "cell_type": "markdown",
      "source": [
        "Em programação, uma função é bloco de código autocontido que encapsula uma tarefa específica ou um grupo de tarefas específicas"
      ],
      "metadata": {
        "id": "B13Dzc2YwvKq"
      }
    },
    {
      "cell_type": "markdown",
      "source": [
        "**Python possui várias funçoes built-ins (embutidas), tais como len( ), abs( ), enumerate( ), range( ), list( ), print( ), dentre outras.**"
      ],
      "metadata": {
        "id": "MnU7sl7dw_t_"
      }
    },
    {
      "cell_type": "markdown",
      "source": [
        "Cada uma destas funções embutidas realiza uma tarefa específica. O código que realiza a tarefa é definido em algum lugar, mas você não precisa saber onde ou mesmo como o código funciona. Tudo o que você precisa saber é sobre a interface da função:\n",
        "\n",
        "* Que argumentos (se houver) são necessários\n",
        "* Que valores (se houver) ele retorna\n",
        "\n",
        "Então você chama a função e passa os argumentos apropriados. A execução do programa vai até o corpo de código designado e faz o que precisa ser feito. Quando a função é concluída, a execução retorna ao seu código de onde parou. A função pode ou não retornar dados para o código utilizar.\n",
        "\n",
        "Quando você define sua própria função Python, ela funciona exatamente da mesma forma. De algum lugar em seu código, você chamará sua função Python e a execução do programa será transferida para o corpo de código que compõe a função."
      ],
      "metadata": {
        "id": "ENlNBBnExvsi"
      }
    },
    {
      "cell_type": "markdown",
      "source": [
        "Por que definir funções?\n",
        "\n",
        "* Abstração e reutilização\n",
        "\n",
        "* Abstração --> a abstração da funcionalidade é um exemplo do princípio de desenvolvimento de software DON'T REPEAT YOURSELF PRINCIPLE (DRY Principle), estabelecido para reduzir a repetição de padrões em softwares, através da sua substitição por abstrações, tais como as funções, para evitar as redundâncias.\n",
        "\n",
        "* Modularidade - Em vez de todo o código ser escrito em um único bloco, ele é dividido em funções separadas, cada uma das quais focada em uma tarefa específica. Essas tarefas pode ser, por exemplo: ler diversos arquivos, processá-los e escrevê-los em novo arquivos. Se definirmos uma função para cada tarefa: ler, processar e escrever, o código principal ficará limpo,  intelegível e o programa principal precisará simplesmente chamar cada uma das funções por sua vez."
      ],
      "metadata": {
        "id": "-cHcy0WiyZZM"
      }
    },
    {
      "cell_type": "markdown",
      "source": [
        "Definindo a função:\n",
        "\n",
        "```\n",
        "def <function_name>([<parameters>]):\n",
        "    <statement(s)>\n",
        "```\n",
        "\n"
      ],
      "metadata": {
        "id": "mGgdQ9T74KNl"
      }
    },
    {
      "cell_type": "markdown",
      "source": [
        "Chamando a função:\n",
        "\n",
        "\n",
        "\n",
        "```\n",
        "<function_name>([<arguments>])\n",
        "```\n",
        "\n",
        "\n"
      ],
      "metadata": {
        "id": "z6YgTSDH4UYd"
      }
    },
    {
      "cell_type": "markdown",
      "source": [
        "\n",
        "```\n",
        "def read_file():\n",
        "    # Code to read file in\n",
        "    <statement>\n",
        "    <statement>\n",
        "    <statement>\n",
        "    <statement>\n",
        "\n",
        "def process_file():\n",
        "    # Code to process file\n",
        "    <statement>\n",
        "    <statement>\n",
        "    <statement>\n",
        "    <statement>\n",
        "\n",
        "def write_file():\n",
        "    # Code to write file out\n",
        "    <statement>\n",
        "    <statement>\n",
        "    <statement>\n",
        "    <statement>\n",
        "\n",
        "\n",
        "# Main program\n",
        "read_file()\n",
        "process_file()\n",
        "write_file()\n",
        "```\n",
        "\n"
      ],
      "metadata": {
        "id": "jHoy40Iq3lbr"
      }
    },
    {
      "cell_type": "code",
      "metadata": {
        "id": "cBcyxanpwq_w",
        "colab": {
          "base_uri": "https://localhost:8080/"
        },
        "outputId": "f31bc370-8b87-4790-c43b-614d4702c6ff"
      },
      "source": [
        "!pip install numpy"
      ],
      "execution_count": 1,
      "outputs": [
        {
          "output_type": "stream",
          "name": "stdout",
          "text": [
            "Looking in indexes: https://pypi.org/simple, https://us-python.pkg.dev/colab-wheels/public/simple/\n",
            "Requirement already satisfied: numpy in /usr/local/lib/python3.7/dist-packages (1.21.6)\n"
          ]
        }
      ]
    },
    {
      "cell_type": "code",
      "metadata": {
        "id": "cgHn5Km_YLrH"
      },
      "source": [
        "import numpy as np"
      ],
      "execution_count": 2,
      "outputs": []
    },
    {
      "cell_type": "markdown",
      "metadata": {
        "id": "C5T1eZIyrUIw"
      },
      "source": [
        "### Funções"
      ]
    },
    {
      "cell_type": "code",
      "source": [
        "# Exemplo (bem simples) de função em Python.\n",
        "\n",
        "# Aqui, estamos definindo uma função f(n) que imprime n, um parâmetro que é a entrada da função\n",
        "\n",
        "def f(n): \n",
        "    print(\"O valor do parâmetro é \", n) "
      ],
      "metadata": {
        "id": "VRRyQIiR7Hfi"
      },
      "execution_count": 3,
      "outputs": []
    },
    {
      "cell_type": "code",
      "source": [
        "# Agora, chamamos a função f(n)\n",
        "\n",
        "f(20)"
      ],
      "metadata": {
        "colab": {
          "base_uri": "https://localhost:8080/"
        },
        "id": "fUC-Ja4uFrpi",
        "outputId": "c00f947f-aa56-44b7-be1c-d40b87b061cb"
      },
      "execution_count": 4,
      "outputs": [
        {
          "output_type": "stream",
          "name": "stdout",
          "text": [
            "O valor do parâmetro é  20\n"
          ]
        }
      ]
    },
    {
      "cell_type": "code",
      "source": [
        "# Exemplo de função que retorna um valor.\n",
        "\n",
        "def funcao(n):\n",
        "    return n + n"
      ],
      "metadata": {
        "id": "hTTVaAD37JZS"
      },
      "execution_count": 5,
      "outputs": []
    },
    {
      "cell_type": "code",
      "source": [
        "funcao(10)  # aqui, estamos chamando a função"
      ],
      "metadata": {
        "colab": {
          "base_uri": "https://localhost:8080/"
        },
        "id": "1Uw0L9kpGO9Z",
        "outputId": "54ea89c3-b368-4e5d-8ea2-fd906f973929"
      },
      "execution_count": 6,
      "outputs": [
        {
          "output_type": "execute_result",
          "data": {
            "text/plain": [
              "20"
            ]
          },
          "metadata": {},
          "execution_count": 6
        }
      ]
    },
    {
      "cell_type": "code",
      "source": [
        "# Quando uma função retorna um valor, podemos atribuí-lo a uma variável\n",
        "\n",
        "resultado = funcao(10)\n",
        "print(\"O valor do parâmetro é {}\".format(resultado))"
      ],
      "metadata": {
        "colab": {
          "base_uri": "https://localhost:8080/"
        },
        "id": "GJunoBEbF7D6",
        "outputId": "3276e9b0-1704-456c-baea-0c3ac86819c6"
      },
      "execution_count": 7,
      "outputs": [
        {
          "output_type": "stream",
          "name": "stdout",
          "text": [
            "O valor do parâmetro é 20\n"
          ]
        }
      ]
    },
    {
      "cell_type": "code",
      "source": [
        "# Outro exemplo de função que retorna um valor\n",
        "\n",
        "def eleva_ao_quadrado(n):\n",
        "    return n ** 2"
      ],
      "metadata": {
        "id": "hSyn18ZP7LeR"
      },
      "execution_count": 8,
      "outputs": []
    },
    {
      "cell_type": "code",
      "source": [
        "eleva_ao_quadrado(10)"
      ],
      "metadata": {
        "colab": {
          "base_uri": "https://localhost:8080/"
        },
        "id": "4gSCYDYcG7eK",
        "outputId": "c7b9a00a-bd13-4e83-fcd3-0c8d95a1fb05"
      },
      "execution_count": 9,
      "outputs": [
        {
          "output_type": "execute_result",
          "data": {
            "text/plain": [
              "100"
            ]
          },
          "metadata": {},
          "execution_count": 9
        }
      ]
    },
    {
      "cell_type": "code",
      "source": [
        "print(\"O número {} elevado ao quatrado é {}\".format(5, eleva_ao_quadrado(5)))"
      ],
      "metadata": {
        "colab": {
          "base_uri": "https://localhost:8080/"
        },
        "id": "HncAA9UTG4kA",
        "outputId": "5067f530-5e88-4281-90eb-9d2e7891ff7d"
      },
      "execution_count": 10,
      "outputs": [
        {
          "output_type": "stream",
          "name": "stdout",
          "text": [
            "O número 5 elevado ao quatrado é 25\n"
          ]
        }
      ]
    },
    {
      "cell_type": "code",
      "source": [
        "# Exemplo de função que retorna mais de um valor\n",
        "\n",
        "def quociente_resto(x, y):\n",
        "    quociente = x // y\n",
        "    resto = x % y\n",
        "    return (quociente, resto)\n",
        "\n",
        "print(\"Quociente e resto: \", quociente_resto(9, 4))"
      ],
      "metadata": {
        "id": "u9C1_8hD7Pyh",
        "colab": {
          "base_uri": "https://localhost:8080/"
        },
        "outputId": "c5b78f05-8912-4115-920a-a51b83412d72"
      },
      "execution_count": 11,
      "outputs": [
        {
          "output_type": "stream",
          "name": "stdout",
          "text": [
            "Quociente e resto:  (2, 1)\n"
          ]
        }
      ]
    },
    {
      "cell_type": "code",
      "metadata": {
        "id": "D1apNAhThofX"
      },
      "source": [
        "# função que define a média dos valores\n",
        "\n",
        "def media(valores):    \n",
        "  return sum(valores)/len(valores)\n"
      ],
      "execution_count": 12,
      "outputs": []
    },
    {
      "cell_type": "code",
      "source": [
        "# Aqui, chamamos a função media(valores) tendo uma lista como entrada\n",
        "\n",
        "media([4,5,6,7,9])"
      ],
      "metadata": {
        "colab": {
          "base_uri": "https://localhost:8080/"
        },
        "id": "4B1UGL_pml-A",
        "outputId": "3a296948-d7a5-4c36-c87c-ee30241446ac"
      },
      "execution_count": 13,
      "outputs": [
        {
          "output_type": "execute_result",
          "data": {
            "text/plain": [
              "6.2"
            ]
          },
          "metadata": {},
          "execution_count": 13
        }
      ]
    },
    {
      "cell_type": "code",
      "metadata": {
        "id": "VL3HYUtvkCF0"
      },
      "source": [
        "# uma função que define a mediana dos valores\n",
        "\n",
        "def mediana(valores):\n",
        "  ordenado = sorted(valores)\n",
        "\n",
        "  if len(valores)%2 == 1:\n",
        "    return ordenado[len(valores)//2]\n",
        "  else:\n",
        "    v1 = len(valores)//2\n",
        "    v2 = len(valores)//2 -1\n",
        "    return (ordenado[v1]+ordenado[v2])/2"
      ],
      "execution_count": 14,
      "outputs": []
    },
    {
      "cell_type": "code",
      "source": [
        "# Aqui, chamamos a função mediana(valores) tendo uma lista como entrada\n",
        "\n",
        "mediana([1,4,17,3,15])"
      ],
      "metadata": {
        "colab": {
          "base_uri": "https://localhost:8080/"
        },
        "id": "mveld5GDnGti",
        "outputId": "198e3fb5-7289-45af-f3e1-7f78790c6178"
      },
      "execution_count": 15,
      "outputs": [
        {
          "output_type": "execute_result",
          "data": {
            "text/plain": [
              "4"
            ]
          },
          "metadata": {},
          "execution_count": 15
        }
      ]
    },
    {
      "cell_type": "code",
      "metadata": {
        "id": "2IC8xNUrrUJY",
        "colab": {
          "base_uri": "https://localhost:8080/"
        },
        "outputId": "3ed7a175-caf5-4ea3-b1c6-dc97f42774d2"
      },
      "source": [
        "# Vamos definir uma função que calcula a velocidade média para percorrer uma determinada distância:\n",
        "\n",
        "def velocidade_média(delta_espaco, delta_tempo):\n",
        "\n",
        "  v_média = delta_espaco/delta_tempo\n",
        "  return v_média\n",
        "\n",
        "print(f\"A velocidade média é\",velocidade_média(100,2),\"km/h\")"
      ],
      "execution_count": 16,
      "outputs": [
        {
          "output_type": "stream",
          "name": "stdout",
          "text": [
            "A velocidade média é 50.0 km/h\n"
          ]
        }
      ]
    },
    {
      "cell_type": "code",
      "metadata": {
        "id": "N1eKEGmch28k",
        "colab": {
          "base_uri": "https://localhost:8080/"
        },
        "outputId": "0247dabf-1735-4b1f-d6cb-66bc25ed68f6"
      },
      "source": [
        "# Um exemplo de uso da função velocidade_média(delta_espaco, delta_tempo)\n",
        "\n",
        "d = int(input(\"Informe a distância percorrida (em km): \"))\n",
        "t = float(input(\"Informe o valor do tempo gasto para percorrer a distância (em horas): \"))\n",
        "\n",
        "print(f\"A velocidade média é {velocidade_média(d, t)} km/h\")"
      ],
      "execution_count": 18,
      "outputs": [
        {
          "output_type": "stream",
          "name": "stdout",
          "text": [
            "Informe a distância percorrida (em km): 20\n",
            "Informe o valor do tempo gasto para percorrer a distância (em horas): 0.5\n",
            "A velocidade média é 40.0 km/h\n"
          ]
        }
      ]
    },
    {
      "cell_type": "code",
      "metadata": {
        "id": "WBzPVCjgwsPJ"
      },
      "source": [
        "# Mais um exemplo de definição de uma função:\n",
        "\n",
        "def imprimir(nome, sobrenome=None, qtd=1):\n",
        "  for i in range(qtd):\n",
        "    if sobrenome is None:\n",
        "      print(nome)\n",
        "    else:\n",
        "      print(nome, sobrenome)"
      ],
      "execution_count": 19,
      "outputs": []
    },
    {
      "cell_type": "code",
      "metadata": {
        "id": "789T3ikDw0Xe",
        "colab": {
          "base_uri": "https://localhost:8080/"
        },
        "outputId": "9b85731c-abbe-42bc-f827-68b3e309ec57"
      },
      "source": [
        "# Chamando a função imprimir()\n",
        "\n",
        "imprimir(nome= \"Arthur\", sobrenome = \"Barreto\", qtd=1)"
      ],
      "execution_count": 20,
      "outputs": [
        {
          "output_type": "stream",
          "name": "stdout",
          "text": [
            "Arthur Barreto\n"
          ]
        }
      ]
    },
    {
      "cell_type": "code",
      "source": [
        "imprimir(\"Maria\")"
      ],
      "metadata": {
        "colab": {
          "base_uri": "https://localhost:8080/"
        },
        "id": "JZMNCxHAof4h",
        "outputId": "e3198774-4276-433e-ff3c-853ef728c2f5"
      },
      "execution_count": 21,
      "outputs": [
        {
          "output_type": "stream",
          "name": "stdout",
          "text": [
            "Maria\n"
          ]
        }
      ]
    },
    {
      "cell_type": "code",
      "source": [
        "imprimir(\"Bianca\", \"Araujo\", 2)"
      ],
      "metadata": {
        "colab": {
          "base_uri": "https://localhost:8080/"
        },
        "id": "kX8zI3V8ojOo",
        "outputId": "479e828a-7ccb-43bc-ef9e-df617842d707"
      },
      "execution_count": 22,
      "outputs": [
        {
          "output_type": "stream",
          "name": "stdout",
          "text": [
            "Bianca Araujo\n",
            "Bianca Araujo\n"
          ]
        }
      ]
    },
    {
      "cell_type": "markdown",
      "metadata": {
        "id": "PBaIv60Ecd1E"
      },
      "source": [
        "*  Criando função que imprime os dados de alunos"
      ]
    },
    {
      "cell_type": "code",
      "metadata": {
        "id": "BuwrZS_GyG9E"
      },
      "source": [
        "alunos = {\"Igor\": \"Quaresma\", \"Gizele\": \"Almeida\", \"Rogério\": \"Pacheco\"}"
      ],
      "execution_count": 23,
      "outputs": []
    },
    {
      "cell_type": "code",
      "metadata": {
        "id": "Cz1ybw52ch_J"
      },
      "source": [
        "# Opção 1 -> imprime o nome/sobrenome e a qtde de letras do nome\n",
        "# Opção 2 -> imprime o nome/sobrenome e a qtde de letras do sobrenome\n",
        "\n",
        "def imprimir(alunos, opcao=1):\n",
        "  for nome in alunos:\n",
        "    if opcao == 1:\n",
        "      print(f\"{nome} {alunos[nome]}, nome com {len(nome)} letras\")\n",
        "    else:\n",
        "      print(f\"{nome} {alunos[nome]}, sobrenome com {len(alunos[nome])} letras\")"
      ],
      "execution_count": 24,
      "outputs": []
    },
    {
      "cell_type": "code",
      "source": [
        "alunos[\"Igor\"]"
      ],
      "metadata": {
        "colab": {
          "base_uri": "https://localhost:8080/",
          "height": 36
        },
        "id": "nD9lyKVNMGUm",
        "outputId": "0f92d238-eb1f-45de-c33c-4fb98c9aa29f"
      },
      "execution_count": 25,
      "outputs": [
        {
          "output_type": "execute_result",
          "data": {
            "text/plain": [
              "'Quaresma'"
            ],
            "application/vnd.google.colaboratory.intrinsic+json": {
              "type": "string"
            }
          },
          "metadata": {},
          "execution_count": 25
        }
      ]
    },
    {
      "cell_type": "code",
      "source": [
        "imprimir(alunos, 1)"
      ],
      "metadata": {
        "colab": {
          "base_uri": "https://localhost:8080/"
        },
        "id": "dAPkDJBRo-fB",
        "outputId": "2fa8d61c-ef55-4bed-80ab-3e40946016df"
      },
      "execution_count": 26,
      "outputs": [
        {
          "output_type": "stream",
          "name": "stdout",
          "text": [
            "Igor Quaresma, nome com 4 letras\n",
            "Gizele Almeida, nome com 6 letras\n",
            "Rogério Pacheco, nome com 7 letras\n"
          ]
        }
      ]
    },
    {
      "cell_type": "code",
      "metadata": {
        "id": "FGklmSy4ygNC",
        "colab": {
          "base_uri": "https://localhost:8080/"
        },
        "outputId": "206486a3-fb87-4e5e-e76f-4b9b8f198396"
      },
      "source": [
        "imprimir(alunos, 2)"
      ],
      "execution_count": 27,
      "outputs": [
        {
          "output_type": "stream",
          "name": "stdout",
          "text": [
            "Igor Quaresma, sobrenome com 8 letras\n",
            "Gizele Almeida, sobrenome com 7 letras\n",
            "Rogério Pacheco, sobrenome com 7 letras\n"
          ]
        }
      ]
    },
    {
      "cell_type": "code",
      "source": [
        "imprimir(alunos)"
      ],
      "metadata": {
        "colab": {
          "base_uri": "https://localhost:8080/"
        },
        "id": "Dej5eMLzpEq5",
        "outputId": "effe792a-ae53-4c04-ef32-46963b9ff67f"
      },
      "execution_count": 28,
      "outputs": [
        {
          "output_type": "stream",
          "name": "stdout",
          "text": [
            "Igor Quaresma, nome com 4 letras\n",
            "Gizele Almeida, nome com 6 letras\n",
            "Rogério Pacheco, nome com 7 letras\n"
          ]
        }
      ]
    },
    {
      "cell_type": "markdown",
      "metadata": {
        "id": "rxBU1q7ugdIX"
      },
      "source": [
        "* Retorno com múltiplos valores"
      ]
    },
    {
      "cell_type": "code",
      "metadata": {
        "id": "O371aJ3fsDeG",
        "colab": {
          "base_uri": "https://localhost:8080/"
        },
        "outputId": "0aa86f3a-f92f-498c-e7ff-1d97b6b2c9e7"
      },
      "source": [
        "def calculadora(x, y):\n",
        "  soma = x+y\n",
        "  if y != 0:\n",
        "    divisao = x/y\n",
        "  else:\n",
        "    divisao = \"erro\"\n",
        "  subtracao = x-y\n",
        "  return soma, divisao, subtracao\n",
        "\n",
        "calculadora(2,4)"
      ],
      "execution_count": 29,
      "outputs": [
        {
          "output_type": "execute_result",
          "data": {
            "text/plain": [
              "(6, 0.5, -2)"
            ]
          },
          "metadata": {},
          "execution_count": 29
        }
      ]
    },
    {
      "cell_type": "code",
      "metadata": {
        "id": "UOmEoUig0UIa",
        "colab": {
          "base_uri": "https://localhost:8080/"
        },
        "outputId": "16bcef52-fad7-4b0b-bd0b-19f15ea0e1c5"
      },
      "source": [
        "def calculadora(x, y):\n",
        "  soma = x+y\n",
        "  if y != 0:\n",
        "    divisao = x/y\n",
        "  else:\n",
        "    divisao = \"erro\"\n",
        "  subtracao = x-y\n",
        "  return {\"soma\": soma,\n",
        "          \"divisao\": divisao,\n",
        "          \"subtracao\": subtracao\n",
        "          }\n",
        "\n",
        "calculadora(2,4)"
      ],
      "execution_count": 30,
      "outputs": [
        {
          "output_type": "execute_result",
          "data": {
            "text/plain": [
              "{'soma': 6, 'divisao': 0.5, 'subtracao': -2}"
            ]
          },
          "metadata": {},
          "execution_count": 30
        }
      ]
    },
    {
      "cell_type": "code",
      "metadata": {
        "id": "lGqxZnOrzpRy",
        "colab": {
          "base_uri": "https://localhost:8080/"
        },
        "outputId": "8cbb08bc-736f-49bf-a2eb-ef8bde6cfa0f"
      },
      "source": [
        "retorno = calculadora(2, 4)\n",
        "retorno"
      ],
      "execution_count": 31,
      "outputs": [
        {
          "output_type": "execute_result",
          "data": {
            "text/plain": [
              "{'soma': 6, 'divisao': 0.5, 'subtracao': -2}"
            ]
          },
          "metadata": {},
          "execution_count": 31
        }
      ]
    },
    {
      "cell_type": "code",
      "metadata": {
        "id": "QW9BAm3n0MfF",
        "colab": {
          "base_uri": "https://localhost:8080/"
        },
        "outputId": "442d02ef-4fa6-4840-dbd8-2884d79c6dbc"
      },
      "source": [
        "retorno[\"divisao\"]  # aqui,  chamamos a chave \"divisao\" do dict retorno"
      ],
      "execution_count": 32,
      "outputs": [
        {
          "output_type": "execute_result",
          "data": {
            "text/plain": [
              "0.5"
            ]
          },
          "metadata": {},
          "execution_count": 32
        }
      ]
    },
    {
      "cell_type": "markdown",
      "source": [
        "##Map, Lambda, Filter, Reduce, Apply"
      ],
      "metadata": {
        "id": "bI_YiXbVLyOG"
      }
    },
    {
      "cell_type": "markdown",
      "source": [
        "###LAMBDA"
      ],
      "metadata": {
        "id": "_kz7a7IJQo_3"
      }
    },
    {
      "cell_type": "markdown",
      "source": [
        "####Lambda - Lambda é uma palavra-chave em Python usada para definir funções, mais especificamente Funções Anônimas, e tais funções são conhecidas como Funções Lambda ou Expressões Lambda."
      ],
      "metadata": {
        "id": "AwQecqZeMIk1"
      }
    },
    {
      "cell_type": "markdown",
      "source": [
        "\n",
        "\n",
        "```\n",
        "# Sintaxe\n",
        "\n",
        "lambda argumentos: expressão\n",
        "```\n",
        "\n"
      ],
      "metadata": {
        "id": "w_DTEzQrMWSX"
      }
    },
    {
      "cell_type": "code",
      "source": [
        "# Podemos escrever uma função que eleva um número ao quadrado da seguinte forma:\n",
        "\n",
        "def quadrado(n):\n",
        "  return n**2"
      ],
      "metadata": {
        "id": "tG2CnfZkMHEW"
      },
      "execution_count": null,
      "outputs": []
    },
    {
      "cell_type": "code",
      "execution_count": null,
      "metadata": {
        "colab": {
          "base_uri": "https://localhost:8080/"
        },
        "id": "wFgDIjqdLtoT",
        "outputId": "8ba0937d-18b7-4ce6-99cc-0036edca1d0d"
      },
      "outputs": [
        {
          "output_type": "execute_result",
          "data": {
            "text/plain": [
              "25"
            ]
          },
          "metadata": {},
          "execution_count": 4
        }
      ],
      "source": [
        "quadrado(5)"
      ]
    },
    {
      "cell_type": "markdown",
      "source": [
        "Usando LAMBDA, podemos ser mais \"pythonicos\" escrevendo assim:"
      ],
      "metadata": {
        "id": "YVcCF_zfLxQG"
      }
    },
    {
      "cell_type": "code",
      "source": [
        "squared = lambda n: n**2"
      ],
      "metadata": {
        "id": "aw7D1lGhNJwm"
      },
      "execution_count": null,
      "outputs": []
    },
    {
      "cell_type": "code",
      "source": [
        "# Chamando a função squared:\n",
        "\n",
        "squared(5)"
      ],
      "metadata": {
        "colab": {
          "base_uri": "https://localhost:8080/"
        },
        "id": "foqjkLIsNWyk",
        "outputId": "b4a68373-d80a-4712-8d4f-e3d5e38c8b8b"
      },
      "execution_count": null,
      "outputs": [
        {
          "output_type": "execute_result",
          "data": {
            "text/plain": [
              "25"
            ]
          },
          "metadata": {},
          "execution_count": 8
        }
      ]
    },
    {
      "cell_type": "markdown",
      "source": [
        "Podemos também ampliar o uso das funções lambda, acrescentando condicionais"
      ],
      "metadata": {
        "id": "0RUnG0IRPZjn"
      }
    },
    {
      "cell_type": "code",
      "source": [
        "maximo = lambda x, y: x if x > y else y"
      ],
      "metadata": {
        "id": "vnHqAxA6PeZm"
      },
      "execution_count": null,
      "outputs": []
    },
    {
      "cell_type": "code",
      "source": [
        "maximo(10, 10.1)"
      ],
      "metadata": {
        "colab": {
          "base_uri": "https://localhost:8080/"
        },
        "id": "4M6E_TUTPsAe",
        "outputId": "d464168a-e87f-47dc-9665-a5dd6e0669a1"
      },
      "execution_count": null,
      "outputs": [
        {
          "output_type": "execute_result",
          "data": {
            "text/plain": [
              "10.1"
            ]
          },
          "metadata": {},
          "execution_count": 10
        }
      ]
    },
    {
      "cell_type": "markdown",
      "source": [
        "A limitação das funções Lambda é que elas podem ter qualquer número de argumentos, mas apenas uma expressão.\n",
        "\n",
        "As funções Lambda são utilizadas principalmente com as funções MAP"
      ],
      "metadata": {
        "id": "_SwCJPdaQZ-2"
      }
    },
    {
      "cell_type": "markdown",
      "source": [
        "###MAP"
      ],
      "metadata": {
        "id": "JiNeyeWRQjT-"
      }
    },
    {
      "cell_type": "markdown",
      "source": [
        "\n",
        "\n",
        "```\n",
        "# Sintaxe\n",
        "\n",
        "map(function, iterable)\n",
        "```\n",
        "\n"
      ],
      "metadata": {
        "id": "8uP0gDBzUEin"
      }
    },
    {
      "cell_type": "markdown",
      "source": [
        "Se tentarmos encontrar o quadrado dos primeiros cinco números ímpares, uma alternativa seria escrever um código assim:"
      ],
      "metadata": {
        "id": "c4QPHfnTTFc2"
      }
    },
    {
      "cell_type": "code",
      "source": [
        "quadrados = []\n",
        "for i in range(1,10,2):\n",
        "  quadrados.append(i ** 2)"
      ],
      "metadata": {
        "id": "ZuYQsQvmTaXH"
      },
      "execution_count": null,
      "outputs": []
    },
    {
      "cell_type": "code",
      "source": [
        "quadrados"
      ],
      "metadata": {
        "colab": {
          "base_uri": "https://localhost:8080/"
        },
        "id": "oFm1AzwLT0cm",
        "outputId": "373ebaf7-d7ab-4ee3-f215-b67d191849dc"
      },
      "execution_count": null,
      "outputs": [
        {
          "output_type": "execute_result",
          "data": {
            "text/plain": [
              "[1, 9, 25, 49, 81]"
            ]
          },
          "metadata": {},
          "execution_count": 12
        }
      ]
    },
    {
      "cell_type": "code",
      "source": [
        "# definimos uma função:\n",
        "\n",
        "def quadrado(i):\n",
        "  return i**2"
      ],
      "metadata": {
        "id": "R6ShgYs0UOJx"
      },
      "execution_count": null,
      "outputs": []
    },
    {
      "cell_type": "code",
      "source": [
        "# aplicamos map()\n",
        "\n",
        "quadrados = map(quadrado, range(1,10,2))"
      ],
      "metadata": {
        "id": "QXMOX2sgUYEO"
      },
      "execution_count": null,
      "outputs": []
    },
    {
      "cell_type": "code",
      "source": [
        "list(quadrados)"
      ],
      "metadata": {
        "colab": {
          "base_uri": "https://localhost:8080/"
        },
        "id": "U8r5jbIbUvF4",
        "outputId": "ade7859f-9b49-4416-dbdf-ec33c3e3f644"
      },
      "execution_count": null,
      "outputs": [
        {
          "output_type": "execute_result",
          "data": {
            "text/plain": [
              "[1, 9, 25, 49, 81]"
            ]
          },
          "metadata": {},
          "execution_count": 20
        }
      ]
    },
    {
      "cell_type": "markdown",
      "source": [
        "MAS...\n",
        "o código acima é mais longo do que o anterior. Assim, vamos torná-lo \"pythonico\" usando uma função lambda. Veja o seguinte código:"
      ],
      "metadata": {
        "id": "NQSPgz7pU4x4"
      }
    },
    {
      "cell_type": "code",
      "source": [
        "quadrados = list(map(lambda n: n ** 2, range(1, 10, 2)))"
      ],
      "metadata": {
        "id": "ld1QpXqEVG6n"
      },
      "execution_count": null,
      "outputs": []
    },
    {
      "cell_type": "code",
      "source": [
        "quadrados"
      ],
      "metadata": {
        "colab": {
          "base_uri": "https://localhost:8080/"
        },
        "id": "YNA9hhtZVSpX",
        "outputId": "c7478cf3-3a7e-4981-8856-b7b33eb7ab77"
      },
      "execution_count": null,
      "outputs": [
        {
          "output_type": "execute_result",
          "data": {
            "text/plain": [
              "[1, 9, 25, 49, 81]"
            ]
          },
          "metadata": {},
          "execution_count": 22
        }
      ]
    },
    {
      "cell_type": "code",
      "source": [
        "lista_1 = [2, 4, 6]\n",
        "lista_2 = [3, 5, 7]\n",
        "resultado = list(map(lambda x, y: x * y, lista_1, lista_2))"
      ],
      "metadata": {
        "id": "nk3Bza5eVkV4"
      },
      "execution_count": null,
      "outputs": []
    },
    {
      "cell_type": "code",
      "source": [
        "resultado"
      ],
      "metadata": {
        "colab": {
          "base_uri": "https://localhost:8080/"
        },
        "id": "YYx3-qznVuQX",
        "outputId": "dccb99b3-2b22-433c-c5de-7ebbb7dbd417"
      },
      "execution_count": null,
      "outputs": [
        {
          "output_type": "execute_result",
          "data": {
            "text/plain": [
              "[6, 20, 42]"
            ]
          },
          "metadata": {},
          "execution_count": 39
        }
      ]
    },
    {
      "cell_type": "markdown",
      "source": [
        "obs. A função zip() devolve um objecto zip, que é um iterador de tuplas onde o primeiro item em cada iterador passado são emparelhados, e depois o segundo item em cada iterador passado são emparelhado, etc.\n",
        "\n",
        "Se os iteradores passados tiverem comprimentos diferentes, o iterador com menos itens decide o comprimento do novo iterador."
      ],
      "metadata": {
        "id": "wdtC9xCWoJES"
      }
    },
    {
      "cell_type": "code",
      "source": [
        "lista_1 = [2, 4, 6]\n",
        "lista_2 = [3, 5, 7]\n",
        "lista_3=[]\n",
        "for x, y in zip(lista_1,lista_2):\n",
        "  lista_3.append(x*y)"
      ],
      "metadata": {
        "id": "FleQ8bNnV6-H"
      },
      "execution_count": null,
      "outputs": []
    },
    {
      "cell_type": "code",
      "source": [
        "lista_3"
      ],
      "metadata": {
        "colab": {
          "base_uri": "https://localhost:8080/"
        },
        "id": "8wt9yFbRX3J_",
        "outputId": "60eda1dc-5e2a-4a20-d474-c8428cfb7daf"
      },
      "execution_count": null,
      "outputs": [
        {
          "output_type": "execute_result",
          "data": {
            "text/plain": [
              "[6, 20, 42]"
            ]
          },
          "metadata": {},
          "execution_count": 38
        }
      ]
    },
    {
      "cell_type": "markdown",
      "source": [
        "###FILTER"
      ],
      "metadata": {
        "id": "FWc54Vtvobgl"
      }
    },
    {
      "cell_type": "markdown",
      "source": [
        "Vamos supor que você queira encontrar os números ímpares em uma dada lista. "
      ],
      "metadata": {
        "id": "ZT_qQRuPo0vU"
      }
    },
    {
      "cell_type": "markdown",
      "source": [
        "Podemos escrever o código de um jeito \"tradicional\":"
      ],
      "metadata": {
        "id": "w60GE1PLqCbR"
      }
    },
    {
      "cell_type": "code",
      "source": [
        "impares=[]\n",
        "for num in lista_nums:\n",
        "  if num%2!=0:\n",
        "    impares.append(num)"
      ],
      "metadata": {
        "id": "HXcr4VerptO9"
      },
      "execution_count": null,
      "outputs": []
    },
    {
      "cell_type": "code",
      "source": [
        "impares"
      ],
      "metadata": {
        "colab": {
          "base_uri": "https://localhost:8080/"
        },
        "id": "7vsD5SLppTAd",
        "outputId": "025849f8-89e4-4286-e18a-3c07b34fca1d"
      },
      "execution_count": null,
      "outputs": [
        {
          "output_type": "execute_result",
          "data": {
            "text/plain": [
              "[1, 21, 35, 49]"
            ]
          },
          "metadata": {},
          "execution_count": 10
        }
      ]
    },
    {
      "cell_type": "markdown",
      "source": [
        "Mas uma forma rápida de abordar este problema é utilizar um FOR loop em uma List Comprehension"
      ],
      "metadata": {
        "id": "49HF75_OrFcN"
      }
    },
    {
      "cell_type": "code",
      "source": [
        "lista_nums = [1, 7, 14, 21, 28, 35, 42]\n",
        "\n",
        "impares = [num for num in lista_nums if num % 2 != 0]"
      ],
      "metadata": {
        "id": "xbL45PKkpFNE"
      },
      "execution_count": null,
      "outputs": []
    },
    {
      "cell_type": "code",
      "source": [
        "impares"
      ],
      "metadata": {
        "colab": {
          "base_uri": "https://localhost:8080/"
        },
        "id": "PamrcQZzp_IB",
        "outputId": "41b8f011-8a9e-4b08-b9b1-c74a483db6c7"
      },
      "execution_count": null,
      "outputs": [
        {
          "output_type": "execute_result",
          "data": {
            "text/plain": [
              "[1, 7, 21, 35]"
            ]
          },
          "metadata": {},
          "execution_count": 14
        }
      ]
    },
    {
      "cell_type": "markdown",
      "source": [
        "O que aconteceu na List Comprehension? O loop iterou ao long de lista_nums e armazenou cada número ímpar. A declaração condicional aqui filtra os números pares e devolve apenas os números ímpares. "
      ],
      "metadata": {
        "id": "11O_IzIiqmcm"
      }
    },
    {
      "cell_type": "markdown",
      "source": [
        "Este tipo de funcionalidade é conhecido como filtro\n",
        "\n",
        "O filtro Python faz o mesmo que uma List Comprehension de uma forma mais rápida. Tem a mesma sintaxe que o mapa.\n",
        "\n",
        "\n",
        "\n",
        "```\n",
        "# Sintaxe\n",
        "\n",
        "filter(function, iterable)\n",
        "\n",
        "```"
      ],
      "metadata": {
        "id": "LTtm3CjKrcyg"
      }
    },
    {
      "cell_type": "code",
      "source": [
        "def impar(x):\n",
        "    if x % 2 != 0:\n",
        "        return x"
      ],
      "metadata": {
        "id": "5x0ZC9y7p_6p"
      },
      "execution_count": null,
      "outputs": []
    },
    {
      "cell_type": "code",
      "source": [
        "lista_nums = [1, 7, 14, 21, 28, 35, 42]"
      ],
      "metadata": {
        "id": "cs-nohImr7Hg"
      },
      "execution_count": null,
      "outputs": []
    },
    {
      "cell_type": "code",
      "source": [
        "impares = list(filter(impar, lista_nums))\n",
        "impares"
      ],
      "metadata": {
        "colab": {
          "base_uri": "https://localhost:8080/"
        },
        "id": "WZq0PyVsr87F",
        "outputId": "005a9913-97db-401d-8b93-7f26319f12e8"
      },
      "execution_count": null,
      "outputs": [
        {
          "output_type": "execute_result",
          "data": {
            "text/plain": [
              "[1, 7, 21, 35]"
            ]
          },
          "metadata": {},
          "execution_count": 21
        }
      ]
    },
    {
      "cell_type": "markdown",
      "source": [
        "Da mesma forma, podemos escrever o código acima usando a função anônima LAMBDA"
      ],
      "metadata": {
        "id": "Dz49ChW9shRO"
      }
    },
    {
      "cell_type": "code",
      "source": [
        "lista_nums = [1, 7, 14, 21, 28, 35, 42]"
      ],
      "metadata": {
        "id": "Y0pv5z3qspF7"
      },
      "execution_count": null,
      "outputs": []
    },
    {
      "cell_type": "code",
      "source": [
        "impares = list(filter(lambda x: x % 2 != 0, lista_nums))\n",
        "impares"
      ],
      "metadata": {
        "colab": {
          "base_uri": "https://localhost:8080/"
        },
        "id": "70edZjmps0ry",
        "outputId": "b052beea-3fcb-474b-e27d-e11df108a9de"
      },
      "execution_count": null,
      "outputs": [
        {
          "output_type": "execute_result",
          "data": {
            "text/plain": [
              "[1, 7, 21, 35]"
            ]
          },
          "metadata": {},
          "execution_count": 29
        }
      ]
    },
    {
      "cell_type": "markdown",
      "source": [
        "###REDUCE"
      ],
      "metadata": {
        "id": "KaXF7EU7ulK-"
      }
    },
    {
      "cell_type": "markdown",
      "source": [
        "reduce() é útil quando é necessário aplicar uma função a um iterável e reduzi-lo a um único valor cumulativo"
      ],
      "metadata": {
        "id": "FjCL0o0fzT-3"
      }
    },
    {
      "cell_type": "markdown",
      "source": [
        "Digamos que você queira calcular a soma dos valores de uma lista. Abaixo, temos um possível código."
      ],
      "metadata": {
        "id": "F-SpTXaUwBU_"
      }
    },
    {
      "cell_type": "code",
      "source": [
        "lista_nums = [1, 2, 3, 4, 5]\n",
        "soma = 0\n",
        "for num in lista_nums:\n",
        "    soma += num\n",
        "soma"
      ],
      "metadata": {
        "colab": {
          "base_uri": "https://localhost:8080/"
        },
        "id": "Qsj7hHC-wA4W",
        "outputId": "0ce2349a-0d33-463d-b9e9-b9e6f19e8e70"
      },
      "execution_count": null,
      "outputs": [
        {
          "output_type": "execute_result",
          "data": {
            "text/plain": [
              "15"
            ]
          },
          "metadata": {},
          "execution_count": 30
        }
      ]
    },
    {
      "cell_type": "markdown",
      "source": [
        " Para o tornar este código \"pythonico\", temos a função REDUCE\n",
        "\n",
        "```\n",
        "# Sintaxe\n",
        "\n",
        "reduce(function, iterable, [, initializer])\n",
        "```\n",
        "\n"
      ],
      "metadata": {
        "id": "BcbVZOCZwup2"
      }
    },
    {
      "cell_type": "code",
      "source": [
        "from functools import reduce "
      ],
      "metadata": {
        "id": "K3MfPWqtxblX"
      },
      "execution_count": null,
      "outputs": []
    },
    {
      "cell_type": "code",
      "source": [
        "lista_nums = [1, 2, 3, 4, 5]"
      ],
      "metadata": {
        "id": "bwyBF2gOxe-n"
      },
      "execution_count": null,
      "outputs": []
    },
    {
      "cell_type": "code",
      "source": [
        "soma = reduce(lambda x, y: x + y, lista_nums)\n",
        "soma"
      ],
      "metadata": {
        "colab": {
          "base_uri": "https://localhost:8080/"
        },
        "id": "p1bbIv48xlbP",
        "outputId": "46c4bd72-cbab-4c79-9e78-d9d4fcd3c45f"
      },
      "execution_count": null,
      "outputs": [
        {
          "output_type": "execute_result",
          "data": {
            "text/plain": [
              "15"
            ]
          },
          "metadata": {},
          "execution_count": 9
        }
      ]
    },
    {
      "cell_type": "code",
      "source": [
        "soma_com_inicializador = reduce(lambda x, y: x + y, lista_nums, 100)\n",
        "soma_com_inicializador"
      ],
      "metadata": {
        "colab": {
          "base_uri": "https://localhost:8080/"
        },
        "id": "Nsjkn_0-1U2o",
        "outputId": "b81f1a37-8f5a-4b0d-c932-294f7d5d305d"
      },
      "execution_count": null,
      "outputs": [
        {
          "output_type": "execute_result",
          "data": {
            "text/plain": [
              "115"
            ]
          },
          "metadata": {},
          "execution_count": 10
        }
      ]
    },
    {
      "cell_type": "code",
      "source": [
        "numbers = [1, 2, 3, 4, 5]\n",
        "\n",
        "sum(numbers)"
      ],
      "metadata": {
        "colab": {
          "base_uri": "https://localhost:8080/"
        },
        "id": "snHy6lpk1neH",
        "outputId": "be87fa30-23b5-495e-8249-6c4b4c59e6e2"
      },
      "execution_count": null,
      "outputs": [
        {
          "output_type": "execute_result",
          "data": {
            "text/plain": [
              "15"
            ]
          },
          "metadata": {},
          "execution_count": 12
        }
      ]
    },
    {
      "cell_type": "code",
      "source": [
        "from operator import add\n",
        "reduce(add, numbers)"
      ],
      "metadata": {
        "colab": {
          "base_uri": "https://localhost:8080/"
        },
        "id": "8aAGjXZC15ZP",
        "outputId": "a8cb3142-6330-4fd4-bc37-d1f35e2b624d"
      },
      "execution_count": null,
      "outputs": [
        {
          "output_type": "execute_result",
          "data": {
            "text/plain": [
              "15"
            ]
          },
          "metadata": {},
          "execution_count": 14
        }
      ]
    },
    {
      "cell_type": "markdown",
      "source": [
        "![image.png](data:image/png;base64,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)"
      ],
      "metadata": {
        "id": "4b-Y6RMMxsCQ"
      }
    }
  ]
}